{
 "cells": [
  {
   "cell_type": "markdown",
   "metadata": {},
   "source": [
    "# Đồ án Thực Hành Lập Trình Khoa Học Dữ Liệu"
   ]
  },
  {
   "cell_type": "code",
   "execution_count": null,
   "metadata": {},
   "outputs": [],
   "source": [
    "import sys\n",
    "sys.executable"
   ]
  },
  {
   "cell_type": "markdown",
   "metadata": {},
   "source": [
    "<h1 style=\"color:orange\">Import thư viện</h1>"
   ]
  },
  {
   "cell_type": "code",
   "execution_count": null,
   "metadata": {},
   "outputs": [],
   "source": [
    "import pandas as pd\n",
    "import matplotlib.pyplot as plt\n",
    "import numpy as np\n",
    "import datetime as dt\n",
    "import seaborn as sns\n",
    "import re"
   ]
  },
  {
   "cell_type": "markdown",
   "metadata": {},
   "source": [
    "---"
   ]
  },
  {
   "cell_type": "markdown",
   "metadata": {},
   "source": [
    "<h1 style=\"color:orange\">Thu thập dữ liệu</h1>"
   ]
  },
  {
   "cell_type": "markdown",
   "metadata": {},
   "source": [
    "- Nhóm sử dụng dữ liệu \"steam_games.csv\" được thu thập sẵn ở trên kaggle. Dữ liệu này là về các game hiện có ở trên steam. Nguồn của dữ liệu được lấy tại: https://www.kaggle.com/datasets/tristan581/all-55000-games-on-steam-november-2022\n",
    "- LICENSE của dữ liệu là [CC BY-SA 4.0](https://creativecommons.org/licenses/by-sa/4.0/), người dùng được phép sử dụng với mục đích phi thương mại và phải credit cho chủ sở hữu\n",
    "- Người ta đã thu thập dữ liệu này bằng cách sử dụng API của steam store và API của web thứ ba (steamspy.com)"
   ]
  },
  {
   "cell_type": "markdown",
   "metadata": {},
   "source": [
    "---"
   ]
  },
  {
   "cell_type": "markdown",
   "metadata": {},
   "source": [
    "<h1 style=\"color:orange\">Khám phá dữ liệu</h1>"
   ]
  },
  {
   "cell_type": "markdown",
   "metadata": {},
   "source": [
    "## Đọc dữ liệu vào dataframe"
   ]
  },
  {
   "cell_type": "code",
   "execution_count": null,
   "metadata": {},
   "outputs": [],
   "source": [
    "steam_df = pd.read_csv('steam_games.csv', sep = ';')\n",
    "steam_df.head()"
   ]
  },
  {
   "cell_type": "markdown",
   "metadata": {},
   "source": [
    "## Dữ liệu có bao nhiêu dòng, bao nhiêu cột?"
   ]
  },
  {
   "cell_type": "markdown",
   "metadata": {},
   "source": [
    "<h4>Tính số dòng và số cột lưu vào hai biến num_rows và num_cols</h4>"
   ]
  },
  {
   "cell_type": "code",
   "execution_count": null,
   "metadata": {},
   "outputs": [],
   "source": [
    "num_rows, num_cols = steam_df.shape\n",
    "num_rows, num_cols"
   ]
  },
  {
   "cell_type": "markdown",
   "metadata": {},
   "source": [
    "## Mỗi dòng có ý nghĩa gì? Có vấn đề các dòng có ý nghĩa khác nhau không?"
   ]
  },
  {
   "cell_type": "markdown",
   "metadata": {},
   "source": [
    "<h4>Mỗi dòng cho biết thông tin của từng sản phẩm hiện có trong steam, không có dòng nào có ý nghĩa khác với các dòng còn lại.</h4>"
   ]
  },
  {
   "cell_type": "markdown",
   "metadata": {},
   "source": [
    "## Tiến hành kiểm tra các dòng có bị lặp không"
   ]
  },
  {
   "cell_type": "markdown",
   "metadata": {},
   "source": [
    "<h4>Kiểm tra bằng cách lưu kết quả vào biến <b>have_duplicated_rows</b>. Biến này có giá trị True nếu dữ liệu có các dòng bị lặp và False nếu ngược lại.</h4>"
   ]
  },
  {
   "cell_type": "code",
   "execution_count": null,
   "metadata": {},
   "outputs": [],
   "source": [
    "duplicated_list = steam_df.duplicated()\n",
    "if True in duplicated_list:\n",
    "    have_duplicated_rows = True\n",
    "else:\n",
    "    have_duplicated_rows = False\n",
    "have_duplicated_rows"
   ]
  },
  {
   "cell_type": "markdown",
   "metadata": {},
   "source": [
    "<h4>Không có dòng nào bị lặp cả</h4>"
   ]
  },
  {
   "cell_type": "markdown",
   "metadata": {},
   "source": [
    "## Mỗi cột có ý nghĩa gì?"
   ]
  },
  {
   "cell_type": "markdown",
   "metadata": {},
   "source": [
    "|STT|Tên cột dữ liệu | <center>Mô tả<center> | Đơn vị |\n",
    "|--|:------:| ---| --- |\n",
    "|1|App ID|<center>ID của sản phẩm<center>|\n",
    "|2|Name| <center>Tên sản phẩm<center>|\n",
    "|3|Short Description|<center>Phần giới thiệu sản phẩm<center>|\n",
    "|4|Developer| <center>Nhà phát triển sản phẩm<center>|  |\n",
    "|5|Publisher|<center>Nhà phân phối sản phẩm<center>|  | \n",
    "|6|Genres|<center>Các thể loại của sản phẩm<center>|\n",
    "|7|Tags|<center>Các tag được gán cho sản phẩm (từ người dùng)<center>|  |\n",
    "|8|Type|<center>Cho biết sản phẩm thuộc loại game hay là phần cứng (các phần mềm không phải game cũng được gán giá trị là game)<center>| |\n",
    "|9|Categories|<center>Các hạng mục/đặc trưng của sản phẩm<center>||\n",
    "|10|Owners|<center>Số lượng người sở hữu sản phẩm<center>| |  \n",
    "|11|Positive Reviews|<center>Số lượt đánh giá tích cực<center>| |\n",
    "|12|Negative Reviews|<center>Số lượt đánh giá tiêu cực<center>| |\n",
    "|13|Price|<center>Giá bán hiện tại của game<center>|USD|\n",
    "|14|Initial Price|<center>Giá bán của game thời điểm mới phát hành<center>| USD|\n",
    "|15|Discount|<center>Phần trăm giảm giá của game<center>| \\%|\n",
    "|16|CCU|<center>Số lượng người chơi đồng thời cao nhất (tính vào ngày 8/11/2021)<center>|  |\n",
    "|17|Languages|<center>Các ngôn ngữ mà sản phẩm có hỗ trợ<center>|  |\n",
    "|18|Platforms|<center>Các nền tảng mà sản phẩm hỗ trợ<center>||\n",
    "|19|Release Date|<center>Ngày phát hành sản phẩm<center>|yyyy/mm/dd\n",
    "|20|Required Age|<center>Độ tuổi giới hạn<center>|\n",
    "|21|Website|<center>Trang web của nhà phát triển/nhà phân phối<center>|\n",
    "|22|Header Image|<center>Đường link lưu ảnh của sản phẩm<center>|\n"
   ]
  },
  {
   "cell_type": "markdown",
   "metadata": {},
   "source": [
    "<h2>Mỗi cột hiện đang có kiểu dữ liệu gì? Có cột nào có kiểu dữ liệu chưa phù hợp để có thể xử lý tiếp hay không?</h2>"
   ]
  },
  {
   "cell_type": "code",
   "execution_count": null,
   "metadata": {},
   "outputs": [],
   "source": [
    "steam_df.columns"
   ]
  },
  {
   "cell_type": "code",
   "execution_count": null,
   "metadata": {},
   "outputs": [],
   "source": [
    "steam_df.info()"
   ]
  },
  {
   "cell_type": "markdown",
   "metadata": {},
   "source": [
    "<h2>Ta thấy một số vấn đề cần giải quyết:</h2>\n",
    "\n",
    "- Lúc đọc dữ liệu từ \"steam_games.csv\", ta có thể thấy warning là:\"Columns (19) have mixed types.\", nghĩa là cột 19(Required Age) có dtype không đồng nhất.<br>\n",
    "- Owner: thể hiện giá trị khoảng.<br>\n",
    "- Release Date cần đưa về dạng datetime<br>"
   ]
  },
  {
   "cell_type": "markdown",
   "metadata": {},
   "source": [
    "<h4>Kiểm tra và xử lý cột <em>Required Age</em> về dạng đồng nhất</h4>"
   ]
  },
  {
   "cell_type": "code",
   "execution_count": null,
   "metadata": {},
   "outputs": [],
   "source": [
    "steam_df['Required Age'].unique()"
   ]
  },
  {
   "cell_type": "code",
   "execution_count": null,
   "metadata": {},
   "outputs": [],
   "source": [
    "def open_object_dtype(s):\n",
    "    dtypes = set(s.apply(type))\n",
    "    return dtypes\n",
    "open_object_dtype(steam_df['Required Age'])"
   ]
  },
  {
   "cell_type": "markdown",
   "metadata": {},
   "source": [
    "- Steam(*https://store.steampowered.com/*) là một nền tảng phân phối trực tuyến, quản lý bản quyền kỹ thuật số, trò chơi điện tử nhiều người chơi, và dịch vụ giao tiếp xã hội trên nền internet phát triển bởi Valve Corporation. Nên các trò chơi điện tử của các quốc gia khác nhau có giới hạn độ tuổi(**Required Age**) khác nhau, sau đây để dễ so sánh và tổng hợp, nhóm mình(em) xin được quy những giới hạn độ tuổi về thang PEGI(*https://pegi.info/what-do-the-labels-mean*).<br>\n",
    "- Ở cột **Requied Age** ta xử lý chuyển đổi thông tin thành dạng sau đây:<br>\n",
    "\t- 3(PEGI 3) – suitable for all ages, \n",
    "\t- 7(PEGI 7) – suitable for young children (age>=7)\n",
    "\t- 12(PEGI 12) – suitable for children 12 and over (age>=12)\n",
    "\t- 16(PEGI 16) – suitable for children 16 and over (age>=16)\n",
    "\t- 18(PEGI 18) – Only suitable for adults (age>=18)"
   ]
  },
  {
   "cell_type": "code",
   "execution_count": null,
   "metadata": {},
   "outputs": [],
   "source": [
    "def trans_age(type_age):\n",
    "    l_age=re.findall(r'\\d{1,2}',str(type_age))\n",
    "    age=int(l_age[0])\n",
    "    if age>=18:\n",
    "        return 18\n",
    "    elif age>=16:\n",
    "        return 16\n",
    "    elif age>=12:\n",
    "        return 12\n",
    "    elif age>=7:\n",
    "        return 7\n",
    "    return 3\n",
    "steam_df['Required Age']=steam_df['Required Age'].apply(trans_age)"
   ]
  },
  {
   "cell_type": "markdown",
   "metadata": {},
   "source": [
    "<h4>Xử lý cột <em>Owners</em> về các khoảng:</h4>"
   ]
  },
  {
   "cell_type": "code",
   "execution_count": null,
   "metadata": {},
   "outputs": [],
   "source": [
    "steam_df.Owners.unique()"
   ]
  },
  {
   "cell_type": "code",
   "execution_count": null,
   "metadata": {},
   "outputs": [],
   "source": [
    "def split_owner(st):\n",
    "    if not(st is np.nan):\n",
    "        st=st.replace(',','')\n",
    "        value=st.split('..')\n",
    "        return tuple([int(value[0]),int(value[1])])\n",
    "    return np.nan\n",
    "steam_df.Owners=steam_df.Owners.apply(split_owner)"
   ]
  },
  {
   "cell_type": "markdown",
   "metadata": {},
   "source": [
    "<h4>Xử lý cột <em>Release Date</em> về đúng dạng chuẩn yyyy/mm/dd</h4>"
   ]
  },
  {
   "cell_type": "code",
   "execution_count": null,
   "metadata": {},
   "outputs": [],
   "source": [
    "steam_df['Release Date']=steam_df['Release Date'].astype('datetime64[s]')"
   ]
  },
  {
   "cell_type": "code",
   "execution_count": null,
   "metadata": {},
   "outputs": [],
   "source": [
    "steam_df.head()"
   ]
  },
  {
   "cell_type": "markdown",
   "metadata": {},
   "source": [
    "## Phân bố dữ liệu ở các cột:"
   ]
  },
  {
   "cell_type": "markdown",
   "metadata": {},
   "source": [
    "<h3>Với các cột có kiểu dữ liệu dạng số:</h3>\n",
    "\n",
    "Với các cột có kiểu dữ liệu số, ta tính:\n",
    "\n",
    "- Tỉ lệ % các giá trị thiếu\n",
    "- Giá trị min\n",
    "- Giá trị max"
   ]
  },
  {
   "cell_type": "code",
   "execution_count": null,
   "metadata": {},
   "outputs": [],
   "source": [
    "numeric_cols=steam_df[steam_df.select_dtypes(include=[int,'datetime64[ns]']).columns]\n",
    "\n",
    "def missing_ratio(col):\n",
    "    return np.round(col.isna().sum()/len(col)*100,4)\n",
    "def min(col):\n",
    "    return col.min()\n",
    "def max(col):\n",
    "    return col.max()\n",
    "\n",
    "num_col_profiles_df=numeric_cols.agg([missing_ratio,min,max])\n",
    "num_col_profiles_df"
   ]
  },
  {
   "cell_type": "markdown",
   "metadata": {},
   "source": [
    "<h3>Với các cột có kiểu dữ liệu không phải là dạng số:</h3>"
   ]
  },
  {
   "cell_type": "markdown",
   "metadata": {},
   "source": [
    "Với các dữ liệu không phải số:\n",
    "\n",
    "- Ta thấy các cột chưa đúng dạng chuẩn *(Bị thừa các ký tự không cần thiết, nội dung giống nhau nhưng sắp xếp khác nhau)*.\n",
    "- Với các cột **Name, Short Description,Website, Header Image** là những cột chứa thông tin đặc trưng của từng game, nên giá trị phân bố là trải rộng đều với nhau.\n",
    "- Ngoài ra các cột như Developer, Publisher với số lượng các giá trị lớn, nên khi tính % phân bố sẽ gần như là 0, nên ở phần ratio_value chỉ xuất số lượng của giá trị đó\n",
    "- Với cột **Tags** chứa thông tin của từng Genre của game *(người dùng tag)* nên ở đây ta cũng không xét phân bố như thế nào"
   ]
  },
  {
   "cell_type": "code",
   "execution_count": null,
   "metadata": {},
   "outputs": [],
   "source": [
    "object_cols=steam_df.loc[:,['Developer', 'Publisher', 'Genre', 'Type','Categories', 'Owners', 'Languages', 'Platforms']]\n",
    "def split_str(st):\n",
    "    if not (st is np.nan):\n",
    "        return st.split(',')\n",
    "    return []\n",
    "num_value={}\n",
    "ratio_values={}"
   ]
  },
  {
   "cell_type": "markdown",
   "metadata": {},
   "source": [
    "<h3>Developer</h3>"
   ]
  },
  {
   "cell_type": "markdown",
   "metadata": {},
   "source": [
    "Ở 2 cột Developer và Publisher với số lượng lớn, cùng một nội dung nhưng thứ tự khác nhau:\n",
    "- Ví dụ: *Atomic Fabrik, Cristian Manolachi* và *Cristian Manolachi, Atomic Fabrik * và *Cristian Manolachi, AtomicFabrik * \n",
    "- Các kí tự \"\\,\" và \"\\.\" xuất hiện không có quy lụât lắm. Dẫn đến một số khó khắn chưa thể xử lý dữ liệu tối ưu nhất cho việc phân tích\n",
    "- Các kí tự hoa, thường còn chưa theo một chuẩn nào"
   ]
  },
  {
   "cell_type": "code",
   "execution_count": null,
   "metadata": {},
   "outputs": [],
   "source": [
    "steam_df.Developer.unique()[:100]"
   ]
  },
  {
   "cell_type": "code",
   "execution_count": null,
   "metadata": {},
   "outputs": [],
   "source": [
    "def lower_str(st):\n",
    "    if not (st is np.nan):\n",
    "        return st.lower()\n",
    "    return \"\"\n",
    "\n",
    "def convert_co_inc(st):\n",
    "    if not (st is np.nan):\n",
    "        st = re.sub(\" +ltd.?[ .]*\",\"ltd.,\", st)\n",
    "        st= re.sub(\" +inc.?[ .]*\",\"inc.,\", st)\n",
    "        st= re.sub(\" +llc.?[ .]*\",\"llc.,\", st)\n",
    "        return re.sub(r\" *, *(?!inc|ltd|llc)\",\";\", st)\n",
    "    return \"\"\n",
    "def split_dev(st):\n",
    "    if not (st is np.nan):\n",
    "        return st.split(';')\n",
    "    return []\n",
    "\n",
    "# Xử lý dữ liẹu\n",
    "col=steam_df.Developer.apply(lower_str).apply(convert_co_inc).apply(split_dev).explode().str.strip()\n",
    "\n",
    "# Trả dữ liệu đã xử lý về cho cột Developer\n",
    "steam_df.Developer=col.groupby(col.index).apply(lambda st: ';'.join(st)).replace('',np.nan)\n",
    "\n",
    "# Tính phân bố dữ liệu\n",
    "ratio_value=col.replace(\"\",np.nan).value_counts()\n",
    "num_value.update({\"Developer\":len(ratio_value)})\n",
    "ratio_values.update({\"Developer\":str(ratio_value.to_dict())})"
   ]
  },
  {
   "cell_type": "markdown",
   "metadata": {},
   "source": [
    "<h3>Publisher</h3>"
   ]
  },
  {
   "cell_type": "markdown",
   "metadata": {},
   "source": [
    "Cột **Publisher** được sử lý tương tự như cột **Developer**"
   ]
  },
  {
   "cell_type": "code",
   "execution_count": null,
   "metadata": {},
   "outputs": [],
   "source": [
    "# Xử lý dữ liẹu\n",
    "col=steam_df.Publisher.apply(lower_str).apply(convert_co_inc).apply(split_dev).explode().str.strip()\n",
    "\n",
    "# Trả dữ liệu đã xử lý về cho cột Developer\n",
    "steam_df.Publisher=col.groupby(col.index).apply(lambda st: ';'.join(st)).replace('',np.nan)\n",
    "\n",
    "# Tính phân bố dữ liệu\n",
    "ratio_value=col.replace(\"\",np.nan).value_counts()\n",
    "num_value.update({\"Publisher\":len(ratio_value)})\n",
    "ratio_values.update({\"Publisher\":str(ratio_value.to_dict())})\n"
   ]
  },
  {
   "cell_type": "markdown",
   "metadata": {},
   "source": [
    "<h3>Genre</h3>"
   ]
  },
  {
   "cell_type": "code",
   "execution_count": null,
   "metadata": {},
   "outputs": [],
   "source": [
    "steam_df.Genre.apply(split_str).explode().unique()"
   ]
  },
  {
   "cell_type": "markdown",
   "metadata": {},
   "source": [
    "Ở cột **Genre** ta chỉ cần xử lý các khoảng trắng bị thừa ở phìa trước và sau."
   ]
  },
  {
   "cell_type": "code",
   "execution_count": null,
   "metadata": {},
   "outputs": [],
   "source": [
    "# Xử lý dữ liệu\n",
    "col=steam_df.Genre.apply(split_str).explode().str.strip().replace(np.nan,'')\n",
    "\n",
    "# Trả dữ liệu đã xử lý về lại cột Genre\n",
    "steam_df.Genre=col.groupby(col.index).apply(lambda st:','.join(st)).replace('',np.nan)\n",
    "\n",
    "# Tính phân bố dữ liệu\n",
    "col=col.replace('',np.nan)\n",
    "ratio_value=np.round(col.value_counts(normalize=True).multiply(100),4)\n",
    "num_value.update({\"Genre\":len(ratio_value)})\n",
    "ratio_values.update({\"Genre\":str(ratio_value.to_dict())})"
   ]
  },
  {
   "cell_type": "markdown",
   "metadata": {},
   "source": [
    "<h3>Type</h3>"
   ]
  },
  {
   "cell_type": "code",
   "execution_count": null,
   "metadata": {},
   "outputs": [],
   "source": [
    "steam_df.Type.unique()"
   ]
  },
  {
   "cell_type": "markdown",
   "metadata": {},
   "source": [
    "Ở cột **Type** các dữ liệu đã ở đúng dạng chuẩn để phân tích, nên ta chỉ thực hiện bước tính phân bố dữ liệu"
   ]
  },
  {
   "cell_type": "code",
   "execution_count": null,
   "metadata": {},
   "outputs": [],
   "source": [
    "ratio_value=np.round(steam_df.Type.value_counts(normalize=True).multiply(100))\n",
    "num_value.update({\"Type\":len(ratio_value)})\n",
    "ratio_values.update({\"Type\":str(ratio_value.to_dict())})"
   ]
  },
  {
   "cell_type": "markdown",
   "metadata": {},
   "source": [
    "<h3>Owners</h3>"
   ]
  },
  {
   "cell_type": "code",
   "execution_count": null,
   "metadata": {},
   "outputs": [],
   "source": [
    "steam_df.Owners.unique()"
   ]
  },
  {
   "cell_type": "markdown",
   "metadata": {},
   "source": [
    "Ở cột Owners ta đã xử lý ở phần trên nên cũng chỉ cần thực hiện phần tính phân bố dữ liệu"
   ]
  },
  {
   "cell_type": "code",
   "execution_count": null,
   "metadata": {},
   "outputs": [],
   "source": [
    "ratio_value=np.round(steam_df.Owners.value_counts(normalize=True).multiply(100))\n",
    "num_value.update({\"Owners\":len(ratio_value)})\n",
    "ratio_values.update({\"Owners\":str(ratio_value.to_dict())})"
   ]
  },
  {
   "cell_type": "markdown",
   "metadata": {},
   "source": [
    "<h3>Categories</h3>"
   ]
  },
  {
   "cell_type": "code",
   "execution_count": null,
   "metadata": {},
   "outputs": [],
   "source": [
    "steam_df.Categories.apply(split_str).explode().unique()"
   ]
  },
  {
   "cell_type": "markdown",
   "metadata": {},
   "source": [
    "Ở cột **Categories** ta chỉ cần xử lý các khoảng trắng bị thừa ở phìa trước và sau."
   ]
  },
  {
   "cell_type": "code",
   "execution_count": null,
   "metadata": {},
   "outputs": [],
   "source": [
    "# Xử lý dữ liệu\n",
    "col=steam_df.Categories.apply(split_str).explode().str.strip().replace(np.nan,'')\n",
    "\n",
    "# Trả giá trị đã xử lý về lại cột Categories\n",
    "steam_df.Categories=col.groupby(col.index).apply(lambda st:','.join(st)).replace('',np.nan)\n",
    "\n",
    "# Tính phân bố dữ liệu\n",
    "col=col.replace('',np.nan)\n",
    "ratio_value=np.round(col.value_counts(normalize=True).multiply(100))\n",
    "num_value.update({\"Categories\":len(ratio_value)})\n",
    "ratio_values.update({\"Categories\":str(ratio_value.to_dict())})"
   ]
  },
  {
   "cell_type": "markdown",
   "metadata": {},
   "source": [
    "<h3>Languages</h3>"
   ]
  },
  {
   "cell_type": "code",
   "execution_count": null,
   "metadata": {},
   "outputs": [],
   "source": [
    "steam_df.Languages.apply(split_str).explode().unique()"
   ]
  },
  {
   "cell_type": "markdown",
   "metadata": {},
   "source": [
    "Ở cột **Languages** ta thấy được rất nhiều kí tự không đúng chuẩn, dẫn đến lúc phân tích các dữ liệu không đúng:\n",
    "- Lẫn các kí từ : \\r\\n , \\[b]*[/b], \\n\n",
    "- Các tên ngôn ngữ bị lỗi: #lang_slovakian\n",
    "- English, Not supported : được hiểu là ngôn ngữ Tiếng Anh không được hỗ trợ\n",
    "- Các ngôn ngữ: Spanish - Latin America , Portuguese - Brazil, Spanish - Spain, Spanish - Latin America sẽ chỉ lấy những ngôn ngữ chính ở phía trước\n",
    "\n",
    "Chúng ta sẽ bắt đầu xử lý những vấn đề trên"
   ]
  },
  {
   "cell_type": "code",
   "execution_count": null,
   "metadata": {},
   "outputs": [],
   "source": [
    "def clean_lang(lang_str):\n",
    "    if not (lang_str is np.nan):\n",
    "        return lang_str.replace('\\r\\n',',').replace('English, Not supported','English Not supported').replace('\\n',',').replace('[b]*[/b]','').replace(';','').replace('#lang_slovakian', 'Slovak')\n",
    "    return \"\"\n",
    "\n",
    "# Xử lý dữ liệu\n",
    "col=steam_df.Languages.apply(clean_lang).apply(split_str).explode().str.strip().apply(lambda st: st.split('-')[0].strip())\n",
    "\n",
    "# Trả dữ liệu đã xử lý về  cho cột Languages\n",
    "steam_df.Languages=col.groupby(col.index).apply(lambda st: ','.join(st)).replace('^ *$',np.nan,regex=True)\n",
    "# Tính phần bố dữ liệu\n",
    "col=col.replace('',np.nan)\n",
    "ratio_value=np.round(col.value_counts(normalize=True).multiply(100),4)\n",
    "num_value.update({\"Languages\":len(ratio_value)})\n",
    "ratio_values.update({\"Languages\":str(ratio_value.to_dict())})"
   ]
  },
  {
   "cell_type": "markdown",
   "metadata": {},
   "source": [
    "<h3>Platforms</h3>"
   ]
  },
  {
   "cell_type": "code",
   "execution_count": null,
   "metadata": {},
   "outputs": [],
   "source": [
    "steam_df.Platforms.apply(split_str).explode().unique()"
   ]
  },
  {
   "cell_type": "markdown",
   "metadata": {},
   "source": [
    "Ở cột **Platforms** ta chỉ cần xử lý các khoảng trắng bị thừa ở phìa trước và sau."
   ]
  },
  {
   "cell_type": "code",
   "execution_count": null,
   "metadata": {},
   "outputs": [],
   "source": [
    "# Xử lý dữ liệu\n",
    "col = steam_df.Platforms.apply(split_str).explode().str.strip().replace(np.nan,'')\n",
    "\n",
    "# Trả dữ liệu đã xử lý về cho cột Platforms\n",
    "steam_df.Platforms=col.groupby(col.index).apply(lambda st:','.join(st)).replace('',np.nan)\n",
    "\n",
    "# Tính phân bố của dữ liệu\n",
    "col=col.replace('',np.nan)\n",
    "ratio_value=np.round(col.value_counts(normalize=True).multiply(100),4)\n",
    "num_value.update({\"Platforms\":len(ratio_value)})\n",
    "ratio_values.update({\"Platforms\":str(ratio_value.to_dict())})"
   ]
  },
  {
   "cell_type": "markdown",
   "metadata": {},
   "source": [
    "<h4>Bảng phân bố dữ liệu <b>không</b> phải là dữ liệu số</h4>"
   ]
  },
  {
   "cell_type": "code",
   "execution_count": null,
   "metadata": {},
   "outputs": [],
   "source": [
    "obj_col_profiles_df=object_cols.agg([missing_ratio])\n",
    "obj_col_profiles_df=obj_col_profiles_df.append(pd.DataFrame(num_value, index=[0]))\n",
    "obj_col_profiles_df.rename(index={0:'num_value'},inplace=True)\n",
    "obj_col_profiles_df=obj_col_profiles_df.append(pd.DataFrame(ratio_values,index=[0]))\n",
    "obj_col_profiles_df.rename(index={0:'ratio_value'},inplace=True)"
   ]
  },
  {
   "cell_type": "code",
   "execution_count": null,
   "metadata": {},
   "outputs": [],
   "source": [
    "# pd.set_option('display.max_colwidth',200)\n",
    "obj_col_profiles_df\n"
   ]
  },
  {
   "cell_type": "markdown",
   "metadata": {},
   "source": [
    "## Đưa ra các câu hỏi"
   ]
  },
  {
   "cell_type": "markdown",
   "metadata": {},
   "source": [
    "YOUR TEXT HERE"
   ]
  },
  {
   "cell_type": "markdown",
   "metadata": {},
   "source": [
    "<h3>Câu 4: Tương quan số lượng người sở hữu game và giá tiền của game. Từ đó đưa ra nhận xét giá tiền của một game có ảnh hưởng đến số lượng người sở hữu game đó hay không?</h3>\n",
    "\n",
    "- Ý nghĩa khi trả lời câu hỏi:\n",
    "    - Trong quá trình phân tích quan sát các biểu đồ được vẽ ra, giúp thấy được khái quát qua được dữ liệu thể hiện những gì, phân bố như thế nào\n",
    "    - Trả lời được câu hỏi liệu rằng, chưa quan tâm đến nội dung, nhưng gần như các game được nhiều người sở hữu thì rẻ.\n",
    "- Các bước thực hiện:\n",
    "    - Bước 1: Xem xét sử dụng cột giá tiền nào Price hay Initial Price\n",
    "    - Bước 2: Thống kê xem số lượng game theo các khoảng người sở hữu game: giúp biết được khoảng người sở hữu game nào đang có nhiều game nhất và chiếm bao nhiêu %\n",
    "    - Bước 3: Lấy khoảng người sở hữu game có nhiều game nhất để phân tich thử: trung bình, trung vị, mode, giá sẽ tập trung như thể nào,...\n",
    "    - Bước 4: Vẽ biểu đồ tương quan với các khoảng khác: thấy được sự thay đổi của các thông số thống kê.\n",
    "    - Bước 5: Tìm tương quan giữa giá tiền và số lượng người sở hữu"
   ]
  },
  {
   "cell_type": "markdown",
   "metadata": {},
   "source": [
    "<h4>Bước 1: Xét độ tương quan giữa cột <b>Price</b> và cột <b>Initial Price</b>:</h4>"
   ]
  },
  {
   "cell_type": "code",
   "execution_count": null,
   "metadata": {},
   "outputs": [],
   "source": [
    "steam_df.Price.corr(steam_df['Initial Price'])"
   ]
  },
  {
   "cell_type": "markdown",
   "metadata": {},
   "source": [
    "<h4>Nhận xét:</h4>\n",
    "\n",
    "- Ta thấy độ tương quan giữa 2 cột là 98.82%, nên xem như có thể dùng 1 trong 2 cột để so sánh gần như ra kết quả tương đương nhau\n",
    "- Ở đây nhóm sử dụng giá hiện tại **(Price)** để thực hiện giải đáp câu hỏi"
   ]
  },
  {
   "cell_type": "markdown",
   "metadata": {},
   "source": [
    "<h4>Bước 2: Thống kê số lượng game và số lượng người sở hữu</h4>"
   ]
  },
  {
   "cell_type": "code",
   "execution_count": null,
   "metadata": {},
   "outputs": [],
   "source": [
    "owners_game=steam_df.Owners.value_counts()\n",
    "owners_game"
   ]
  },
  {
   "cell_type": "markdown",
   "metadata": {},
   "source": [
    "<h5>Vẽ biểu đồ để thấy sự chênh lệch số lượng như thế nào</h5>"
   ]
  },
  {
   "cell_type": "code",
   "execution_count": null,
   "metadata": {},
   "outputs": [],
   "source": [
    "\n",
    "fig =plt.subplots(figsize=(20,8))\n",
    "\n",
    "owner=np.array(owners_game.keys())\n",
    "for i in range(len(owner)):\n",
    "    owner[i]=str(owner[i])\n",
    "num_game=np.array(owners_game.values)\n",
    "plt.barh(owner,num_game,zorder=3)\n",
    "plt.xlabel('Số lượng game')\n",
    "plt.ylabel('Khoảng người sở hữu')\n",
    "plt.title('Thống kê số lượng game theo số lượng người sở hữu game')\n",
    "plt.grid(linestyle = '--', linewidth = 0.5)\n",
    "plt.show()"
   ]
  },
  {
   "cell_type": "markdown",
   "metadata": {},
   "source": [
    "<h4>Nhận xét:</h4>\n",
    "\n",
    "- Các game với số lượng người chơi ít *(0,20000)* chiếm xấp xỉ 70% tất các các game trong danh sách game.\n",
    "- Tỉ lệ nghịch giữa số lượng người chơi game với số lượng game: game càng có nhiều người sở hữu thì số lượng của game đó ít và ngược lại"
   ]
  },
  {
   "cell_type": "markdown",
   "metadata": {},
   "source": [
    "<h4>Bước 3: Xét game có số lượng người sở hữu (0,20000) </h4>"
   ]
  },
  {
   "cell_type": "code",
   "execution_count": null,
   "metadata": {},
   "outputs": [],
   "source": [
    "low_owner=steam_df[steam_df.Owners==(0, 20000)]"
   ]
  },
  {
   "cell_type": "markdown",
   "metadata": {},
   "source": [
    "<h5>Tính các thông số thống kê"
   ]
  },
  {
   "cell_type": "code",
   "execution_count": null,
   "metadata": {},
   "outputs": [],
   "source": [
    "def q1(x):\n",
    "    return x.quantile(0.25)\n",
    "def interval_zone(col):\n",
    "    return tuple(np.round([col.mean()-3*col.std(),col.mean()+3*col.std()],1))\n",
    "def mode(col):\n",
    "    return pd.Series.mode(col)[0]\n",
    "# 90th Percentile\n",
    "def q3(x):\n",
    "    return x.quantile(0.75)\n",
    "info_price=low_owner.Price.agg(['min','max','mean',mode,'median','std', q1,q3,interval_zone])\n",
    "info_price"
   ]
  },
  {
   "cell_type": "markdown",
   "metadata": {},
   "source": [
    "<h4>Nhận xét:</h4>\n",
    "\n",
    "- 99% dữ liệu phân bố trong khoảng (-1432.2,3988.3), mà giá tiền không âm, nên khoảng phân bố 99% dữ liệu được hiểu là trong khoảng (0,3988.3) USD.\n",
    "- Dữ liệu lệch phải (mean>median, mean>mode và mode=median)\n",
    "- Ta thấy dữ liệu có độ lệch chuẩn hơn 1000, nên có thể đoán dự đoán được, dữ liệu bị nhiễu (do max=99900, gấp 99 lần độ lệch chuẩn)"
   ]
  },
  {
   "cell_type": "markdown",
   "metadata": {},
   "source": [
    "<h5>Xử lý và vẽ biểu đồ:</h5>\n",
    "\n",
    "- Độ nhiễu lớn, nên chỉ thực hiện vẽ trong khoảng phân bố 95% dữ liệu để tiện cho việc quan sát."
   ]
  },
  {
   "cell_type": "markdown",
   "metadata": {},
   "source": [
    "<h5>Lấy khoảng giá trị trên cho dữ liệu</h5>"
   ]
  },
  {
   "cell_type": "code",
   "execution_count": null,
   "metadata": {},
   "outputs": [],
   "source": [
    "upper_interval=int(info_price.iloc[8][1])\n",
    "upper_interval"
   ]
  },
  {
   "cell_type": "code",
   "execution_count": null,
   "metadata": {},
   "outputs": [],
   "source": [
    "low_owner_plot=low_owner[low_owner.Price<=upper_interval]"
   ]
  },
  {
   "cell_type": "markdown",
   "metadata": {},
   "source": [
    "<h5>Tính số lượng game theo giá tiền</h5>"
   ]
  },
  {
   "cell_type": "code",
   "execution_count": null,
   "metadata": {},
   "outputs": [],
   "source": [
    "price_low_owner=low_owner_plot.Price.value_counts().sort_index()\n",
    "display(price_low_owner)"
   ]
  },
  {
   "cell_type": "markdown",
   "metadata": {},
   "source": [
    "<h5>Vẽ biểu đồ đường </h5>"
   ]
  },
  {
   "cell_type": "code",
   "execution_count": null,
   "metadata": {},
   "outputs": [],
   "source": [
    "fig =plt.subplots(figsize=(20,8))\n",
    "\n",
    "price=np.array(price_low_owner.keys())\n",
    "num_game=np.array(price_low_owner.values)\n",
    "\n",
    "plt.plot(price,num_game,linestyle='-',linewidth=1,label='số lượng game')\n",
    "plt.xlabel('Giá tiền (USD)')\n",
    "plt.ylabel('Số lượng game')\n",
    "plt.title('Biểu đồ đường: Thống kê số lượng game theo giá tiền')\n",
    "plt.legend(loc='upper left')\n",
    "plt.xticks(range(0,price[-1],200))\n",
    "plt.grid(True)\n",
    "plt.show()"
   ]
  },
  {
   "cell_type": "markdown",
   "metadata": {},
   "source": [
    "<h5>Vẽ biểu đồ histogram</h5>"
   ]
  },
  {
   "cell_type": "code",
   "execution_count": null,
   "metadata": {},
   "outputs": [],
   "source": [
    "fig =plt.subplots(figsize=(20,8))\n",
    "\n",
    "plt.hist(low_owner_plot.Price,bins=50)\n",
    "plt.xlabel('Giá tiền (USD)')\n",
    "plt.ylabel('Số lượng game')\n",
    "plt.title('Biểu histogram: Số lượng game, giá tiền')\n",
    "plt.xticks(range(0,price[-1],200))\n",
    "plt.show()"
   ]
  },
  {
   "cell_type": "markdown",
   "metadata": {},
   "source": [
    "<h5>Vẽ biểu đồ hộp nhé</h5>"
   ]
  },
  {
   "cell_type": "code",
   "execution_count": null,
   "metadata": {},
   "outputs": [],
   "source": [
    "fig =plt.subplots(figsize=(8,12))\n",
    "\n",
    "y_range=range(0,int(upper_interval),200)\n",
    "sns.set()\n",
    "sns.boxplot(x='Owners',y='Price',data=low_owner_plot,showmeans=True,width=0.8)\n",
    "\n",
    "plt.yticks(y_range)\n",
    "plt.title('Biểu diễn quan hệ giữa số lượng người sở hữu và giá tiền')\n",
    "plt.show()\n"
   ]
  },
  {
   "cell_type": "markdown",
   "metadata": {},
   "source": [
    "<h4>Nhận xét:</h4>\n",
    "\n",
    "- Biểu đồ đường, histogram:\n",
    "    - Ta thấy các game sẽ có giá tiền ở một số mức cố định như: 0, 99, 199, 399, 499,... Nhưng không làm tròn lên thành các mức giá chia hết cho 100 để đánh vào [tâm lý người mua](https://khoahoc.tv/tai-sao-gia-san-pham-thuong-duoc-niem-yet-thanh-so-le-106021#:~:text=Khuy%E1%BA%BFn%20m%C3%A3i%20gi%E1%BA%A3m%20gi%C3%A1%20l%C3%A0,ngh%C3%ACn%20v%E1%BA%ADy%20nh%C6%B0ng%20th%E1%BB%B1c%20ra)\n",
    "    - Giá tiền mua game tập trung dưới 1000USD.\n",
    "- Biểu đồ hộp:\n",
    "    - 75% số game được mua ở giá 0-1000USD. Trong đó 25% số lượng game được mua ở mức giá dưới 200 USD và 50% số game mua ở giá nằm trong đoạn [200,1000]."
   ]
  },
  {
   "cell_type": "markdown",
   "metadata": {},
   "source": [
    "<h4>Bước 3: So sánh trên toàn bộ khoảng người sở hữu</h4>"
   ]
  },
  {
   "cell_type": "code",
   "execution_count": null,
   "metadata": {},
   "outputs": [],
   "source": [
    "\n",
    "info_price_all=steam_df.groupby('Owners')['Price'].agg(['min','max','mean',mode,'median','std', q1,q3,interval_zone])\n",
    "info_price_all"
   ]
  },
  {
   "cell_type": "markdown",
   "metadata": {},
   "source": [
    "<h5>Ta thấy khoảng phân bố 99% của lượng người sở hữu game trong khoảng **(5000000, 10000000)** là lớn nhất, nên ta sẽ lấy dữ liệu trong khoảng này để so sánh tổng thể giữa các lượng người sở hữu khác.</h5>"
   ]
  },
  {
   "cell_type": "markdown",
   "metadata": {},
   "source": [
    "<h5>Lấy khoảng giá trị trên của dữ liệu</h5>"
   ]
  },
  {
   "cell_type": "code",
   "execution_count": null,
   "metadata": {},
   "outputs": [],
   "source": [
    "upper_interval_all=int(info_price_all.iloc[8][8][1])\n",
    "upper_interval_all"
   ]
  },
  {
   "cell_type": "code",
   "execution_count": null,
   "metadata": {},
   "outputs": [],
   "source": [
    "owner_plot=steam_df[steam_df.Price<=upper_interval_all].sort_values('Owners')\n",
    "owner_plot.head()"
   ]
  },
  {
   "cell_type": "code",
   "execution_count": null,
   "metadata": {},
   "outputs": [],
   "source": [
    "fig=plt.subplots(figsize=(22,12))\n",
    "\n",
    "y_range=range(0,upper_interval_all,200)\n",
    "\n",
    "sns.boxplot(x='Owners',y='Price',data=owner_plot,width=0.8,showmeans=True,meanprops={'markerfacecolor':'red',\"markeredgecolor\":'red'})\n",
    "plt.yticks(y_range)\n",
    "plt.setp(plt.gca().get_xticklabels(), rotation=-65, horizontalalignment='center')\n",
    "plt.show()"
   ]
  },
  {
   "cell_type": "markdown",
   "metadata": {},
   "source": [
    "<h4>Nhận xét:</h4>\n",
    "\n",
    "- Trung bình giá mua tăng dần theo theo số lượng người sở hữu. Nhưng đến 1 khoảng nào đó, giá mua game sẽ giảm dần.\n",
    "- Giá tiền ở những game có số lượng người người sở hữu (2000000, 5000000) có giá mua game rộng nhất (75% số lượng game mua ở giá dưới 2800USD)\n",
    "- Ở những khoảng người sở hữu game (1000000-2000000), lớn hơn 5000000: thì có 25% số lượng game là miễn phí 0 USD."
   ]
  },
  {
   "cell_type": "markdown",
   "metadata": {},
   "source": [
    "<h4>Bước 4: Nhận xét giá tiền có liên quan điến số lượng người sở hữu không</h4>"
   ]
  },
  {
   "cell_type": "code",
   "execution_count": null,
   "metadata": {},
   "outputs": [],
   "source": [
    "owner_price_df=steam_df.loc[:,['Owners','Price']].copy()\n",
    "owner_price_df"
   ]
  },
  {
   "cell_type": "markdown",
   "metadata": {},
   "source": [
    "<h5>Thực hiện kiểm định [ANOVA một chiều](https://trithuccongdong.net/tai-lieu-spss/kiem-dinh-anova-trong-spss.html)</h5>\n",
    "\n",
    "- One-way ANOVA là một loại thử nghiệm thống kê nhằm đánh giá tác động của một biến độc lập duy nhất lên một biến phản hồi duy nhất. Nó giúp xác định xem tất cả các mẫu có giống nhau hay không."
   ]
  },
  {
   "cell_type": "markdown",
   "metadata": {},
   "source": [
    "<h5>H0: Không có mối tương quan giữa giá mua game(Price) và số lượng người sở hữu(Owners):</h5>\n",
    "\n",
    "- P-value>0.05: Chấp nhận giả thuyết H0\n",
    "- P-value<<0.05: Bác bỏ H0"
   ]
  },
  {
   "cell_type": "code",
   "execution_count": null,
   "metadata": {},
   "outputs": [],
   "source": [
    "from scipy.stats import f_oneway\n",
    "CategoryGroupLists=owner_price_df.groupby('Owners')['Price'].apply(list)\n",
    "AnovaResults = f_oneway(*CategoryGroupLists)\n",
    "print('P-Value for Anova is: ', AnovaResults[1])"
   ]
  },
  {
   "cell_type": "markdown",
   "metadata": {},
   "source": [
    "<h4>Nhận xét:</h4>\n",
    "\n",
    "- Ta thấy giá trị P gần như bằng không, do đó, chúng tôi bác bỏ H0. Điều này có nghĩa là các biến có tương quan với nhau."
   ]
  },
  {
   "cell_type": "markdown",
   "metadata": {},
   "source": [
    "<h3>Kết luận: Số lượng người sở hữu game có phụ thuộc vào giá tiền của game đó</h3>"
   ]
  },
  {
   "cell_type": "markdown",
   "metadata": {},
   "source": []
  }
 ],
 "metadata": {
  "kernelspec": {
   "display_name": "Python 3 (ipykernel)",
   "language": "python",
   "name": "python3"
  },
  "language_info": {
   "codemirror_mode": {
    "name": "ipython",
    "version": 3
   },
   "file_extension": ".py",
   "mimetype": "text/x-python",
   "name": "python",
   "nbconvert_exporter": "python",
   "pygments_lexer": "ipython3",
   "version": "3.8.8"
  },
  "vscode": {
   "interpreter": {
    "hash": "8924efdbfc21def2df13188d4eada491bc755f59837026409ba181ab9c858a32"
   }
  }
 },
 "nbformat": 4,
 "nbformat_minor": 2
}
