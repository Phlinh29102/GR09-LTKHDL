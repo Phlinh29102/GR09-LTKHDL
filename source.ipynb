{
 "cells": [
  {
   "cell_type": "markdown",
   "metadata": {},
   "source": [
    "# Đồ án Thực Hành Lập Trình Khoa Học Dữ Liệu"
   ]
  },
  {
   "cell_type": "code",
   "execution_count": 1,
   "metadata": {},
   "outputs": [
    {
     "data": {
      "text/plain": [
       "'/home/echkidieu/miniconda3/envs/min_ds-env/bin/python'"
      ]
     },
     "execution_count": 1,
     "metadata": {},
     "output_type": "execute_result"
    }
   ],
   "source": [
    "import sys\n",
    "sys.executable"
   ]
  },
  {
   "cell_type": "markdown",
   "metadata": {},
   "source": [
    "<h1 style=\"color:orange\">Import thư viện</h1>"
   ]
  },
  {
   "cell_type": "code",
   "execution_count": 2,
   "metadata": {},
   "outputs": [],
   "source": [
    "import pandas as pd\n",
    "import matplotlib.pyplot as plt\n",
    "import numpy as np\n",
    "import datetime as dt\n",
    "import seaborn as sns\n",
    "import re"
   ]
  },
  {
   "cell_type": "markdown",
   "metadata": {},
   "source": [
    "---"
   ]
  },
  {
   "cell_type": "markdown",
   "metadata": {},
   "source": [
    "<h1 style=\"color:orange\">Thu thập dữ liệu</h1>"
   ]
  },
  {
   "cell_type": "markdown",
   "metadata": {},
   "source": [
    "- Nhóm sử dụng dữ liệu \"steam_games.csv\" được thu thập sẵn ở trên kaggle. Dữ liệu này là về các game hiện có ở trên steam. Nguồn của dữ liệu được lấy tại: https://www.kaggle.com/datasets/tristan581/all-55000-games-on-steam-november-2022\n",
    "- LICENSE của dữ liệu là [CC BY-SA 4.0](https://creativecommons.org/licenses/by-sa/4.0/), người dùng được phép sử dụng với mục đích phi thương mại và phải credit cho chủ sở hữu\n",
    "- Người ta đã thu thập dữ liệu này bằng cách sử dụng API của steam store và API của web thứ ba (steamspy.com)"
   ]
  },
  {
   "cell_type": "markdown",
   "metadata": {},
   "source": [
    "---"
   ]
  },
  {
   "cell_type": "markdown",
   "metadata": {},
   "source": [
    "<h1 style=\"color:orange\">Khám phá dữ liệu</h1>"
   ]
  },
  {
   "cell_type": "markdown",
   "metadata": {},
   "source": [
    "## Đọc dữ liệu vào dataframe"
   ]
  },
  {
   "cell_type": "code",
   "execution_count": 3,
   "metadata": {},
   "outputs": [
    {
     "name": "stderr",
     "output_type": "stream",
     "text": [
      "/home/echkidieu/miniconda3/envs/min_ds-env/lib/python3.8/site-packages/IPython/core/interactiveshell.py:3139: DtypeWarning: Columns (19) have mixed types.Specify dtype option on import or set low_memory=False.\n",
      "  has_raised = await self.run_ast_nodes(code_ast.body, cell_name,\n"
     ]
    },
    {
     "data": {
      "text/html": [
       "<div>\n",
       "<style scoped>\n",
       "    .dataframe tbody tr th:only-of-type {\n",
       "        vertical-align: middle;\n",
       "    }\n",
       "\n",
       "    .dataframe tbody tr th {\n",
       "        vertical-align: top;\n",
       "    }\n",
       "\n",
       "    .dataframe thead th {\n",
       "        text-align: right;\n",
       "    }\n",
       "</style>\n",
       "<table border=\"1\" class=\"dataframe\">\n",
       "  <thead>\n",
       "    <tr style=\"text-align: right;\">\n",
       "      <th></th>\n",
       "      <th>App ID</th>\n",
       "      <th>Name</th>\n",
       "      <th>Short Description</th>\n",
       "      <th>Developer</th>\n",
       "      <th>Publisher</th>\n",
       "      <th>Genre</th>\n",
       "      <th>Tags</th>\n",
       "      <th>Type</th>\n",
       "      <th>Categories</th>\n",
       "      <th>Owners</th>\n",
       "      <th>...</th>\n",
       "      <th>Price</th>\n",
       "      <th>Initial Price</th>\n",
       "      <th>Discount</th>\n",
       "      <th>CCU</th>\n",
       "      <th>Languages</th>\n",
       "      <th>Platforms</th>\n",
       "      <th>Release Date</th>\n",
       "      <th>Required Age</th>\n",
       "      <th>Website</th>\n",
       "      <th>Header Image</th>\n",
       "    </tr>\n",
       "  </thead>\n",
       "  <tbody>\n",
       "    <tr>\n",
       "      <th>0</th>\n",
       "      <td>10</td>\n",
       "      <td>Counter-Strike</td>\n",
       "      <td>Play the world's number 1 online action game. ...</td>\n",
       "      <td>Valve</td>\n",
       "      <td>Valve</td>\n",
       "      <td>Action</td>\n",
       "      <td>Action: 5426, FPS: 4831, Multiplayer: 3392, Sh...</td>\n",
       "      <td>game</td>\n",
       "      <td>Multi-player, Valve Anti-Cheat enabled, Online...</td>\n",
       "      <td>10,000,000 .. 20,000,000</td>\n",
       "      <td>...</td>\n",
       "      <td>999</td>\n",
       "      <td>999</td>\n",
       "      <td>0</td>\n",
       "      <td>13990</td>\n",
       "      <td>English, French, German, Italian, Spanish - Sp...</td>\n",
       "      <td>windows, mac, linux</td>\n",
       "      <td>2000/11/1</td>\n",
       "      <td>0</td>\n",
       "      <td>NaN</td>\n",
       "      <td>https://cdn.akamai.steamstatic.com/steam/apps/...</td>\n",
       "    </tr>\n",
       "    <tr>\n",
       "      <th>1</th>\n",
       "      <td>1000000</td>\n",
       "      <td>ASCENXION</td>\n",
       "      <td>ASCENXION is a 2D shoot 'em up game where you ...</td>\n",
       "      <td>IndigoBlue Game Studio</td>\n",
       "      <td>PsychoFlux Entertainment</td>\n",
       "      <td>Action, Adventure, Indie</td>\n",
       "      <td>\"Shoot Em Up\": 186, Metroidvania: 181, Bullet ...</td>\n",
       "      <td>game</td>\n",
       "      <td>Single-player, Partial Controller Support, Ste...</td>\n",
       "      <td>0 .. 20,000</td>\n",
       "      <td>...</td>\n",
       "      <td>999</td>\n",
       "      <td>999</td>\n",
       "      <td>0</td>\n",
       "      <td>0</td>\n",
       "      <td>English, Korean, Simplified Chinese</td>\n",
       "      <td>windows</td>\n",
       "      <td>2021/05/14</td>\n",
       "      <td>0</td>\n",
       "      <td>NaN</td>\n",
       "      <td>https://cdn.akamai.steamstatic.com/steam/apps/...</td>\n",
       "    </tr>\n",
       "    <tr>\n",
       "      <th>2</th>\n",
       "      <td>1000010</td>\n",
       "      <td>Crown Trick</td>\n",
       "      <td>Enter a labyrinth that moves as you move, wher...</td>\n",
       "      <td>NEXT Studios</td>\n",
       "      <td>Team17, NEXT Studios</td>\n",
       "      <td>Adventure, Indie, RPG, Strategy</td>\n",
       "      <td>Rogue-like: 268, Turn-Based Combat: 254, RPG: ...</td>\n",
       "      <td>game</td>\n",
       "      <td>Single-player, Partial Controller Support, Ste...</td>\n",
       "      <td>200,000 .. 500,000</td>\n",
       "      <td>...</td>\n",
       "      <td>599</td>\n",
       "      <td>1999</td>\n",
       "      <td>70</td>\n",
       "      <td>99</td>\n",
       "      <td>Simplified Chinese, English, Japanese, Traditi...</td>\n",
       "      <td>windows</td>\n",
       "      <td>2020/10/16</td>\n",
       "      <td>0</td>\n",
       "      <td>NaN</td>\n",
       "      <td>https://cdn.akamai.steamstatic.com/steam/apps/...</td>\n",
       "    </tr>\n",
       "    <tr>\n",
       "      <th>3</th>\n",
       "      <td>1000030</td>\n",
       "      <td>Cook, Serve, Delicious! 3?!</td>\n",
       "      <td>Cook, serve and manage your food truck as you ...</td>\n",
       "      <td>Vertigo Gaming Inc.</td>\n",
       "      <td>Vertigo Gaming Inc.</td>\n",
       "      <td>Action, Indie, Simulation, Strategy</td>\n",
       "      <td>Typing: 221, Management: 213, Casual: 209, Dif...</td>\n",
       "      <td>game</td>\n",
       "      <td>Multi-player, Single-player, Co-op, Steam Achi...</td>\n",
       "      <td>100,000 .. 200,000</td>\n",
       "      <td>...</td>\n",
       "      <td>1999</td>\n",
       "      <td>1999</td>\n",
       "      <td>0</td>\n",
       "      <td>76</td>\n",
       "      <td>English</td>\n",
       "      <td>windows, mac</td>\n",
       "      <td>2020/10/14</td>\n",
       "      <td>0</td>\n",
       "      <td>http://www.cookservedelicious.com</td>\n",
       "      <td>https://cdn.akamai.steamstatic.com/steam/apps/...</td>\n",
       "    </tr>\n",
       "    <tr>\n",
       "      <th>4</th>\n",
       "      <td>1000040</td>\n",
       "      <td>细胞战争</td>\n",
       "      <td>这是一款打击感十足的细胞主题游戏！操作简单但活下去却不简单，“你”作为侵入人体的细菌病毒，通...</td>\n",
       "      <td>DoubleC Games</td>\n",
       "      <td>DoubleC Games</td>\n",
       "      <td>Action, Casual, Indie, Simulation</td>\n",
       "      <td>Action: 22, Casual: 22, Indie: 21, Simulation: 20</td>\n",
       "      <td>game</td>\n",
       "      <td>Single-player</td>\n",
       "      <td>0 .. 20,000</td>\n",
       "      <td>...</td>\n",
       "      <td>199</td>\n",
       "      <td>199</td>\n",
       "      <td>0</td>\n",
       "      <td>0</td>\n",
       "      <td>Simplified Chinese</td>\n",
       "      <td>windows</td>\n",
       "      <td>2019/03/30</td>\n",
       "      <td>0</td>\n",
       "      <td>NaN</td>\n",
       "      <td>https://cdn.akamai.steamstatic.com/steam/apps/...</td>\n",
       "    </tr>\n",
       "  </tbody>\n",
       "</table>\n",
       "<p>5 rows × 22 columns</p>\n",
       "</div>"
      ],
      "text/plain": [
       "    App ID                         Name  \\\n",
       "0       10               Counter-Strike   \n",
       "1  1000000                    ASCENXION   \n",
       "2  1000010                  Crown Trick   \n",
       "3  1000030  Cook, Serve, Delicious! 3?!   \n",
       "4  1000040                         细胞战争   \n",
       "\n",
       "                                   Short Description               Developer  \\\n",
       "0  Play the world's number 1 online action game. ...                   Valve   \n",
       "1  ASCENXION is a 2D shoot 'em up game where you ...  IndigoBlue Game Studio   \n",
       "2  Enter a labyrinth that moves as you move, wher...            NEXT Studios   \n",
       "3  Cook, serve and manage your food truck as you ...     Vertigo Gaming Inc.   \n",
       "4  这是一款打击感十足的细胞主题游戏！操作简单但活下去却不简单，“你”作为侵入人体的细菌病毒，通...           DoubleC Games   \n",
       "\n",
       "                  Publisher                                Genre  \\\n",
       "0                     Valve                               Action   \n",
       "1  PsychoFlux Entertainment             Action, Adventure, Indie   \n",
       "2      Team17, NEXT Studios      Adventure, Indie, RPG, Strategy   \n",
       "3       Vertigo Gaming Inc.  Action, Indie, Simulation, Strategy   \n",
       "4             DoubleC Games    Action, Casual, Indie, Simulation   \n",
       "\n",
       "                                                Tags  Type  \\\n",
       "0  Action: 5426, FPS: 4831, Multiplayer: 3392, Sh...  game   \n",
       "1  \"Shoot Em Up\": 186, Metroidvania: 181, Bullet ...  game   \n",
       "2  Rogue-like: 268, Turn-Based Combat: 254, RPG: ...  game   \n",
       "3  Typing: 221, Management: 213, Casual: 209, Dif...  game   \n",
       "4  Action: 22, Casual: 22, Indie: 21, Simulation: 20  game   \n",
       "\n",
       "                                          Categories  \\\n",
       "0  Multi-player, Valve Anti-Cheat enabled, Online...   \n",
       "1  Single-player, Partial Controller Support, Ste...   \n",
       "2  Single-player, Partial Controller Support, Ste...   \n",
       "3  Multi-player, Single-player, Co-op, Steam Achi...   \n",
       "4                                      Single-player   \n",
       "\n",
       "                     Owners  ...  Price  Initial Price  Discount    CCU  \\\n",
       "0  10,000,000 .. 20,000,000  ...    999            999         0  13990   \n",
       "1               0 .. 20,000  ...    999            999         0      0   \n",
       "2        200,000 .. 500,000  ...    599           1999        70     99   \n",
       "3        100,000 .. 200,000  ...   1999           1999         0     76   \n",
       "4               0 .. 20,000  ...    199            199         0      0   \n",
       "\n",
       "                                           Languages            Platforms  \\\n",
       "0  English, French, German, Italian, Spanish - Sp...  windows, mac, linux   \n",
       "1                English, Korean, Simplified Chinese              windows   \n",
       "2  Simplified Chinese, English, Japanese, Traditi...              windows   \n",
       "3                                            English         windows, mac   \n",
       "4                                 Simplified Chinese              windows   \n",
       "\n",
       "  Release Date Required Age                            Website  \\\n",
       "0    2000/11/1            0                                NaN   \n",
       "1   2021/05/14            0                                NaN   \n",
       "2   2020/10/16            0                                NaN   \n",
       "3   2020/10/14            0  http://www.cookservedelicious.com   \n",
       "4   2019/03/30            0                                NaN   \n",
       "\n",
       "                                        Header Image  \n",
       "0  https://cdn.akamai.steamstatic.com/steam/apps/...  \n",
       "1  https://cdn.akamai.steamstatic.com/steam/apps/...  \n",
       "2  https://cdn.akamai.steamstatic.com/steam/apps/...  \n",
       "3  https://cdn.akamai.steamstatic.com/steam/apps/...  \n",
       "4  https://cdn.akamai.steamstatic.com/steam/apps/...  \n",
       "\n",
       "[5 rows x 22 columns]"
      ]
     },
     "execution_count": 3,
     "metadata": {},
     "output_type": "execute_result"
    }
   ],
   "source": [
    "steam_df = pd.read_csv('steam_games.csv', sep = ';')\n",
    "steam_df.head()"
   ]
  },
  {
   "cell_type": "markdown",
   "metadata": {},
   "source": [
    "## Dữ liệu có bao nhiêu dòng, bao nhiêu cột?"
   ]
  },
  {
   "cell_type": "markdown",
   "metadata": {},
   "source": [
    "<h4>Tính số dòng và số cột lưu vào hai biến num_rows và num_cols</h4>"
   ]
  },
  {
   "cell_type": "code",
   "execution_count": 4,
   "metadata": {},
   "outputs": [
    {
     "data": {
      "text/plain": [
       "(55691, 22)"
      ]
     },
     "execution_count": 4,
     "metadata": {},
     "output_type": "execute_result"
    }
   ],
   "source": [
    "num_rows, num_cols = steam_df.shape\n",
    "num_rows, num_cols"
   ]
  },
  {
   "cell_type": "markdown",
   "metadata": {},
   "source": [
    "## Mỗi dòng có ý nghĩa gì? Có vấn đề các dòng có ý nghĩa khác nhau không?"
   ]
  },
  {
   "cell_type": "markdown",
   "metadata": {},
   "source": [
    "<h4>Mỗi dòng cho biết thông tin của từng sản phẩm hiện có trong steam, không có dòng nào có ý nghĩa khác với các dòng còn lại.</h4>"
   ]
  },
  {
   "cell_type": "markdown",
   "metadata": {},
   "source": [
    "## Tiến hành kiểm tra các dòng có bị lặp không"
   ]
  },
  {
   "cell_type": "markdown",
   "metadata": {},
   "source": [
    "<h4>Kiểm tra bằng cách lưu kết quả vào biến <b>have_duplicated_rows</b>. Biến này có giá trị True nếu dữ liệu có các dòng bị lặp và False nếu ngược lại.</h4>"
   ]
  },
  {
   "cell_type": "code",
   "execution_count": 5,
   "metadata": {},
   "outputs": [
    {
     "data": {
      "text/plain": [
       "True"
      ]
     },
     "execution_count": 5,
     "metadata": {},
     "output_type": "execute_result"
    }
   ],
   "source": [
    "duplicated_list = steam_df.duplicated()\n",
    "if True in duplicated_list:\n",
    "    have_duplicated_rows = True\n",
    "else:\n",
    "    have_duplicated_rows = False\n",
    "have_duplicated_rows"
   ]
  },
  {
   "cell_type": "markdown",
   "metadata": {},
   "source": [
    "<h4>Không có dòng nào bị lặp cả</h4>"
   ]
  },
  {
   "cell_type": "markdown",
   "metadata": {},
   "source": [
    "## Mỗi cột có ý nghĩa gì?"
   ]
  },
  {
   "cell_type": "markdown",
   "metadata": {},
   "source": [
    "|STT|Tên cột dữ liệu | <center>Mô tả<center> | Đơn vị |\n",
    "|--|:------:| ---| --- |\n",
    "|1|App ID|<center>ID của sản phẩm<center>|\n",
    "|2|Name| <center>Tên sản phẩm<center>|\n",
    "|3|Short Description|<center>Phần giới thiệu sản phẩm<center>|\n",
    "|4|Developer| <center>Nhà phát triển sản phẩm<center>|  |\n",
    "|5|Publisher|<center>Nhà phân phối sản phẩm<center>|  | \n",
    "|6|Genres|<center>Các thể loại của sản phẩm<center>|\n",
    "|7|Tags|<center>Các tag được gán cho sản phẩm (từ người dùng)<center>|  |\n",
    "|8|Type|<center>Cho biết sản phẩm thuộc loại game hay là phần cứng (các phần mềm không phải game cũng được gán giá trị là game)<center>| |\n",
    "|9|Categories|<center>Các hạng mục/đặc trưng của sản phẩm<center>||\n",
    "|10|Owners|<center>Số lượng người sở hữu sản phẩm<center>| |  \n",
    "|11|Positive Reviews|<center>Số lượt đánh giá tích cực<center>| |\n",
    "|12|Negative Reviews|<center>Số lượt đánh giá tiêu cực<center>| |\n",
    "|13|Price|<center>Giá bán hiện tại của game<center>|USD|\n",
    "|14|Initial Price|<center>Giá bán của game thời điểm mới phát hành<center>| USD|\n",
    "|15|Discount|<center>Phần trăm giảm giá của game<center>| \\%|\n",
    "|16|CCU|<center>Số lượng người chơi đồng thời cao nhất (tính vào ngày 8/11/2021)<center>|  |\n",
    "|17|Languages|<center>Các ngôn ngữ mà sản phẩm có hỗ trợ<center>|  |\n",
    "|18|Platforms|<center>Các nền tảng mà sản phẩm hỗ trợ<center>||\n",
    "|19|Release Date|<center>Ngày phát hành sản phẩm<center>|yyyy/mm/dd\n",
    "|20|Required Age|<center>Độ tuổi giới hạn<center>|\n",
    "|21|Website|<center>Trang web của nhà phát triển/nhà phân phối<center>|\n",
    "|22|Header Image|<center>Đường link lưu ảnh của sản phẩm<center>|\n"
   ]
  },
  {
   "cell_type": "markdown",
   "metadata": {},
   "source": [
    "<h2>Mỗi cột hiện đang có kiểu dữ liệu gì? Có cột nào có kiểu dữ liệu chưa phù hợp để có thể xử lý tiếp hay không?</h2>"
   ]
  },
  {
   "cell_type": "code",
   "execution_count": 6,
   "metadata": {},
   "outputs": [
    {
     "data": {
      "text/plain": [
       "Index(['App ID', 'Name', 'Short Description', 'Developer', 'Publisher',\n",
       "       'Genre', 'Tags', 'Type', 'Categories', 'Owners', 'Positive Reviews',\n",
       "       'Negative Reviews', 'Price', 'Initial Price', 'Discount', 'CCU',\n",
       "       'Languages', 'Platforms', 'Release Date', 'Required Age', 'Website',\n",
       "       'Header Image'],\n",
       "      dtype='object')"
      ]
     },
     "execution_count": 6,
     "metadata": {},
     "output_type": "execute_result"
    }
   ],
   "source": [
    "steam_df.columns"
   ]
  },
  {
   "cell_type": "code",
   "execution_count": 7,
   "metadata": {},
   "outputs": [
    {
     "name": "stdout",
     "output_type": "stream",
     "text": [
      "<class 'pandas.core.frame.DataFrame'>\n",
      "RangeIndex: 55691 entries, 0 to 55690\n",
      "Data columns (total 22 columns):\n",
      " #   Column             Non-Null Count  Dtype \n",
      "---  ------             --------------  ----- \n",
      " 0   App ID             55691 non-null  int64 \n",
      " 1   Name               55691 non-null  object\n",
      " 2   Short Description  55654 non-null  object\n",
      " 3   Developer          55562 non-null  object\n",
      " 4   Publisher          55540 non-null  object\n",
      " 5   Genre              55530 non-null  object\n",
      " 6   Tags               55556 non-null  object\n",
      " 7   Type               55691 non-null  object\n",
      " 8   Categories         54721 non-null  object\n",
      " 9   Owners             55691 non-null  object\n",
      " 10  Positive Reviews   55691 non-null  int64 \n",
      " 11  Negative Reviews   55691 non-null  int64 \n",
      " 12  Price              55691 non-null  int64 \n",
      " 13  Initial Price      55691 non-null  int64 \n",
      " 14  Discount           55691 non-null  int64 \n",
      " 15  CCU                55691 non-null  int64 \n",
      " 16  Languages          55680 non-null  object\n",
      " 17  Platforms          55691 non-null  object\n",
      " 18  Release Date       55592 non-null  object\n",
      " 19  Required Age       55691 non-null  object\n",
      " 20  Website            30474 non-null  object\n",
      " 21  Header Image       55691 non-null  object\n",
      "dtypes: int64(7), object(15)\n",
      "memory usage: 9.3+ MB\n"
     ]
    }
   ],
   "source": [
    "steam_df.info()"
   ]
  },
  {
   "cell_type": "markdown",
   "metadata": {},
   "source": [
    "<h2>Ta thấy một số vấn đề cần giải quyết:</h2>\n",
    "\n",
    "- Lúc đọc dữ liệu từ \"steam_games.csv\", ta có thể thấy warning là:\"Columns (19) have mixed types.\", nghĩa là cột 19(Required Age) có dtype không đồng nhất.<br>\n",
    "- Owner: thể hiện giá trị khoảng.<br>\n",
    "- Release Date cần đưa về dạng datetime<br>"
   ]
  },
  {
   "cell_type": "markdown",
   "metadata": {},
   "source": [
    "<h4>Kiểm tra và xử lý cột <em>Required Age</em> về dạng đồng nhất</h4>"
   ]
  },
  {
   "cell_type": "code",
   "execution_count": 8,
   "metadata": {},
   "outputs": [
    {
     "data": {
      "text/plain": [
       "array(['0', '15', '12', '18', '16', '17', '10', '7', '5', '180', '13',\n",
       "       '3', '6', '14', 'MA 15+', '7+', '21+', 0, 18, 12, 17, 16, 13, 15,\n",
       "       8, 14, 10, 3, 7, 6, 20, 9, 180, 35], dtype=object)"
      ]
     },
     "execution_count": 8,
     "metadata": {},
     "output_type": "execute_result"
    }
   ],
   "source": [
    "steam_df['Required Age'].unique()"
   ]
  },
  {
   "cell_type": "code",
   "execution_count": 9,
   "metadata": {},
   "outputs": [
    {
     "data": {
      "text/plain": [
       "{int, str}"
      ]
     },
     "execution_count": 9,
     "metadata": {},
     "output_type": "execute_result"
    }
   ],
   "source": [
    "def open_object_dtype(s):\n",
    "    dtypes = set(s.apply(type))\n",
    "    return dtypes\n",
    "open_object_dtype(steam_df['Required Age'])"
   ]
  },
  {
   "cell_type": "markdown",
   "metadata": {},
   "source": [
    "- Steam(*https://store.steampowered.com/*) là một nền tảng phân phối trực tuyến, quản lý bản quyền kỹ thuật số, trò chơi điện tử nhiều người chơi, và dịch vụ giao tiếp xã hội trên nền internet phát triển bởi Valve Corporation. Nên các trò chơi điện tử của các quốc gia khác nhau có giới hạn độ tuổi(**Required Age**) khác nhau, sau đây để dễ so sánh và tổng hợp, nhóm mình(em) xin được quy những giới hạn độ tuổi về thang PEGI(*https://pegi.info/what-do-the-labels-mean*).<br>\n",
    "- Ở cột **Requied Age** ta xử lý chuyển đổi thông tin thành dạng sau đây:<br>\n",
    "\t- 3(PEGI 3) – suitable for all ages, \n",
    "\t- 7(PEGI 7) – suitable for young children (age>=7)\n",
    "\t- 12(PEGI 12) – suitable for children 12 and over (age>=12)\n",
    "\t- 16(PEGI 16) – suitable for children 16 and over (age>=16)\n",
    "\t- 18(PEGI 18) – Only suitable for adults (age>=18)"
   ]
  },
  {
   "cell_type": "code",
   "execution_count": 10,
   "metadata": {},
   "outputs": [],
   "source": [
    "def trans_age(type_age):\n",
    "    l_age=re.findall(r'\\d{1,2}',str(type_age))\n",
    "    age=int(l_age[0])\n",
    "    if age>=18:\n",
    "        return 18\n",
    "    elif age>=16:\n",
    "        return 16\n",
    "    elif age>=12:\n",
    "        return 12\n",
    "    elif age>=7:\n",
    "        return 7\n",
    "    return 3\n",
    "steam_df['Required Age']=steam_df['Required Age'].apply(trans_age)"
   ]
  },
  {
   "cell_type": "markdown",
   "metadata": {},
   "source": [
    "<h4>Xử lý cột <em>Owners</em> về các khoảng:</h4>"
   ]
  },
  {
   "cell_type": "code",
   "execution_count": 11,
   "metadata": {},
   "outputs": [
    {
     "data": {
      "text/plain": [
       "array(['10,000,000 .. 20,000,000', '0 .. 20,000', '200,000 .. 500,000',\n",
       "       '100,000 .. 200,000', '20,000 .. 50,000', '50,000 .. 100,000',\n",
       "       '500,000 .. 1,000,000', '2,000,000 .. 5,000,000',\n",
       "       '5,000,000 .. 10,000,000', '1,000,000 .. 2,000,000',\n",
       "       '20,000,000 .. 50,000,000', '50,000,000 .. 100,000,000',\n",
       "       '200,000,000 .. 500,000,000'], dtype=object)"
      ]
     },
     "execution_count": 11,
     "metadata": {},
     "output_type": "execute_result"
    }
   ],
   "source": [
    "steam_df.Owners.unique()"
   ]
  },
  {
   "cell_type": "code",
   "execution_count": 12,
   "metadata": {},
   "outputs": [],
   "source": [
    "def split_owner(st):\n",
    "    if not(st is np.nan):\n",
    "        st=st.replace(',','')\n",
    "        value=st.split('..')\n",
    "        return tuple([int(value[0]),int(value[1])])\n",
    "    return np.nan\n",
    "steam_df.Owners=steam_df.Owners.apply(split_owner)"
   ]
  },
  {
   "cell_type": "markdown",
   "metadata": {},
   "source": [
    "<h4>Xử lý cột <em>Release Date</em> về đúng dạng chuẩn yyyy/mm/dd</h4>"
   ]
  },
  {
   "cell_type": "code",
   "execution_count": 13,
   "metadata": {},
   "outputs": [],
   "source": [
    "steam_df['Release Date']=steam_df['Release Date'].astype('datetime64[s]')"
   ]
  },
  {
   "cell_type": "code",
   "execution_count": 14,
   "metadata": {},
   "outputs": [
    {
     "data": {
      "text/html": [
       "<div>\n",
       "<style scoped>\n",
       "    .dataframe tbody tr th:only-of-type {\n",
       "        vertical-align: middle;\n",
       "    }\n",
       "\n",
       "    .dataframe tbody tr th {\n",
       "        vertical-align: top;\n",
       "    }\n",
       "\n",
       "    .dataframe thead th {\n",
       "        text-align: right;\n",
       "    }\n",
       "</style>\n",
       "<table border=\"1\" class=\"dataframe\">\n",
       "  <thead>\n",
       "    <tr style=\"text-align: right;\">\n",
       "      <th></th>\n",
       "      <th>App ID</th>\n",
       "      <th>Name</th>\n",
       "      <th>Short Description</th>\n",
       "      <th>Developer</th>\n",
       "      <th>Publisher</th>\n",
       "      <th>Genre</th>\n",
       "      <th>Tags</th>\n",
       "      <th>Type</th>\n",
       "      <th>Categories</th>\n",
       "      <th>Owners</th>\n",
       "      <th>...</th>\n",
       "      <th>Price</th>\n",
       "      <th>Initial Price</th>\n",
       "      <th>Discount</th>\n",
       "      <th>CCU</th>\n",
       "      <th>Languages</th>\n",
       "      <th>Platforms</th>\n",
       "      <th>Release Date</th>\n",
       "      <th>Required Age</th>\n",
       "      <th>Website</th>\n",
       "      <th>Header Image</th>\n",
       "    </tr>\n",
       "  </thead>\n",
       "  <tbody>\n",
       "    <tr>\n",
       "      <th>0</th>\n",
       "      <td>10</td>\n",
       "      <td>Counter-Strike</td>\n",
       "      <td>Play the world's number 1 online action game. ...</td>\n",
       "      <td>Valve</td>\n",
       "      <td>Valve</td>\n",
       "      <td>Action</td>\n",
       "      <td>Action: 5426, FPS: 4831, Multiplayer: 3392, Sh...</td>\n",
       "      <td>game</td>\n",
       "      <td>Multi-player, Valve Anti-Cheat enabled, Online...</td>\n",
       "      <td>(10000000, 20000000)</td>\n",
       "      <td>...</td>\n",
       "      <td>999</td>\n",
       "      <td>999</td>\n",
       "      <td>0</td>\n",
       "      <td>13990</td>\n",
       "      <td>English, French, German, Italian, Spanish - Sp...</td>\n",
       "      <td>windows, mac, linux</td>\n",
       "      <td>2000-11-01</td>\n",
       "      <td>3</td>\n",
       "      <td>NaN</td>\n",
       "      <td>https://cdn.akamai.steamstatic.com/steam/apps/...</td>\n",
       "    </tr>\n",
       "    <tr>\n",
       "      <th>1</th>\n",
       "      <td>1000000</td>\n",
       "      <td>ASCENXION</td>\n",
       "      <td>ASCENXION is a 2D shoot 'em up game where you ...</td>\n",
       "      <td>IndigoBlue Game Studio</td>\n",
       "      <td>PsychoFlux Entertainment</td>\n",
       "      <td>Action, Adventure, Indie</td>\n",
       "      <td>\"Shoot Em Up\": 186, Metroidvania: 181, Bullet ...</td>\n",
       "      <td>game</td>\n",
       "      <td>Single-player, Partial Controller Support, Ste...</td>\n",
       "      <td>(0, 20000)</td>\n",
       "      <td>...</td>\n",
       "      <td>999</td>\n",
       "      <td>999</td>\n",
       "      <td>0</td>\n",
       "      <td>0</td>\n",
       "      <td>English, Korean, Simplified Chinese</td>\n",
       "      <td>windows</td>\n",
       "      <td>2021-05-14</td>\n",
       "      <td>3</td>\n",
       "      <td>NaN</td>\n",
       "      <td>https://cdn.akamai.steamstatic.com/steam/apps/...</td>\n",
       "    </tr>\n",
       "    <tr>\n",
       "      <th>2</th>\n",
       "      <td>1000010</td>\n",
       "      <td>Crown Trick</td>\n",
       "      <td>Enter a labyrinth that moves as you move, wher...</td>\n",
       "      <td>NEXT Studios</td>\n",
       "      <td>Team17, NEXT Studios</td>\n",
       "      <td>Adventure, Indie, RPG, Strategy</td>\n",
       "      <td>Rogue-like: 268, Turn-Based Combat: 254, RPG: ...</td>\n",
       "      <td>game</td>\n",
       "      <td>Single-player, Partial Controller Support, Ste...</td>\n",
       "      <td>(200000, 500000)</td>\n",
       "      <td>...</td>\n",
       "      <td>599</td>\n",
       "      <td>1999</td>\n",
       "      <td>70</td>\n",
       "      <td>99</td>\n",
       "      <td>Simplified Chinese, English, Japanese, Traditi...</td>\n",
       "      <td>windows</td>\n",
       "      <td>2020-10-16</td>\n",
       "      <td>3</td>\n",
       "      <td>NaN</td>\n",
       "      <td>https://cdn.akamai.steamstatic.com/steam/apps/...</td>\n",
       "    </tr>\n",
       "    <tr>\n",
       "      <th>3</th>\n",
       "      <td>1000030</td>\n",
       "      <td>Cook, Serve, Delicious! 3?!</td>\n",
       "      <td>Cook, serve and manage your food truck as you ...</td>\n",
       "      <td>Vertigo Gaming Inc.</td>\n",
       "      <td>Vertigo Gaming Inc.</td>\n",
       "      <td>Action, Indie, Simulation, Strategy</td>\n",
       "      <td>Typing: 221, Management: 213, Casual: 209, Dif...</td>\n",
       "      <td>game</td>\n",
       "      <td>Multi-player, Single-player, Co-op, Steam Achi...</td>\n",
       "      <td>(100000, 200000)</td>\n",
       "      <td>...</td>\n",
       "      <td>1999</td>\n",
       "      <td>1999</td>\n",
       "      <td>0</td>\n",
       "      <td>76</td>\n",
       "      <td>English</td>\n",
       "      <td>windows, mac</td>\n",
       "      <td>2020-10-14</td>\n",
       "      <td>3</td>\n",
       "      <td>http://www.cookservedelicious.com</td>\n",
       "      <td>https://cdn.akamai.steamstatic.com/steam/apps/...</td>\n",
       "    </tr>\n",
       "    <tr>\n",
       "      <th>4</th>\n",
       "      <td>1000040</td>\n",
       "      <td>细胞战争</td>\n",
       "      <td>这是一款打击感十足的细胞主题游戏！操作简单但活下去却不简单，“你”作为侵入人体的细菌病毒，通...</td>\n",
       "      <td>DoubleC Games</td>\n",
       "      <td>DoubleC Games</td>\n",
       "      <td>Action, Casual, Indie, Simulation</td>\n",
       "      <td>Action: 22, Casual: 22, Indie: 21, Simulation: 20</td>\n",
       "      <td>game</td>\n",
       "      <td>Single-player</td>\n",
       "      <td>(0, 20000)</td>\n",
       "      <td>...</td>\n",
       "      <td>199</td>\n",
       "      <td>199</td>\n",
       "      <td>0</td>\n",
       "      <td>0</td>\n",
       "      <td>Simplified Chinese</td>\n",
       "      <td>windows</td>\n",
       "      <td>2019-03-30</td>\n",
       "      <td>3</td>\n",
       "      <td>NaN</td>\n",
       "      <td>https://cdn.akamai.steamstatic.com/steam/apps/...</td>\n",
       "    </tr>\n",
       "  </tbody>\n",
       "</table>\n",
       "<p>5 rows × 22 columns</p>\n",
       "</div>"
      ],
      "text/plain": [
       "    App ID                         Name  \\\n",
       "0       10               Counter-Strike   \n",
       "1  1000000                    ASCENXION   \n",
       "2  1000010                  Crown Trick   \n",
       "3  1000030  Cook, Serve, Delicious! 3?!   \n",
       "4  1000040                         细胞战争   \n",
       "\n",
       "                                   Short Description               Developer  \\\n",
       "0  Play the world's number 1 online action game. ...                   Valve   \n",
       "1  ASCENXION is a 2D shoot 'em up game where you ...  IndigoBlue Game Studio   \n",
       "2  Enter a labyrinth that moves as you move, wher...            NEXT Studios   \n",
       "3  Cook, serve and manage your food truck as you ...     Vertigo Gaming Inc.   \n",
       "4  这是一款打击感十足的细胞主题游戏！操作简单但活下去却不简单，“你”作为侵入人体的细菌病毒，通...           DoubleC Games   \n",
       "\n",
       "                  Publisher                                Genre  \\\n",
       "0                     Valve                               Action   \n",
       "1  PsychoFlux Entertainment             Action, Adventure, Indie   \n",
       "2      Team17, NEXT Studios      Adventure, Indie, RPG, Strategy   \n",
       "3       Vertigo Gaming Inc.  Action, Indie, Simulation, Strategy   \n",
       "4             DoubleC Games    Action, Casual, Indie, Simulation   \n",
       "\n",
       "                                                Tags  Type  \\\n",
       "0  Action: 5426, FPS: 4831, Multiplayer: 3392, Sh...  game   \n",
       "1  \"Shoot Em Up\": 186, Metroidvania: 181, Bullet ...  game   \n",
       "2  Rogue-like: 268, Turn-Based Combat: 254, RPG: ...  game   \n",
       "3  Typing: 221, Management: 213, Casual: 209, Dif...  game   \n",
       "4  Action: 22, Casual: 22, Indie: 21, Simulation: 20  game   \n",
       "\n",
       "                                          Categories                Owners  \\\n",
       "0  Multi-player, Valve Anti-Cheat enabled, Online...  (10000000, 20000000)   \n",
       "1  Single-player, Partial Controller Support, Ste...            (0, 20000)   \n",
       "2  Single-player, Partial Controller Support, Ste...      (200000, 500000)   \n",
       "3  Multi-player, Single-player, Co-op, Steam Achi...      (100000, 200000)   \n",
       "4                                      Single-player            (0, 20000)   \n",
       "\n",
       "   ...  Price  Initial Price  Discount    CCU  \\\n",
       "0  ...    999            999         0  13990   \n",
       "1  ...    999            999         0      0   \n",
       "2  ...    599           1999        70     99   \n",
       "3  ...   1999           1999         0     76   \n",
       "4  ...    199            199         0      0   \n",
       "\n",
       "                                           Languages            Platforms  \\\n",
       "0  English, French, German, Italian, Spanish - Sp...  windows, mac, linux   \n",
       "1                English, Korean, Simplified Chinese              windows   \n",
       "2  Simplified Chinese, English, Japanese, Traditi...              windows   \n",
       "3                                            English         windows, mac   \n",
       "4                                 Simplified Chinese              windows   \n",
       "\n",
       "  Release Date Required Age                            Website  \\\n",
       "0   2000-11-01            3                                NaN   \n",
       "1   2021-05-14            3                                NaN   \n",
       "2   2020-10-16            3                                NaN   \n",
       "3   2020-10-14            3  http://www.cookservedelicious.com   \n",
       "4   2019-03-30            3                                NaN   \n",
       "\n",
       "                                        Header Image  \n",
       "0  https://cdn.akamai.steamstatic.com/steam/apps/...  \n",
       "1  https://cdn.akamai.steamstatic.com/steam/apps/...  \n",
       "2  https://cdn.akamai.steamstatic.com/steam/apps/...  \n",
       "3  https://cdn.akamai.steamstatic.com/steam/apps/...  \n",
       "4  https://cdn.akamai.steamstatic.com/steam/apps/...  \n",
       "\n",
       "[5 rows x 22 columns]"
      ]
     },
     "execution_count": 14,
     "metadata": {},
     "output_type": "execute_result"
    }
   ],
   "source": [
    "steam_df.head()"
   ]
  },
  {
   "cell_type": "markdown",
   "metadata": {},
   "source": [
    "## Phân bố dữ liệu ở các cột:"
   ]
  },
  {
   "cell_type": "markdown",
   "metadata": {},
   "source": [
    "<h3>Với các cột có kiểu dữ liệu dạng số:</h3>\n",
    "\n",
    "Với các cột có kiểu dữ liệu số, ta tính:\n",
    "\n",
    "- Tỉ lệ % các giá trị thiếu\n",
    "- Giá trị min\n",
    "- Giá trị max"
   ]
  },
  {
   "cell_type": "code",
   "execution_count": 15,
   "metadata": {},
   "outputs": [
    {
     "data": {
      "text/html": [
       "<div>\n",
       "<style scoped>\n",
       "    .dataframe tbody tr th:only-of-type {\n",
       "        vertical-align: middle;\n",
       "    }\n",
       "\n",
       "    .dataframe tbody tr th {\n",
       "        vertical-align: top;\n",
       "    }\n",
       "\n",
       "    .dataframe thead th {\n",
       "        text-align: right;\n",
       "    }\n",
       "</style>\n",
       "<table border=\"1\" class=\"dataframe\">\n",
       "  <thead>\n",
       "    <tr style=\"text-align: right;\">\n",
       "      <th></th>\n",
       "      <th>App ID</th>\n",
       "      <th>Positive Reviews</th>\n",
       "      <th>Negative Reviews</th>\n",
       "      <th>Price</th>\n",
       "      <th>Initial Price</th>\n",
       "      <th>Discount</th>\n",
       "      <th>CCU</th>\n",
       "      <th>Release Date</th>\n",
       "      <th>Required Age</th>\n",
       "    </tr>\n",
       "  </thead>\n",
       "  <tbody>\n",
       "    <tr>\n",
       "      <th>missing_ratio</th>\n",
       "      <td>0.0</td>\n",
       "      <td>0.0</td>\n",
       "      <td>0.0</td>\n",
       "      <td>0.0</td>\n",
       "      <td>0.0</td>\n",
       "      <td>0.0</td>\n",
       "      <td>0.0</td>\n",
       "      <td>0.1778</td>\n",
       "      <td>0.0</td>\n",
       "    </tr>\n",
       "    <tr>\n",
       "      <th>min</th>\n",
       "      <td>10.0</td>\n",
       "      <td>0.0</td>\n",
       "      <td>0.0</td>\n",
       "      <td>0.0</td>\n",
       "      <td>0.0</td>\n",
       "      <td>0.0</td>\n",
       "      <td>0.0</td>\n",
       "      <td>1997-06-30 00:00:00</td>\n",
       "      <td>3.0</td>\n",
       "    </tr>\n",
       "    <tr>\n",
       "      <th>max</th>\n",
       "      <td>2190950.0</td>\n",
       "      <td>5943345.0</td>\n",
       "      <td>908515.0</td>\n",
       "      <td>99900.0</td>\n",
       "      <td>99900.0</td>\n",
       "      <td>90.0</td>\n",
       "      <td>874053.0</td>\n",
       "      <td>2022-11-11 00:00:00</td>\n",
       "      <td>18.0</td>\n",
       "    </tr>\n",
       "  </tbody>\n",
       "</table>\n",
       "</div>"
      ],
      "text/plain": [
       "                  App ID  Positive Reviews  Negative Reviews    Price  \\\n",
       "missing_ratio        0.0               0.0               0.0      0.0   \n",
       "min                 10.0               0.0               0.0      0.0   \n",
       "max            2190950.0         5943345.0          908515.0  99900.0   \n",
       "\n",
       "               Initial Price  Discount       CCU         Release Date  \\\n",
       "missing_ratio            0.0       0.0       0.0               0.1778   \n",
       "min                      0.0       0.0       0.0  1997-06-30 00:00:00   \n",
       "max                  99900.0      90.0  874053.0  2022-11-11 00:00:00   \n",
       "\n",
       "               Required Age  \n",
       "missing_ratio           0.0  \n",
       "min                     3.0  \n",
       "max                    18.0  "
      ]
     },
     "execution_count": 15,
     "metadata": {},
     "output_type": "execute_result"
    }
   ],
   "source": [
    "numeric_cols=steam_df[steam_df.select_dtypes(include=[int,'datetime64[ns]']).columns]\n",
    "\n",
    "def missing_ratio(col):\n",
    "    return np.round(col.isna().sum()/len(col)*100,4)\n",
    "def min(col):\n",
    "    return col.min()\n",
    "def max(col):\n",
    "    return col.max()\n",
    "\n",
    "num_col_profiles_df=numeric_cols.agg([missing_ratio,min,max])\n",
    "num_col_profiles_df"
   ]
  },
  {
   "cell_type": "markdown",
   "metadata": {},
   "source": [
    "<h3>Với các cột có kiểu dữ liệu không phải là dạng số:</h3>"
   ]
  },
  {
   "cell_type": "markdown",
   "metadata": {},
   "source": [
    "Với các dữ liệu không phải số:\n",
    "\n",
    "- Ta thấy các cột chưa đúng dạng chuẩn *(Bị thừa các ký tự không cần thiết, nội dung giống nhau nhưng sắp xếp khác nhau)*.\n",
    "- Với các cột **Name, Short Description,Website, Header Image** là những cột chứa thông tin đặc trưng của từng game, nên giá trị phân bố là trải rộng đều với nhau.\n",
    "- Ngoài ra các cột như Developer, Publisher với số lượng các giá trị lớn, nên khi tính % phân bố sẽ gần như là 0, nên ở phần ratio_value chỉ xuất số lượng của giá trị đó\n",
    "- Với cột **Tags** chứa thông tin của từng Genre của game *(người dùng tag)* nên ở đây ta cũng không xét phân bố như thế nào"
   ]
  },
  {
   "cell_type": "code",
   "execution_count": 16,
   "metadata": {},
   "outputs": [],
   "source": [
    "object_cols=steam_df.loc[:,['Developer', 'Publisher', 'Genre', 'Type','Categories', 'Owners', 'Languages', 'Platforms']]\n",
    "def split_str(st):\n",
    "    if not (st is np.nan):\n",
    "        return st.split(',')\n",
    "    return []\n",
    "num_value={}\n",
    "ratio_values={}"
   ]
  },
  {
   "cell_type": "markdown",
   "metadata": {},
   "source": [
    "<h3>Developer</h3>"
   ]
  },
  {
   "cell_type": "markdown",
   "metadata": {},
   "source": [
    "Ở 2 cột Developer và Publisher với số lượng lớn, cùng một nội dung nhưng thứ tự khác nhau:\n",
    "- Ví dụ: *Atomic Fabrik, Cristian Manolachi* và *Cristian Manolachi, Atomic Fabrik * và *Cristian Manolachi, AtomicFabrik * \n",
    "- Các kí tự \"\\,\" và \"\\.\" xuất hiện không có quy lụât lắm. Dẫn đến một số khó khắn chưa thể xử lý dữ liệu tối ưu nhất cho việc phân tích\n",
    "- Các kí tự hoa, thường còn chưa theo một chuẩn nào"
   ]
  },
  {
   "cell_type": "code",
   "execution_count": 17,
   "metadata": {},
   "outputs": [
    {
     "data": {
      "text/plain": [
       "array(['Valve', 'IndigoBlue Game Studio', 'NEXT Studios',\n",
       "       'Vertigo Gaming Inc.', 'DoubleC Games', 'IndieLeague Studio',\n",
       "       '七月九日', '重庆环游者网络科技', 'Simon Codrington', 'Villain Role',\n",
       "       '海南众铖互娱网络科技有限公司', 'Kubold', 'LFiO Studio', 'Fireroot Studios',\n",
       "       'KillPixel', 'DarkDes Labs', 'Meadow Games', 'Amonga99',\n",
       "       '1337 Game Design', 'Hellride Games', 'CSM', 'White Puppet Studio',\n",
       "       'Team Clam', 'Victor Martinelli', 'Dahku', 'WASD Games',\n",
       "       'Nikita \"Ghost_RUS\"', 'Missing Sentinel Software',\n",
       "       'Toka, AllianceInFaith', 'ShilohGames', 'Colugo Productions Inc.',\n",
       "       'ProblemGamer Productions', 'Sonic-Alpha', 'Koopa Yao', 'Gun Beat',\n",
       "       '泥亾', 'Ancient Forge', 'Dotoyou Games', 'VRANI inc.',\n",
       "       'Resolution Games', 'Tap by Tap', 'Wayway Studio', 'Cavern Head',\n",
       "       'Thetis Games', 'Tadpole Interactive', 'Daemon Cat', 'Ladia Group',\n",
       "       'WINXP Studio', 'Choice of Games', 'MAP Design Lab',\n",
       "       'Reframe Games Inc.', 'Digital Melody', 'Brian Wilson',\n",
       "       'YMCAT/Regista', 'Io Normal', 'smartphone-games',\n",
       "       'Gerard Milmore, Andrew Jong, Sean Chiem', 'Art Of Adventures',\n",
       "       'TurtleBlaze', 'Action Portal', 'Daniel Brendel',\n",
       "       'Stolen Shoes Entertainment', 'Blender Games',\n",
       "       'Ironsmith Studios Ltd', 'Keydare Project', 'Mykhail Konokh',\n",
       "       'InsaneHawk', 'Artists Entertainment', 'Rostislavs Lihacs',\n",
       "       'Mark Healey', 'Massive Miniteam', 'Three Dots',\n",
       "       'Laush Dmitriy Sergeevich', 'Dharker Studio',\n",
       "       'LOVATTO STUDIO, SCOTIA 3D, CHOBI GLASS', 'Marginal act',\n",
       "       'LixiaoYao', 'le8 stdio', 'Koker_007', 'Lazy Turtle Games',\n",
       "       '绮梦妄想社', 'HANNMADE Studios', 'Jiruo Software', 'Matthieu Gouby',\n",
       "       'Shindenken', 'Strange Journey', 'Blue Callisto',\n",
       "       'Titanomachy Studios', 'FlagmanJeremy', 'KFA-Games',\n",
       "       'Hangover Cat Purrroduction', 'Eggy', 'Gampixi', '#workshop',\n",
       "       'Panther Studio', 'quadape', 'Paul Kohler', 'Storyyeller Games',\n",
       "       'Better Games LLC', 'HyperKat'], dtype=object)"
      ]
     },
     "execution_count": 17,
     "metadata": {},
     "output_type": "execute_result"
    }
   ],
   "source": [
    "steam_df.Developer.unique()[:100]"
   ]
  },
  {
   "cell_type": "code",
   "execution_count": 18,
   "metadata": {},
   "outputs": [],
   "source": [
    "def lower_str(st):\n",
    "    if not (st is np.nan):\n",
    "        return st.lower()\n",
    "    return \"\"\n",
    "\n",
    "def convert_co_inc(st):\n",
    "    if not (st is np.nan):\n",
    "        st = re.sub(\" +ltd.?[ .]*\",\"ltd.,\", st)\n",
    "        st= re.sub(\" +inc.?[ .]*\",\"inc.,\", st)\n",
    "        st= re.sub(\" +llc.?[ .]*\",\"llc.,\", st)\n",
    "        return re.sub(r\" *, *(?!inc|ltd|llc)\",\";\", st)\n",
    "    return \"\"\n",
    "def split_dev(st):\n",
    "    if not (st is np.nan):\n",
    "        return st.split(';')\n",
    "    return []\n",
    "\n",
    "# Xử lý dữ liẹu\n",
    "col=steam_df.Developer.apply(lower_str).apply(convert_co_inc).apply(split_dev).explode().str.strip()\n",
    "\n",
    "# Trả dữ liệu đã xử lý về cho cột Developer\n",
    "steam_df.Developer=col.groupby(col.index).apply(lambda st: ';'.join(st)).replace('',np.nan)\n",
    "\n",
    "# Tính phân bố dữ liệu\n",
    "ratio_value=col.replace(\"\",np.nan).value_counts()\n",
    "num_value.update({\"Developer\":len(ratio_value)})\n",
    "ratio_values.update({\"Developer\":str(ratio_value.to_dict())})"
   ]
  },
  {
   "cell_type": "markdown",
   "metadata": {},
   "source": [
    "<h3>Publisher</h3>"
   ]
  },
  {
   "cell_type": "markdown",
   "metadata": {},
   "source": [
    "Cột **Publisher** được sử lý tương tự như cột **Developer**"
   ]
  },
  {
   "cell_type": "code",
   "execution_count": 19,
   "metadata": {},
   "outputs": [],
   "source": [
    "# Xử lý dữ liẹu\n",
    "col=steam_df.Publisher.apply(lower_str).apply(convert_co_inc).apply(split_dev).explode().str.strip()\n",
    "\n",
    "# Trả dữ liệu đã xử lý về cho cột Developer\n",
    "steam_df.Publisher=col.groupby(col.index).apply(lambda st: ';'.join(st)).replace('',np.nan)\n",
    "\n",
    "# Tính phân bố dữ liệu\n",
    "ratio_value=col.replace(\"\",np.nan).value_counts()\n",
    "num_value.update({\"Publisher\":len(ratio_value)})\n",
    "ratio_values.update({\"Publisher\":str(ratio_value.to_dict())})\n"
   ]
  },
  {
   "cell_type": "markdown",
   "metadata": {},
   "source": [
    "<h3>Genre</h3>"
   ]
  },
  {
   "cell_type": "code",
   "execution_count": 20,
   "metadata": {},
   "outputs": [
    {
     "data": {
      "text/plain": [
       "array(['Action', ' Adventure', ' Indie', 'Adventure', ' RPG', ' Strategy',\n",
       "       ' Simulation', ' Casual', ' Free to Play',\n",
       "       ' Massively Multiplayer', 'Casual', 'Indie', ' Early Access',\n",
       "       'Education', ' Racing', ' Sports', 'RPG', 'Simulation', 'Racing',\n",
       "       'Strategy', 'Free to Play', 'Animation & Modeling', 'Utilities',\n",
       "       ' Utilities', 'Audio Production', ' Video Production',\n",
       "       'Early Access', 'Game Development', ' Design & Illustration',\n",
       "       'Sports', ' Game Development', 'Design & Illustration',\n",
       "       ' Software Training', ' Web Publishing', ' Photo Editing',\n",
       "       ' Education', nan, 'Massively Multiplayer', ' Audio Production',\n",
       "       'Software Training', ' Animation & Modeling', 'Video Production',\n",
       "       'Accounting', ' Accounting', 'Photo Editing', ' Action', 'Violent',\n",
       "       ' Gore', 'Web Publishing', 'Gore', 'Nudity', ' Violent',\n",
       "       'Sexual Content', ' Nudity', ' Movie'], dtype=object)"
      ]
     },
     "execution_count": 20,
     "metadata": {},
     "output_type": "execute_result"
    }
   ],
   "source": [
    "steam_df.Genre.apply(split_str).explode().unique()"
   ]
  },
  {
   "cell_type": "markdown",
   "metadata": {},
   "source": [
    "Ở cột **Genre** ta chỉ cần xử lý các khoảng trắng bị thừa ở phìa trước và sau."
   ]
  },
  {
   "cell_type": "code",
   "execution_count": 21,
   "metadata": {},
   "outputs": [],
   "source": [
    "# Xử lý dữ liệu\n",
    "col=steam_df.Genre.apply(split_str).explode().str.strip().replace(np.nan,'')\n",
    "\n",
    "# Trả dữ liệu đã xử lý về lại cột Genre\n",
    "steam_df.Genre=col.groupby(col.index).apply(lambda st:','.join(st)).replace('',np.nan)\n",
    "\n",
    "# Tính phân bố dữ liệu\n",
    "col=col.replace('',np.nan)\n",
    "ratio_value=np.round(col.value_counts(normalize=True).multiply(100),4)\n",
    "num_value.update({\"Genre\":len(ratio_value)})\n",
    "ratio_values.update({\"Genre\":str(ratio_value.to_dict())})"
   ]
  },
  {
   "cell_type": "markdown",
   "metadata": {},
   "source": [
    "<h3>Type</h3>"
   ]
  },
  {
   "cell_type": "code",
   "execution_count": 22,
   "metadata": {},
   "outputs": [
    {
     "data": {
      "text/plain": [
       "array(['game', 'hardware'], dtype=object)"
      ]
     },
     "execution_count": 22,
     "metadata": {},
     "output_type": "execute_result"
    }
   ],
   "source": [
    "steam_df.Type.unique()"
   ]
  },
  {
   "cell_type": "markdown",
   "metadata": {},
   "source": [
    "Ở cột **Type** các dữ liệu đã ở đúng dạng chuẩn để phân tích, nên ta chỉ thực hiện bước tính phân bố dữ liệu"
   ]
  },
  {
   "cell_type": "code",
   "execution_count": 23,
   "metadata": {},
   "outputs": [],
   "source": [
    "ratio_value=np.round(steam_df.Type.value_counts(normalize=True).multiply(100))\n",
    "num_value.update({\"Type\":len(ratio_value)})\n",
    "ratio_values.update({\"Type\":str(ratio_value.to_dict())})"
   ]
  },
  {
   "cell_type": "markdown",
   "metadata": {},
   "source": [
    "<h3>Owners</h3>"
   ]
  },
  {
   "cell_type": "code",
   "execution_count": 24,
   "metadata": {},
   "outputs": [
    {
     "data": {
      "text/plain": [
       "array([(10000000, 20000000), (0, 20000), (200000, 500000),\n",
       "       (100000, 200000), (20000, 50000), (50000, 100000),\n",
       "       (500000, 1000000), (2000000, 5000000), (5000000, 10000000),\n",
       "       (1000000, 2000000), (20000000, 50000000), (50000000, 100000000),\n",
       "       (200000000, 500000000)], dtype=object)"
      ]
     },
     "execution_count": 24,
     "metadata": {},
     "output_type": "execute_result"
    }
   ],
   "source": [
    "steam_df.Owners.unique()"
   ]
  },
  {
   "cell_type": "markdown",
   "metadata": {},
   "source": [
    "Ở cột Owners ta đã xử lý ở phần trên nên cũng chỉ cần thực hiện phần tính phân bố dữ liệu"
   ]
  },
  {
   "cell_type": "code",
   "execution_count": 25,
   "metadata": {},
   "outputs": [],
   "source": [
    "ratio_value=np.round(steam_df.Owners.value_counts(normalize=True).multiply(100))\n",
    "num_value.update({\"Owners\":len(ratio_value)})\n",
    "ratio_values.update({\"Owners\":str(ratio_value.to_dict())})"
   ]
  },
  {
   "cell_type": "markdown",
   "metadata": {},
   "source": [
    "<h3>Categories</h3>"
   ]
  },
  {
   "cell_type": "code",
   "execution_count": 26,
   "metadata": {},
   "outputs": [
    {
     "data": {
      "text/plain": [
       "array(['Multi-player', ' Valve Anti-Cheat enabled', ' Online PvP',\n",
       "       ' Shared/Split Screen PvP', ' PvP', 'Single-player',\n",
       "       ' Partial Controller Support', ' Steam Achievements',\n",
       "       ' Steam Cloud', ' Steam Trading Cards', ' Single-player', ' Co-op',\n",
       "       ' Shared/Split Screen', ' Full controller support',\n",
       "       ' Shared/Split Screen Co-op', ' Remote Play on Phone',\n",
       "       ' Remote Play on Tablet', ' Remote Play on TV',\n",
       "       ' Remote Play Together', ' Online Co-op', ' Steam Leaderboards',\n",
       "       ' In-App Purchases', ' Cross-Platform Multiplayer', nan, ' Stats',\n",
       "       ' Commentary available', ' Includes level editor',\n",
       "       ' Steam Workshop', ' MMO', 'Online PvP', 'Steam Cloud',\n",
       "       ' Captions available', ' LAN PvP', ' LAN Co-op',\n",
       "       'In-App Purchases', 'Steam Achievements',\n",
       "       ' Steam Turn Notifications', 'Includes level editor',\n",
       "       'Steam Workshop', 'Partial Controller Support',\n",
       "       ' Includes Source SDK', 'Full controller support',\n",
       "       'Remote Play Together', 'Steam Trading Cards', ' VR Support',\n",
       "       'Stats', 'Captions available', 'Includes Source SDK',\n",
       "       ' Mods (require HL2)', ' Mods', 'Steam Leaderboards',\n",
       "       ' SteamVR Collectibles', 'Commentary available', 'VR Support',\n",
       "       'MMO', 'Co-op', 'Cross-Platform Multiplayer'], dtype=object)"
      ]
     },
     "execution_count": 26,
     "metadata": {},
     "output_type": "execute_result"
    }
   ],
   "source": [
    "steam_df.Categories.apply(split_str).explode().unique()"
   ]
  },
  {
   "cell_type": "markdown",
   "metadata": {},
   "source": [
    "Ở cột **Categories** ta chỉ cần xử lý các khoảng trắng bị thừa ở phìa trước và sau."
   ]
  },
  {
   "cell_type": "code",
   "execution_count": 27,
   "metadata": {},
   "outputs": [],
   "source": [
    "# Xử lý dữ liệu\n",
    "col=steam_df.Categories.apply(split_str).explode().str.strip().replace(np.nan,'')\n",
    "\n",
    "# Trả giá trị đã xử lý về lại cột Categories\n",
    "steam_df.Categories=col.groupby(col.index).apply(lambda st:','.join(st)).replace('',np.nan)\n",
    "\n",
    "# Tính phân bố dữ liệu\n",
    "col=col.replace('',np.nan)\n",
    "ratio_value=np.round(col.value_counts(normalize=True).multiply(100))\n",
    "num_value.update({\"Categories\":len(ratio_value)})\n",
    "ratio_values.update({\"Categories\":str(ratio_value.to_dict())})"
   ]
  },
  {
   "cell_type": "markdown",
   "metadata": {},
   "source": [
    "<h3>Languages</h3>"
   ]
  },
  {
   "cell_type": "code",
   "execution_count": 28,
   "metadata": {},
   "outputs": [
    {
     "data": {
      "text/plain": [
       "array(['English', ' French', ' German', ' Italian', ' Spanish - Spain',\n",
       "       ' Simplified Chinese', ' Traditional Chinese', ' Korean',\n",
       "       'Simplified Chinese', ' English', ' Japanese', ' Russian',\n",
       "       ' Portuguese - Brazil', 'Japanese', ' Arabic', ' Bulgarian',\n",
       "       ' Czech', ' Danish', ' Dutch', ' Finnish', ' Greek', ' Hungarian',\n",
       "       ' Norwegian', ' Polish', ' Portuguese - Portugal', ' Romanian',\n",
       "       ' Spanish - Latin America', ' Swedish', ' Thai', ' Turkish',\n",
       "       ' Ukrainian', ' Vietnamese', ' Not supported', 'French', 'Russian',\n",
       "       'Traditional Chinese', 'Korean', ' Portuguese', ' Latvian',\n",
       "       'Italian', ' Lithuanian', ' Georgian', ' Serbian', ' Croatian',\n",
       "       'Spanish - Latin America', 'German', 'Spanish - Spain', ' Irish',\n",
       "       ' Hebrew', ' Indonesian', ' Luxembourgish', 'Polish', ' Slovak',\n",
       "       ' Belarusian', 'Czech', ' Malay', ' Swahili', ' #lang_slovakian',\n",
       "       nan, ' Basque', ' Hindi', 'Portuguese - Brazil', ' Welsh',\n",
       "       'Russian\\nEnglish\\nSpanish - Spain\\nFrench\\nJapanese\\nCzech',\n",
       "       'Greek', 'English\\nRussian\\nSpanish - Spain\\nJapanese\\nCzech',\n",
       "       ' Filipino', ' Catalan', 'Thai', ' Kannada', ' Tamil', ' Telugu',\n",
       "       ' Afrikaans', ' Estonian', ' Icelandic', ' Slovenian', ' Galician',\n",
       "       ' Persian', ' (all with full audio support)', ' Maori', 'Turkish',\n",
       "       ' Valencian', ' Bosnian', ' Albanian', ' Kazakh', ' Urdu',\n",
       "       ' Azerbaijani', ' Bangla', ' Uzbek', 'English[b]*[/b]',\n",
       "       ' Russian\\n[b]*[/b]', ' Traditional Chinese (text only)', 'Danish',\n",
       "       ' Marathi', ' German;', ' Italian \\n\\n[b]*[/b] ', 'Dutch',\n",
       "       '  Korean', 'English Dutch  English', ' German[b]*[/b]',\n",
       "       ' Spanish - Spain\\n[b]*[/b]', ' French[b]*[/b]',\n",
       "       ' Italian[b]*[/b]', ' Spanish - Spain[b]*[/b]', ' Korean[b]*[/b]',\n",
       "       ' Japanese \\n\\n[b]*[/b] ', 'English (full audio)', ' Macedonian',\n",
       "       'Arabic', ' Punjabi (Gurmukhi)', ' Dari', ' Mongolian'],\n",
       "      dtype=object)"
      ]
     },
     "execution_count": 28,
     "metadata": {},
     "output_type": "execute_result"
    }
   ],
   "source": [
    "steam_df.Languages.apply(split_str).explode().unique()"
   ]
  },
  {
   "cell_type": "markdown",
   "metadata": {},
   "source": [
    "Ở cột **Languages** ta thấy được rất nhiều kí tự không đúng chuẩn, dẫn đến lúc phân tích các dữ liệu không đúng:\n",
    "- Lẫn các kí từ : \\r\\n , \\[b]*[/b], \\n\n",
    "- Các tên ngôn ngữ bị lỗi: #lang_slovakian\n",
    "- English, Not supported : được hiểu là ngôn ngữ Tiếng Anh không được hỗ trợ\n",
    "- Các ngôn ngữ: Spanish - Latin America , Portuguese - Brazil, Spanish - Spain, Spanish - Latin America sẽ chỉ lấy những ngôn ngữ chính ở phía trước\n",
    "\n",
    "Chúng ta sẽ bắt đầu xử lý những vấn đề trên"
   ]
  },
  {
   "cell_type": "code",
   "execution_count": 29,
   "metadata": {},
   "outputs": [],
   "source": [
    "def clean_lang(lang_str):\n",
    "    if not (lang_str is np.nan):\n",
    "        return lang_str.replace('\\r\\n',',').replace('English, Not supported','English Not supported').replace('\\n',',').replace('[b]*[/b]','').replace(';','').replace('#lang_slovakian', 'Slovak')\n",
    "    return \"\"\n",
    "\n",
    "# Xử lý dữ liệu\n",
    "col=steam_df.Languages.apply(clean_lang).apply(split_str).explode().str.strip().apply(lambda st: st.split('-')[0].strip())\n",
    "\n",
    "# Trả dữ liệu đã xử lý về  cho cột Languages\n",
    "steam_df.Languages=col.groupby(col.index).apply(lambda st: ','.join(st)).replace('^ *$',np.nan,regex=True)\n",
    "# Tính phần bố dữ liệu\n",
    "col=col.replace('',np.nan)\n",
    "ratio_value=np.round(col.value_counts(normalize=True).multiply(100),4)\n",
    "num_value.update({\"Languages\":len(ratio_value)})\n",
    "ratio_values.update({\"Languages\":str(ratio_value.to_dict())})"
   ]
  },
  {
   "cell_type": "markdown",
   "metadata": {},
   "source": [
    "<h3>Platforms</h3>"
   ]
  },
  {
   "cell_type": "code",
   "execution_count": 30,
   "metadata": {},
   "outputs": [
    {
     "data": {
      "text/plain": [
       "array(['windows', ' mac', ' linux', 'mac', 'linux'], dtype=object)"
      ]
     },
     "execution_count": 30,
     "metadata": {},
     "output_type": "execute_result"
    }
   ],
   "source": [
    "steam_df.Platforms.apply(split_str).explode().unique()"
   ]
  },
  {
   "cell_type": "markdown",
   "metadata": {},
   "source": [
    "Ở cột **Platforms** ta chỉ cần xử lý các khoảng trắng bị thừa ở phìa trước và sau."
   ]
  },
  {
   "cell_type": "code",
   "execution_count": 31,
   "metadata": {},
   "outputs": [],
   "source": [
    "# Xử lý dữ liệu\n",
    "col = steam_df.Platforms.apply(split_str).explode().str.strip().replace(np.nan,'')\n",
    "\n",
    "# Trả dữ liệu đã xử lý về cho cột Platforms\n",
    "steam_df.Platforms=col.groupby(col.index).apply(lambda st:','.join(st)).replace('',np.nan)\n",
    "\n",
    "# Tính phân bố của dữ liệu\n",
    "col=col.replace('',np.nan)\n",
    "ratio_value=np.round(col.value_counts(normalize=True).multiply(100),4)\n",
    "num_value.update({\"Platforms\":len(ratio_value)})\n",
    "ratio_values.update({\"Platforms\":str(ratio_value.to_dict())})"
   ]
  },
  {
   "cell_type": "markdown",
   "metadata": {},
   "source": [
    "<h4>Bảng phân bố dữ liệu <b>không</b> phải là dữ liệu số</h4>"
   ]
  },
  {
   "cell_type": "code",
   "execution_count": 32,
   "metadata": {},
   "outputs": [],
   "source": [
    "obj_col_profiles_df=object_cols.agg([missing_ratio])\n",
    "obj_col_profiles_df=obj_col_profiles_df.append(pd.DataFrame(num_value, index=[0]))\n",
    "obj_col_profiles_df.rename(index={0:'num_value'},inplace=True)\n",
    "obj_col_profiles_df=obj_col_profiles_df.append(pd.DataFrame(ratio_values,index=[0]))\n",
    "obj_col_profiles_df.rename(index={0:'ratio_value'},inplace=True)"
   ]
  },
  {
   "cell_type": "code",
   "execution_count": 33,
   "metadata": {},
   "outputs": [
    {
     "data": {
      "text/html": [
       "<div>\n",
       "<style scoped>\n",
       "    .dataframe tbody tr th:only-of-type {\n",
       "        vertical-align: middle;\n",
       "    }\n",
       "\n",
       "    .dataframe tbody tr th {\n",
       "        vertical-align: top;\n",
       "    }\n",
       "\n",
       "    .dataframe thead th {\n",
       "        text-align: right;\n",
       "    }\n",
       "</style>\n",
       "<table border=\"1\" class=\"dataframe\">\n",
       "  <thead>\n",
       "    <tr style=\"text-align: right;\">\n",
       "      <th></th>\n",
       "      <th>Developer</th>\n",
       "      <th>Publisher</th>\n",
       "      <th>Genre</th>\n",
       "      <th>Type</th>\n",
       "      <th>Categories</th>\n",
       "      <th>Owners</th>\n",
       "      <th>Languages</th>\n",
       "      <th>Platforms</th>\n",
       "    </tr>\n",
       "  </thead>\n",
       "  <tbody>\n",
       "    <tr>\n",
       "      <th>missing_ratio</th>\n",
       "      <td>0.2316</td>\n",
       "      <td>0.2711</td>\n",
       "      <td>0.2891</td>\n",
       "      <td>0.0</td>\n",
       "      <td>1.7418</td>\n",
       "      <td>0.0</td>\n",
       "      <td>0.0198</td>\n",
       "      <td>0.0</td>\n",
       "    </tr>\n",
       "    <tr>\n",
       "      <th>num_value</th>\n",
       "      <td>36507.0</td>\n",
       "      <td>29746.0</td>\n",
       "      <td>28.0</td>\n",
       "      <td>2.0</td>\n",
       "      <td>36.0</td>\n",
       "      <td>13.0</td>\n",
       "      <td>73.0</td>\n",
       "      <td>3.0</td>\n",
       "    </tr>\n",
       "    <tr>\n",
       "      <th>ratio_value</th>\n",
       "      <td>{'choice of games': 140, 'creobit': 129, 'laus...</td>\n",
       "      <td>{'big fish games': 424, '8floor': 244, 'sega':...</td>\n",
       "      <td>{'Indie': 25.2568, 'Action': 15.1225, 'Casual'...</td>\n",
       "      <td>{'game': 100.0, 'hardware': 0.0}</td>\n",
       "      <td>{'Single-player': 27.0, 'Steam Achievements': ...</td>\n",
       "      <td>{(0, 20000): 68.0, (20000, 50000): 13.0, (5000...</td>\n",
       "      <td>{'English': 26.7856, 'Spanish': 7.4463, 'Germa...</td>\n",
       "      <td>{'windows': 72.3968, 'mac': 16.6051, 'linux': ...</td>\n",
       "    </tr>\n",
       "  </tbody>\n",
       "</table>\n",
       "</div>"
      ],
      "text/plain": [
       "                                                       Developer  \\\n",
       "missing_ratio                                             0.2316   \n",
       "num_value                                                36507.0   \n",
       "ratio_value    {'choice of games': 140, 'creobit': 129, 'laus...   \n",
       "\n",
       "                                                       Publisher  \\\n",
       "missing_ratio                                             0.2711   \n",
       "num_value                                                29746.0   \n",
       "ratio_value    {'big fish games': 424, '8floor': 244, 'sega':...   \n",
       "\n",
       "                                                           Genre  \\\n",
       "missing_ratio                                             0.2891   \n",
       "num_value                                                   28.0   \n",
       "ratio_value    {'Indie': 25.2568, 'Action': 15.1225, 'Casual'...   \n",
       "\n",
       "                                           Type  \\\n",
       "missing_ratio                               0.0   \n",
       "num_value                                   2.0   \n",
       "ratio_value    {'game': 100.0, 'hardware': 0.0}   \n",
       "\n",
       "                                                      Categories  \\\n",
       "missing_ratio                                             1.7418   \n",
       "num_value                                                   36.0   \n",
       "ratio_value    {'Single-player': 27.0, 'Steam Achievements': ...   \n",
       "\n",
       "                                                          Owners  \\\n",
       "missing_ratio                                                0.0   \n",
       "num_value                                                   13.0   \n",
       "ratio_value    {(0, 20000): 68.0, (20000, 50000): 13.0, (5000...   \n",
       "\n",
       "                                                       Languages  \\\n",
       "missing_ratio                                             0.0198   \n",
       "num_value                                                   73.0   \n",
       "ratio_value    {'English': 26.7856, 'Spanish': 7.4463, 'Germa...   \n",
       "\n",
       "                                                       Platforms  \n",
       "missing_ratio                                                0.0  \n",
       "num_value                                                    3.0  \n",
       "ratio_value    {'windows': 72.3968, 'mac': 16.6051, 'linux': ...  "
      ]
     },
     "execution_count": 33,
     "metadata": {},
     "output_type": "execute_result"
    }
   ],
   "source": [
    "# pd.set_option('display.max_colwidth',200)\n",
    "obj_col_profiles_df\n"
   ]
  },
  {
   "cell_type": "markdown",
   "metadata": {},
   "source": [
    "## Đưa ra các câu hỏi"
   ]
  },
  {
   "cell_type": "markdown",
   "metadata": {},
   "source": [
    "YOUR TEXT HERE"
   ]
  },
  {
   "cell_type": "markdown",
   "metadata": {},
   "source": [
    "<h3>Câu 4: Tương quan số lượng người sở hữu game và giá tiền của game. Từ đó đưa ra nhận xét giá tiền của một game có ảnh hưởng đến số lượng người sở hữu game đó hay không?</h3>\n",
    "\n",
    "- Ý nghĩa khi trả lời câu hỏi:\n",
    "    - Trong quá trình phân tích quan sát các biểu đồ được vẽ ra, giúp thấy được khái quát qua được dữ liệu thể hiện những gì, phân bố như thế nào\n",
    "    - Trả lời được câu hỏi liệu rằng, chưa quan tâm đến nội dung, nhưng gần như các game được nhiều người sở hữu thì rẻ.\n",
    "- Các bước thực hiện:\n",
    "    - Bước 1: Xem xét sử dụng cột giá tiền nào Price hay Initial Price\n",
    "    - Bước 2: Thống kê xem số lượng game theo các khoảng người sở hữu game: giúp biết được khoảng người sở hữu game nào đang có nhiều game nhất và chiếm bao nhiêu %\n",
    "    - Bước 3: Lấy khoảng người sở hữu game có nhiều game nhất để phân tich thử: trung bình, trung vị, mode, giá sẽ tập trung như thể nào,...\n",
    "    - Bước 4: Vẽ biểu đồ tương quan với các khoảng khác: thấy được sự thay đổi của các thông số thống kê.\n",
    "    - Bước 5: Tìm tương quan giữa giá tiền và số lượng người sở hữu"
   ]
  },
  {
   "cell_type": "markdown",
   "metadata": {},
   "source": [
    "<h4>Bước 1: Xét độ tương quan giữa cột <b>Price</b> và cột <b>Initial Price</b>:</h4>"
   ]
  },
  {
   "cell_type": "code",
   "execution_count": 34,
   "metadata": {},
   "outputs": [
    {
     "data": {
      "text/plain": [
       "0.9882769950607282"
      ]
     },
     "execution_count": 34,
     "metadata": {},
     "output_type": "execute_result"
    }
   ],
   "source": [
    "steam_df.Price.corr(steam_df['Initial Price'])"
   ]
  },
  {
   "cell_type": "markdown",
   "metadata": {},
   "source": [
    "<h4>Nhận xét:</h4>\n",
    "\n",
    "- Ta thấy độ tương quan giữa 2 cột là 98.82%, nên xem như có thể dùng 1 trong 2 cột để so sánh gần như ra kết quả tương đương nhau\n",
    "- Ở đây nhóm sử dụng giá hiện tại **(Price)** để thực hiện giải đáp câu hỏi"
   ]
  },
  {
   "cell_type": "markdown",
   "metadata": {},
   "source": [
    "<h4>Bước 2: Thống kê số lượng game và số lượng người sở hữu</h4>"
   ]
  },
  {
   "cell_type": "code",
   "execution_count": 35,
   "metadata": {},
   "outputs": [
    {
     "data": {
      "text/plain": [
       "(0, 20000)                38072\n",
       "(20000, 50000)             7285\n",
       "(50000, 100000)            3695\n",
       "(100000, 200000)           2519\n",
       "(200000, 500000)           2162\n",
       "(500000, 1000000)           933\n",
       "(1000000, 2000000)          526\n",
       "(2000000, 5000000)          335\n",
       "(5000000, 10000000)          97\n",
       "(10000000, 20000000)         41\n",
       "(20000000, 50000000)         21\n",
       "(50000000, 100000000)         4\n",
       "(200000000, 500000000)        1\n",
       "Name: Owners, dtype: int64"
      ]
     },
     "execution_count": 35,
     "metadata": {},
     "output_type": "execute_result"
    }
   ],
   "source": [
    "owners_game=steam_df.Owners.value_counts()\n",
    "owners_game"
   ]
  },
  {
   "cell_type": "markdown",
   "metadata": {},
   "source": [
    "<h5>Vẽ biểu đồ để thấy sự chênh lệch số lượng như thế nào</h5>"
   ]
  },
  {
   "cell_type": "code",
   "execution_count": 36,
   "metadata": {},
   "outputs": [
    {
     "data": {
      "image/png": "[encoded data removed]",
      "text/plain": [
       "<Figure size 2000x800 with 1 Axes>"
      ]
     },
     "metadata": {},
     "output_type": "display_data"
    }
   ],
   "source": [
    "\n",
    "fig =plt.subplots(figsize=(20,8))\n",
    "\n",
    "owner=np.array(owners_game.keys())\n",
    "for i in range(len(owner)):\n",
    "    owner[i]=str(owner[i])\n",
    "num_game=np.array(owners_game.values)\n",
    "plt.barh(owner,num_game,zorder=3)\n",
    "plt.xlabel('Số lượng game')\n",
    "plt.ylabel('Khoảng người sở hữu')\n",
    "plt.title('Thống kê số lượng game theo số lượng người sở hữu game')\n",
    "plt.grid(linestyle = '--', linewidth = 0.5)\n",
    "plt.show()"
   ]
  },
  {
   "cell_type": "markdown",
   "metadata": {},
   "source": [
    "<h4>Nhận xét:</h4>\n",
    "\n",
    "- Các game với số lượng người chơi ít *(0,20000)* chiếm xấp xỉ 70% tất các các game trong danh sách game.\n",
    "- Tỉ lệ nghịch giữa số lượng người chơi game với số lượng game: game càng có nhiều người sở hữu thì số lượng của game đó ít và ngược lại"
   ]
  },
  {
   "cell_type": "markdown",
   "metadata": {},
   "source": [
    "<h4>Bước 3: Xét game có số lượng người sở hữu (0,20000) </h4>"
   ]
  },
  {
   "cell_type": "code",
   "execution_count": 37,
   "metadata": {},
   "outputs": [],
   "source": [
    "low_owner=steam_df[steam_df.Owners==(0, 20000)]"
   ]
  },
  {
   "cell_type": "markdown",
   "metadata": {},
   "source": [
    "<h5>Tính các thông số thống kê"
   ]
  },
  {
   "cell_type": "code",
   "execution_count": 38,
   "metadata": {},
   "outputs": [
    {
     "data": {
      "text/plain": [
       "min                              0\n",
       "max                          99900\n",
       "mean                    709.759351\n",
       "mode                           499\n",
       "median                       499.0\n",
       "std                    1092.846986\n",
       "q1                           199.0\n",
       "q3                           999.0\n",
       "interval_zone    (-2568.8, 3988.3)\n",
       "Name: Price, dtype: object"
      ]
     },
     "execution_count": 38,
     "metadata": {},
     "output_type": "execute_result"
    }
   ],
   "source": [
    "def q1(x):\n",
    "    return x.quantile(0.25)\n",
    "def interval_zone(col):\n",
    "    return tuple(np.round([col.mean()-3*col.std(),col.mean()+3*col.std()],1))\n",
    "def mode(col):\n",
    "    return pd.Series.mode(col)[0]\n",
    "# 90th Percentile\n",
    "def q3(x):\n",
    "    return x.quantile(0.75)\n",
    "info_price=low_owner.Price.agg(['min','max','mean',mode,'median','std', q1,q3,interval_zone])\n",
    "info_price"
   ]
  },
  {
   "cell_type": "markdown",
   "metadata": {},
   "source": [
    "<h4>Nhận xét:</h4>\n",
    "\n",
    "- 99% dữ liệu phân bố trong khoảng (-1432.2,3988.3), mà giá tiền không âm, nên khoảng phân bố 99% dữ liệu được hiểu là trong khoảng (0,3988.3) USD.\n",
    "- Dữ liệu lệch phải (mean>median, mean>mode và mode=median)\n",
    "- Ta thấy dữ liệu có độ lệch chuẩn hơn 1000, nên có thể đoán dự đoán được, dữ liệu bị nhiễu (do max=99900, gấp 99 lần độ lệch chuẩn)"
   ]
  },
  {
   "cell_type": "markdown",
   "metadata": {},
   "source": [
    "<h5>Xử lý và vẽ biểu đồ:</h5>\n",
    "\n",
    "- Độ nhiễu lớn, nên chỉ thực hiện vẽ trong khoảng phân bố 95% dữ liệu để tiện cho việc quan sát."
   ]
  },
  {
   "cell_type": "markdown",
   "metadata": {},
   "source": [
    "<h5>Lấy khoảng giá trị trên cho dữ liệu</h5>"
   ]
  },
  {
   "cell_type": "code",
   "execution_count": 39,
   "metadata": {},
   "outputs": [
    {
     "data": {
      "text/plain": [
       "3988"
      ]
     },
     "execution_count": 39,
     "metadata": {},
     "output_type": "execute_result"
    }
   ],
   "source": [
    "upper_interval=int(info_price.iloc[8][1])\n",
    "upper_interval"
   ]
  },
  {
   "cell_type": "code",
   "execution_count": 40,
   "metadata": {},
   "outputs": [],
   "source": [
    "low_owner_plot=low_owner[low_owner.Price<=upper_interval]"
   ]
  },
  {
   "cell_type": "markdown",
   "metadata": {},
   "source": [
    "<h5>Tính số lượng game theo giá tiền</h5>"
   ]
  },
  {
   "cell_type": "code",
   "execution_count": 41,
   "metadata": {},
   "outputs": [
    {
     "data": {
      "text/plain": [
       "0       4011\n",
       "28        16\n",
       "29         7\n",
       "31         6\n",
       "37        16\n",
       "        ... \n",
       "3499      73\n",
       "3595       1\n",
       "3599       1\n",
       "3749       1\n",
       "3900       1\n",
       "Name: Price, Length: 281, dtype: int64"
      ]
     },
     "metadata": {},
     "output_type": "display_data"
    }
   ],
   "source": [
    "price_low_owner=low_owner_plot.Price.value_counts().sort_index()\n",
    "display(price_low_owner)"
   ]
  },
  {
   "cell_type": "markdown",
   "metadata": {},
   "source": [
    "<h5>Vẽ biểu đồ đường </h5>"
   ]
  },
  {
   "cell_type": "code",
   "execution_count": 42,
   "metadata": {},
   "outputs": [
    {
     "data": {
      "image/png": "[encoded data removed]",
      "text/plain": [
       "<Figure size 2000x800 with 1 Axes>"
      ]
     },
     "metadata": {},
     "output_type": "display_data"
    }
   ],
   "source": [
    "fig =plt.subplots(figsize=(20,8))\n",
    "\n",
    "price=np.array(price_low_owner.keys())\n",
    "num_game=np.array(price_low_owner.values)\n",
    "\n",
    "plt.plot(price,num_game,linestyle='-',linewidth=1,label='số lượng game')\n",
    "plt.xlabel('Giá tiền (USD)')\n",
    "plt.ylabel('Số lượng game')\n",
    "plt.title('Biểu đồ đường: Thống kê số lượng game theo giá tiền')\n",
    "plt.legend(loc='upper left')\n",
    "plt.xticks(range(0,price[-1],200))\n",
    "plt.grid(True)\n",
    "plt.show()"
   ]
  },
  {
   "cell_type": "markdown",
   "metadata": {},
   "source": [
    "<h5>Vẽ biểu đồ histogram</h5>"
   ]
  },
  {
   "cell_type": "code",
   "execution_count": 43,
   "metadata": {},
   "outputs": [
    {
     "data": {
      "image/png": "[encoded data removed]",
      "text/plain": [
       "<Figure size 2000x800 with 1 Axes>"
      ]
     },
     "metadata": {},
     "output_type": "display_data"
    }
   ],
   "source": [
    "fig =plt.subplots(figsize=(20,8))\n",
    "\n",
    "plt.hist(low_owner_plot.Price,bins=50)\n",
    "plt.xlabel('Giá tiền (USD)')\n",
    "plt.ylabel('Số lượng game')\n",
    "plt.title('Biểu histogram: Số lượng game, giá tiền')\n",
    "plt.xticks(range(0,price[-1],200))\n",
    "plt.show()"
   ]
  },
  {
   "cell_type": "markdown",
   "metadata": {},
   "source": [
    "<h5>Vẽ biểu đồ hộp nhé</h5>"
   ]
  },
  {
   "cell_type": "code",
   "execution_count": 44,
   "metadata": {},
   "outputs": [
    {
     "data": {
      "image/png": "[encoded data removed]",
      "text/plain": [
       "<Figure size 800x1200 with 1 Axes>"
      ]
     },
     "metadata": {},
     "output_type": "display_data"
    }
   ],
   "source": [
    "fig =plt.subplots(figsize=(8,12))\n",
    "\n",
    "y_range=range(0,int(upper_interval),200)\n",
    "sns.set()\n",
    "sns.boxplot(x='Owners',y='Price',data=low_owner_plot,showmeans=True,width=0.8)\n",
    "\n",
    "plt.yticks(y_range)\n",
    "plt.title('Biểu diễn quan hệ giữa số lượng người sở hữu và giá tiền')\n",
    "plt.show()\n"
   ]
  },
  {
   "cell_type": "markdown",
   "metadata": {},
   "source": [
    "<h4>Nhận xét:</h4>\n",
    "\n",
    "- Biểu đồ đường, histogram:\n",
    "    - Ta thấy các game sẽ có giá tiền ở một số mức cố định như: 0, 99, 199, 399, 499,... Nhưng không làm tròn lên thành các mức giá chia hết cho 100 để đánh vào [tâm lý người mua](https://khoahoc.tv/tai-sao-gia-san-pham-thuong-duoc-niem-yet-thanh-so-le-106021#:~:text=Khuy%E1%BA%BFn%20m%C3%A3i%20gi%E1%BA%A3m%20gi%C3%A1%20l%C3%A0,ngh%C3%ACn%20v%E1%BA%ADy%20nh%C6%B0ng%20th%E1%BB%B1c%20ra)\n",
    "    - Giá tiền mua game tập trung dưới 1000USD.\n",
    "- Biểu đồ hộp:\n",
    "    - 75% số game được mua ở giá 0-1000USD. Trong đó 25% số lượng game được mua ở mức giá dưới 200 USD và 50% số game mua ở giá nằm trong đoạn [200,1000]."
   ]
  },
  {
   "cell_type": "markdown",
   "metadata": {},
   "source": [
    "<h4>Bước 3: So sánh trên toàn bộ khoảng người sở hữu</h4>"
   ]
  },
  {
   "cell_type": "code",
   "execution_count": 45,
   "metadata": {},
   "outputs": [
    {
     "data": {
      "text/html": [
       "<div>\n",
       "<style scoped>\n",
       "    .dataframe tbody tr th:only-of-type {\n",
       "        vertical-align: middle;\n",
       "    }\n",
       "\n",
       "    .dataframe tbody tr th {\n",
       "        vertical-align: top;\n",
       "    }\n",
       "\n",
       "    .dataframe thead th {\n",
       "        text-align: right;\n",
       "    }\n",
       "</style>\n",
       "<table border=\"1\" class=\"dataframe\">\n",
       "  <thead>\n",
       "    <tr style=\"text-align: right;\">\n",
       "      <th></th>\n",
       "      <th>min</th>\n",
       "      <th>max</th>\n",
       "      <th>mean</th>\n",
       "      <th>mode</th>\n",
       "      <th>median</th>\n",
       "      <th>std</th>\n",
       "      <th>q1</th>\n",
       "      <th>q3</th>\n",
       "      <th>interval_zone</th>\n",
       "    </tr>\n",
       "    <tr>\n",
       "      <th>Owners</th>\n",
       "      <th></th>\n",
       "      <th></th>\n",
       "      <th></th>\n",
       "      <th></th>\n",
       "      <th></th>\n",
       "      <th></th>\n",
       "      <th></th>\n",
       "      <th></th>\n",
       "      <th></th>\n",
       "    </tr>\n",
       "  </thead>\n",
       "  <tbody>\n",
       "    <tr>\n",
       "      <th>(0, 20000)</th>\n",
       "      <td>0</td>\n",
       "      <td>99900</td>\n",
       "      <td>709.759351</td>\n",
       "      <td>499</td>\n",
       "      <td>499</td>\n",
       "      <td>1092.846986</td>\n",
       "      <td>199.0</td>\n",
       "      <td>999.00</td>\n",
       "      <td>(-2568.8, 3988.3)</td>\n",
       "    </tr>\n",
       "    <tr>\n",
       "      <th>(20000, 50000)</th>\n",
       "      <td>0</td>\n",
       "      <td>7999</td>\n",
       "      <td>730.084420</td>\n",
       "      <td>0</td>\n",
       "      <td>499</td>\n",
       "      <td>874.168849</td>\n",
       "      <td>99.0</td>\n",
       "      <td>999.00</td>\n",
       "      <td>(-1892.4, 3352.6)</td>\n",
       "    </tr>\n",
       "    <tr>\n",
       "      <th>(50000, 100000)</th>\n",
       "      <td>0</td>\n",
       "      <td>9499</td>\n",
       "      <td>834.047632</td>\n",
       "      <td>0</td>\n",
       "      <td>499</td>\n",
       "      <td>970.244935</td>\n",
       "      <td>99.0</td>\n",
       "      <td>1199.00</td>\n",
       "      <td>(-2076.7, 3744.8)</td>\n",
       "    </tr>\n",
       "    <tr>\n",
       "      <th>(100000, 200000)</th>\n",
       "      <td>0</td>\n",
       "      <td>9999</td>\n",
       "      <td>932.903930</td>\n",
       "      <td>0</td>\n",
       "      <td>599</td>\n",
       "      <td>1044.216532</td>\n",
       "      <td>99.0</td>\n",
       "      <td>1499.00</td>\n",
       "      <td>(-2199.7, 4065.6)</td>\n",
       "    </tr>\n",
       "    <tr>\n",
       "      <th>(200000, 500000)</th>\n",
       "      <td>0</td>\n",
       "      <td>14900</td>\n",
       "      <td>1066.166050</td>\n",
       "      <td>0</td>\n",
       "      <td>699</td>\n",
       "      <td>1223.657662</td>\n",
       "      <td>99.0</td>\n",
       "      <td>1499.00</td>\n",
       "      <td>(-2604.8, 4737.1)</td>\n",
       "    </tr>\n",
       "    <tr>\n",
       "      <th>(500000, 1000000)</th>\n",
       "      <td>0</td>\n",
       "      <td>6999</td>\n",
       "      <td>1392.654877</td>\n",
       "      <td>0</td>\n",
       "      <td>999</td>\n",
       "      <td>1373.168978</td>\n",
       "      <td>99.0</td>\n",
       "      <td>1999.00</td>\n",
       "      <td>(-2726.9, 5512.2)</td>\n",
       "    </tr>\n",
       "    <tr>\n",
       "      <th>(1000000, 2000000)</th>\n",
       "      <td>0</td>\n",
       "      <td>5999</td>\n",
       "      <td>1578.197719</td>\n",
       "      <td>0</td>\n",
       "      <td>1499</td>\n",
       "      <td>1483.634568</td>\n",
       "      <td>0.0</td>\n",
       "      <td>1999.00</td>\n",
       "      <td>(-2872.7, 6029.1)</td>\n",
       "    </tr>\n",
       "    <tr>\n",
       "      <th>(2000000, 5000000)</th>\n",
       "      <td>0</td>\n",
       "      <td>6999</td>\n",
       "      <td>1813.373134</td>\n",
       "      <td>0</td>\n",
       "      <td>1499</td>\n",
       "      <td>1729.101908</td>\n",
       "      <td>49.5</td>\n",
       "      <td>2749.00</td>\n",
       "      <td>(-3373.9, 7000.7)</td>\n",
       "    </tr>\n",
       "    <tr>\n",
       "      <th>(5000000, 10000000)</th>\n",
       "      <td>0</td>\n",
       "      <td>9999</td>\n",
       "      <td>1826.061856</td>\n",
       "      <td>0</td>\n",
       "      <td>1249</td>\n",
       "      <td>2044.359123</td>\n",
       "      <td>0.0</td>\n",
       "      <td>2999.00</td>\n",
       "      <td>(-4307.0, 7959.1)</td>\n",
       "    </tr>\n",
       "    <tr>\n",
       "      <th>(10000000, 20000000)</th>\n",
       "      <td>0</td>\n",
       "      <td>5999</td>\n",
       "      <td>1209.146341</td>\n",
       "      <td>0</td>\n",
       "      <td>999</td>\n",
       "      <td>1387.059796</td>\n",
       "      <td>0.0</td>\n",
       "      <td>1999.00</td>\n",
       "      <td>(-2952.0, 5370.3)</td>\n",
       "    </tr>\n",
       "    <tr>\n",
       "      <th>(20000000, 50000000)</th>\n",
       "      <td>0</td>\n",
       "      <td>5999</td>\n",
       "      <td>1042.285714</td>\n",
       "      <td>0</td>\n",
       "      <td>399</td>\n",
       "      <td>1589.758854</td>\n",
       "      <td>0.0</td>\n",
       "      <td>999.00</td>\n",
       "      <td>(-3727.0, 5811.6)</td>\n",
       "    </tr>\n",
       "    <tr>\n",
       "      <th>(50000000, 100000000)</th>\n",
       "      <td>0</td>\n",
       "      <td>1999</td>\n",
       "      <td>499.750000</td>\n",
       "      <td>0</td>\n",
       "      <td>0</td>\n",
       "      <td>999.500000</td>\n",
       "      <td>0.0</td>\n",
       "      <td>499.75</td>\n",
       "      <td>(-2498.8, 3498.2)</td>\n",
       "    </tr>\n",
       "    <tr>\n",
       "      <th>(200000000, 500000000)</th>\n",
       "      <td>0</td>\n",
       "      <td>0</td>\n",
       "      <td>0.000000</td>\n",
       "      <td>0</td>\n",
       "      <td>0</td>\n",
       "      <td>NaN</td>\n",
       "      <td>0.0</td>\n",
       "      <td>0.00</td>\n",
       "      <td>(nan, nan)</td>\n",
       "    </tr>\n",
       "  </tbody>\n",
       "</table>\n",
       "</div>"
      ],
      "text/plain": [
       "                        min    max         mean  mode  median          std  \\\n",
       "Owners                                                                       \n",
       "(0, 20000)                0  99900   709.759351   499     499  1092.846986   \n",
       "(20000, 50000)            0   7999   730.084420     0     499   874.168849   \n",
       "(50000, 100000)           0   9499   834.047632     0     499   970.244935   \n",
       "(100000, 200000)          0   9999   932.903930     0     599  1044.216532   \n",
       "(200000, 500000)          0  14900  1066.166050     0     699  1223.657662   \n",
       "(500000, 1000000)         0   6999  1392.654877     0     999  1373.168978   \n",
       "(1000000, 2000000)        0   5999  1578.197719     0    1499  1483.634568   \n",
       "(2000000, 5000000)        0   6999  1813.373134     0    1499  1729.101908   \n",
       "(5000000, 10000000)       0   9999  1826.061856     0    1249  2044.359123   \n",
       "(10000000, 20000000)      0   5999  1209.146341     0     999  1387.059796   \n",
       "(20000000, 50000000)      0   5999  1042.285714     0     399  1589.758854   \n",
       "(50000000, 100000000)     0   1999   499.750000     0       0   999.500000   \n",
       "(200000000, 500000000)    0      0     0.000000     0       0          NaN   \n",
       "\n",
       "                           q1       q3      interval_zone  \n",
       "Owners                                                     \n",
       "(0, 20000)              199.0   999.00  (-2568.8, 3988.3)  \n",
       "(20000, 50000)           99.0   999.00  (-1892.4, 3352.6)  \n",
       "(50000, 100000)          99.0  1199.00  (-2076.7, 3744.8)  \n",
       "(100000, 200000)         99.0  1499.00  (-2199.7, 4065.6)  \n",
       "(200000, 500000)         99.0  1499.00  (-2604.8, 4737.1)  \n",
       "(500000, 1000000)        99.0  1999.00  (-2726.9, 5512.2)  \n",
       "(1000000, 2000000)        0.0  1999.00  (-2872.7, 6029.1)  \n",
       "(2000000, 5000000)       49.5  2749.00  (-3373.9, 7000.7)  \n",
       "(5000000, 10000000)       0.0  2999.00  (-4307.0, 7959.1)  \n",
       "(10000000, 20000000)      0.0  1999.00  (-2952.0, 5370.3)  \n",
       "(20000000, 50000000)      0.0   999.00  (-3727.0, 5811.6)  \n",
       "(50000000, 100000000)     0.0   499.75  (-2498.8, 3498.2)  \n",
       "(200000000, 500000000)    0.0     0.00         (nan, nan)  "
      ]
     },
     "execution_count": 45,
     "metadata": {},
     "output_type": "execute_result"
    }
   ],
   "source": [
    "\n",
    "info_price_all=steam_df.groupby('Owners')['Price'].agg(['min','max','mean',mode,'median','std', q1,q3,interval_zone])\n",
    "info_price_all"
   ]
  },
  {
   "cell_type": "markdown",
   "metadata": {},
   "source": [
    "<h5>Ta thấy khoảng phân bố 99% của lượng người sở hữu game trong khoảng **(5000000, 10000000)** là lớn nhất, nên ta sẽ lấy dữ liệu trong khoảng này để so sánh tổng thể giữa các lượng người sở hữu khác.</h5>"
   ]
  },
  {
   "cell_type": "markdown",
   "metadata": {},
   "source": [
    "<h5>Lấy khoảng giá trị trên của dữ liệu</h5>"
   ]
  },
  {
   "cell_type": "code",
   "execution_count": 46,
   "metadata": {},
   "outputs": [
    {
     "data": {
      "text/plain": [
       "7959"
      ]
     },
     "execution_count": 46,
     "metadata": {},
     "output_type": "execute_result"
    }
   ],
   "source": [
    "upper_interval_all=int(info_price_all.iloc[8][8][1])\n",
    "upper_interval_all"
   ]
  },
  {
   "cell_type": "code",
   "execution_count": 47,
   "metadata": {},
   "outputs": [
    {
     "data": {
      "text/html": [
       "<div>\n",
       "<style scoped>\n",
       "    .dataframe tbody tr th:only-of-type {\n",
       "        vertical-align: middle;\n",
       "    }\n",
       "\n",
       "    .dataframe tbody tr th {\n",
       "        vertical-align: top;\n",
       "    }\n",
       "\n",
       "    .dataframe thead th {\n",
       "        text-align: right;\n",
       "    }\n",
       "</style>\n",
       "<table border=\"1\" class=\"dataframe\">\n",
       "  <thead>\n",
       "    <tr style=\"text-align: right;\">\n",
       "      <th></th>\n",
       "      <th>App ID</th>\n",
       "      <th>Name</th>\n",
       "      <th>Short Description</th>\n",
       "      <th>Developer</th>\n",
       "      <th>Publisher</th>\n",
       "      <th>Genre</th>\n",
       "      <th>Tags</th>\n",
       "      <th>Type</th>\n",
       "      <th>Categories</th>\n",
       "      <th>Owners</th>\n",
       "      <th>...</th>\n",
       "      <th>Price</th>\n",
       "      <th>Initial Price</th>\n",
       "      <th>Discount</th>\n",
       "      <th>CCU</th>\n",
       "      <th>Languages</th>\n",
       "      <th>Platforms</th>\n",
       "      <th>Release Date</th>\n",
       "      <th>Required Age</th>\n",
       "      <th>Website</th>\n",
       "      <th>Header Image</th>\n",
       "    </tr>\n",
       "  </thead>\n",
       "  <tbody>\n",
       "    <tr>\n",
       "      <th>55690</th>\n",
       "      <td>999990</td>\n",
       "      <td>Bouncing Hero</td>\n",
       "      <td>Bouncing Hero is an extreme auto-jump platform...</td>\n",
       "      <td>zpink;zniq.co</td>\n",
       "      <td>psychoflux entertainment</td>\n",
       "      <td>Action,Casual,Indie</td>\n",
       "      <td>Action: 42, Casual: 41, Indie: 41, Platformer:...</td>\n",
       "      <td>game</td>\n",
       "      <td>Single-player,Steam Achievements,Steam Cloud</td>\n",
       "      <td>(0, 20000)</td>\n",
       "      <td>...</td>\n",
       "      <td>499</td>\n",
       "      <td>499</td>\n",
       "      <td>0</td>\n",
       "      <td>0</td>\n",
       "      <td>English,Japanese,Korean</td>\n",
       "      <td>windows</td>\n",
       "      <td>2019-09-01</td>\n",
       "      <td>3</td>\n",
       "      <td>http://www.bouncinghero.com/</td>\n",
       "      <td>https://cdn.akamai.steamstatic.com/steam/apps/...</td>\n",
       "    </tr>\n",
       "    <tr>\n",
       "      <th>32996</th>\n",
       "      <td>374120</td>\n",
       "      <td>Fork Truck Challenge</td>\n",
       "      <td>Fork Truck Challenge is a game about moving ca...</td>\n",
       "      <td>mint arcadeltd.;</td>\n",
       "      <td>mint arcadeltd.;</td>\n",
       "      <td>Indie,Simulation,Early Access</td>\n",
       "      <td>Automobile Sim: 26, Early Access: 21, Simulati...</td>\n",
       "      <td>game</td>\n",
       "      <td>Multi-player,Single-player,Co-op,Partial Contr...</td>\n",
       "      <td>(0, 20000)</td>\n",
       "      <td>...</td>\n",
       "      <td>799</td>\n",
       "      <td>799</td>\n",
       "      <td>0</td>\n",
       "      <td>0</td>\n",
       "      <td>English,French,Italian,German,Spanish,Arabic,B...</td>\n",
       "      <td>windows</td>\n",
       "      <td>2015-07-24</td>\n",
       "      <td>3</td>\n",
       "      <td>http://mintarcade.com</td>\n",
       "      <td>https://cdn.akamai.steamstatic.com/steam/apps/...</td>\n",
       "    </tr>\n",
       "    <tr>\n",
       "      <th>32997</th>\n",
       "      <td>374150</td>\n",
       "      <td>Concealed Intent</td>\n",
       "      <td>Concealed Intent is a simultaneous turn-based ...</td>\n",
       "      <td>jarrah technology</td>\n",
       "      <td>jarrah technology</td>\n",
       "      <td>Indie,Simulation,Strategy</td>\n",
       "      <td>Strategy: 33, Indie: 32, Simulation: 30, Space...</td>\n",
       "      <td>game</td>\n",
       "      <td>Multi-player,Single-player,Steam Achievements,...</td>\n",
       "      <td>(0, 20000)</td>\n",
       "      <td>...</td>\n",
       "      <td>1499</td>\n",
       "      <td>1499</td>\n",
       "      <td>0</td>\n",
       "      <td>0</td>\n",
       "      <td>English</td>\n",
       "      <td>windows,mac,linux</td>\n",
       "      <td>2016-08-02</td>\n",
       "      <td>3</td>\n",
       "      <td>http://www.concealedintent.com</td>\n",
       "      <td>https://cdn.akamai.steamstatic.com/steam/apps/...</td>\n",
       "    </tr>\n",
       "    <tr>\n",
       "      <th>32998</th>\n",
       "      <td>374170</td>\n",
       "      <td>Sniper Tactical</td>\n",
       "      <td>Sniper Tactical is a casual game. Disguised as...</td>\n",
       "      <td>fragout studio</td>\n",
       "      <td>blackfoot studios</td>\n",
       "      <td>Action,Casual,Indie,Early Access</td>\n",
       "      <td>Early Access: 22, Action: 21, Casual: 21, Indi...</td>\n",
       "      <td>game</td>\n",
       "      <td>Single-player,Steam Achievements,Steam Leaderb...</td>\n",
       "      <td>(0, 20000)</td>\n",
       "      <td>...</td>\n",
       "      <td>0</td>\n",
       "      <td>0</td>\n",
       "      <td>0</td>\n",
       "      <td>0</td>\n",
       "      <td>English</td>\n",
       "      <td>windows</td>\n",
       "      <td>2016-01-08</td>\n",
       "      <td>3</td>\n",
       "      <td>http://snipertactical.eu</td>\n",
       "      <td>https://cdn.akamai.steamstatic.com/steam/apps/...</td>\n",
       "    </tr>\n",
       "    <tr>\n",
       "      <th>55094</th>\n",
       "      <td>981660</td>\n",
       "      <td>The Detective Chapters: Part One</td>\n",
       "      <td>Your choices matter in this story-rich narrati...</td>\n",
       "      <td>mayhem games usa</td>\n",
       "      <td>mayhem games usa</td>\n",
       "      <td>Adventure,Simulation</td>\n",
       "      <td>Nudity: 44, Gore: 43, Adventure: 42, Simulatio...</td>\n",
       "      <td>game</td>\n",
       "      <td>Single-player</td>\n",
       "      <td>(0, 20000)</td>\n",
       "      <td>...</td>\n",
       "      <td>899</td>\n",
       "      <td>899</td>\n",
       "      <td>0</td>\n",
       "      <td>0</td>\n",
       "      <td>English</td>\n",
       "      <td>windows</td>\n",
       "      <td>2021-01-21</td>\n",
       "      <td>3</td>\n",
       "      <td>http://mayhemgamesusa.com</td>\n",
       "      <td>https://cdn.akamai.steamstatic.com/steam/apps/...</td>\n",
       "    </tr>\n",
       "  </tbody>\n",
       "</table>\n",
       "<p>5 rows × 22 columns</p>\n",
       "</div>"
      ],
      "text/plain": [
       "       App ID                              Name  \\\n",
       "55690  999990                     Bouncing Hero   \n",
       "32996  374120              Fork Truck Challenge   \n",
       "32997  374150                  Concealed Intent   \n",
       "32998  374170                   Sniper Tactical   \n",
       "55094  981660  The Detective Chapters: Part One   \n",
       "\n",
       "                                       Short Description          Developer  \\\n",
       "55690  Bouncing Hero is an extreme auto-jump platform...      zpink;zniq.co   \n",
       "32996  Fork Truck Challenge is a game about moving ca...   mint arcadeltd.;   \n",
       "32997  Concealed Intent is a simultaneous turn-based ...  jarrah technology   \n",
       "32998  Sniper Tactical is a casual game. Disguised as...     fragout studio   \n",
       "55094  Your choices matter in this story-rich narrati...   mayhem games usa   \n",
       "\n",
       "                      Publisher                             Genre  \\\n",
       "55690  psychoflux entertainment               Action,Casual,Indie   \n",
       "32996          mint arcadeltd.;     Indie,Simulation,Early Access   \n",
       "32997         jarrah technology         Indie,Simulation,Strategy   \n",
       "32998         blackfoot studios  Action,Casual,Indie,Early Access   \n",
       "55094          mayhem games usa              Adventure,Simulation   \n",
       "\n",
       "                                                    Tags  Type  \\\n",
       "55690  Action: 42, Casual: 41, Indie: 41, Platformer:...  game   \n",
       "32996  Automobile Sim: 26, Early Access: 21, Simulati...  game   \n",
       "32997  Strategy: 33, Indie: 32, Simulation: 30, Space...  game   \n",
       "32998  Early Access: 22, Action: 21, Casual: 21, Indi...  game   \n",
       "55094  Nudity: 44, Gore: 43, Adventure: 42, Simulatio...  game   \n",
       "\n",
       "                                              Categories      Owners  ...  \\\n",
       "55690       Single-player,Steam Achievements,Steam Cloud  (0, 20000)  ...   \n",
       "32996  Multi-player,Single-player,Co-op,Partial Contr...  (0, 20000)  ...   \n",
       "32997  Multi-player,Single-player,Steam Achievements,...  (0, 20000)  ...   \n",
       "32998  Single-player,Steam Achievements,Steam Leaderb...  (0, 20000)  ...   \n",
       "55094                                      Single-player  (0, 20000)  ...   \n",
       "\n",
       "       Price  Initial Price  Discount  CCU  \\\n",
       "55690    499            499         0    0   \n",
       "32996    799            799         0    0   \n",
       "32997   1499           1499         0    0   \n",
       "32998      0              0         0    0   \n",
       "55094    899            899         0    0   \n",
       "\n",
       "                                               Languages          Platforms  \\\n",
       "55690                            English,Japanese,Korean            windows   \n",
       "32996  English,French,Italian,German,Spanish,Arabic,B...            windows   \n",
       "32997                                            English  windows,mac,linux   \n",
       "32998                                            English            windows   \n",
       "55094                                            English            windows   \n",
       "\n",
       "      Release Date Required Age                         Website  \\\n",
       "55690   2019-09-01            3    http://www.bouncinghero.com/   \n",
       "32996   2015-07-24            3           http://mintarcade.com   \n",
       "32997   2016-08-02            3  http://www.concealedintent.com   \n",
       "32998   2016-01-08            3        http://snipertactical.eu   \n",
       "55094   2021-01-21            3       http://mayhemgamesusa.com   \n",
       "\n",
       "                                            Header Image  \n",
       "55690  https://cdn.akamai.steamstatic.com/steam/apps/...  \n",
       "32996  https://cdn.akamai.steamstatic.com/steam/apps/...  \n",
       "32997  https://cdn.akamai.steamstatic.com/steam/apps/...  \n",
       "32998  https://cdn.akamai.steamstatic.com/steam/apps/...  \n",
       "55094  https://cdn.akamai.steamstatic.com/steam/apps/...  \n",
       "\n",
       "[5 rows x 22 columns]"
      ]
     },
     "execution_count": 47,
     "metadata": {},
     "output_type": "execute_result"
    }
   ],
   "source": [
    "owner_plot=steam_df[steam_df.Price<=upper_interval_all].sort_values('Owners')\n",
    "owner_plot.head()"
   ]
  },
  {
   "cell_type": "code",
   "execution_count": 48,
   "metadata": {},
   "outputs": [
    {
     "data": {
      "image/png": "[encoded data removed]",
      "text/plain": [
       "<Figure size 2200x1200 with 1 Axes>"
      ]
     },
     "metadata": {},
     "output_type": "display_data"
    }
   ],
   "source": [
    "fig=plt.subplots(figsize=(22,12))\n",
    "\n",
    "y_range=range(0,upper_interval_all,200)\n",
    "\n",
    "sns.boxplot(x='Owners',y='Price',data=owner_plot,width=0.8,showmeans=True,meanprops={'markerfacecolor':'red',\"markeredgecolor\":'red'})\n",
    "plt.yticks(y_range)\n",
    "plt.setp(plt.gca().get_xticklabels(), rotation=-65, horizontalalignment='center')\n",
    "plt.show()"
   ]
  },
  {
   "cell_type": "markdown",
   "metadata": {},
   "source": [
    "<h4>Nhận xét:</h4>\n",
    "\n",
    "- Trung bình giá mua tăng dần theo theo số lượng người sở hữu. Nhưng đến 1 khoảng nào đó, giá mua game sẽ giảm dần.\n",
    "- Giá tiền ở những game có số lượng người người sở hữu (2000000, 5000000) có giá mua game rộng nhất (75% số lượng game mua ở giá dưới 2800USD)\n",
    "- Ở những khoảng người sở hữu game (1000000-2000000), lớn hơn 5000000: thì có 25% số lượng game là miễn phí 0 USD."
   ]
  },
  {
   "cell_type": "markdown",
   "metadata": {},
   "source": [
    "<h4>Bước 4: Nhận xét giá tiền có liên quan điến số lượng người sở hữu không</h4>"
   ]
  },
  {
   "cell_type": "code",
   "execution_count": 53,
   "metadata": {},
   "outputs": [
    {
     "data": {
      "text/html": [
       "<div>\n",
       "<style scoped>\n",
       "    .dataframe tbody tr th:only-of-type {\n",
       "        vertical-align: middle;\n",
       "    }\n",
       "\n",
       "    .dataframe tbody tr th {\n",
       "        vertical-align: top;\n",
       "    }\n",
       "\n",
       "    .dataframe thead th {\n",
       "        text-align: right;\n",
       "    }\n",
       "</style>\n",
       "<table border=\"1\" class=\"dataframe\">\n",
       "  <thead>\n",
       "    <tr style=\"text-align: right;\">\n",
       "      <th></th>\n",
       "      <th>Owners</th>\n",
       "      <th>Price</th>\n",
       "    </tr>\n",
       "  </thead>\n",
       "  <tbody>\n",
       "    <tr>\n",
       "      <th>0</th>\n",
       "      <td>(10000000, 20000000)</td>\n",
       "      <td>999</td>\n",
       "    </tr>\n",
       "    <tr>\n",
       "      <th>1</th>\n",
       "      <td>(0, 20000)</td>\n",
       "      <td>999</td>\n",
       "    </tr>\n",
       "    <tr>\n",
       "      <th>2</th>\n",
       "      <td>(200000, 500000)</td>\n",
       "      <td>599</td>\n",
       "    </tr>\n",
       "    <tr>\n",
       "      <th>3</th>\n",
       "      <td>(100000, 200000)</td>\n",
       "      <td>1999</td>\n",
       "    </tr>\n",
       "    <tr>\n",
       "      <th>4</th>\n",
       "      <td>(0, 20000)</td>\n",
       "      <td>199</td>\n",
       "    </tr>\n",
       "    <tr>\n",
       "      <th>...</th>\n",
       "      <td>...</td>\n",
       "      <td>...</td>\n",
       "    </tr>\n",
       "    <tr>\n",
       "      <th>55686</th>\n",
       "      <td>(0, 20000)</td>\n",
       "      <td>0</td>\n",
       "    </tr>\n",
       "    <tr>\n",
       "      <th>55687</th>\n",
       "      <td>(0, 20000)</td>\n",
       "      <td>299</td>\n",
       "    </tr>\n",
       "    <tr>\n",
       "      <th>55688</th>\n",
       "      <td>(20000, 50000)</td>\n",
       "      <td>0</td>\n",
       "    </tr>\n",
       "    <tr>\n",
       "      <th>55689</th>\n",
       "      <td>(0, 20000)</td>\n",
       "      <td>499</td>\n",
       "    </tr>\n",
       "    <tr>\n",
       "      <th>55690</th>\n",
       "      <td>(0, 20000)</td>\n",
       "      <td>499</td>\n",
       "    </tr>\n",
       "  </tbody>\n",
       "</table>\n",
       "<p>55691 rows × 2 columns</p>\n",
       "</div>"
      ],
      "text/plain": [
       "                     Owners  Price\n",
       "0      (10000000, 20000000)    999\n",
       "1                (0, 20000)    999\n",
       "2          (200000, 500000)    599\n",
       "3          (100000, 200000)   1999\n",
       "4                (0, 20000)    199\n",
       "...                     ...    ...\n",
       "55686            (0, 20000)      0\n",
       "55687            (0, 20000)    299\n",
       "55688        (20000, 50000)      0\n",
       "55689            (0, 20000)    499\n",
       "55690            (0, 20000)    499\n",
       "\n",
       "[55691 rows x 2 columns]"
      ]
     },
     "execution_count": 53,
     "metadata": {},
     "output_type": "execute_result"
    }
   ],
   "source": [
    "owner_price_df=steam_df.loc[:,['Owners','Price']].copy()\n",
    "owner_price_df"
   ]
  },
  {
   "cell_type": "markdown",
   "metadata": {},
   "source": [
    "<h5>Thực hiện kiểm định [ANOVA một chiều](https://trithuccongdong.net/tai-lieu-spss/kiem-dinh-anova-trong-spss.html)</h5>\n",
    "\n",
    "- One-way ANOVA là một loại thử nghiệm thống kê nhằm đánh giá tác động của một biến độc lập duy nhất lên một biến phản hồi duy nhất. Nó giúp xác định xem tất cả các mẫu có giống nhau hay không."
   ]
  },
  {
   "cell_type": "markdown",
   "metadata": {},
   "source": [
    "<h5>H0: Không có mối tương quan giữa giá mua game(Price) và số lượng người sở hữu(Owners):</h5>\n",
    "\n",
    "- P-value>0.05: Chấp nhận giả thuyết H0\n",
    "- P-value<<0.05: Bác bỏ H0"
   ]
  },
  {
   "cell_type": "code",
   "execution_count": 54,
   "metadata": {},
   "outputs": [
    {
     "name": "stdout",
     "output_type": "stream",
     "text": [
      "P-Value for Anova is:  1.2147217771073408e-284\n"
     ]
    }
   ],
   "source": [
    "from scipy.stats import f_oneway\n",
    "CategoryGroupLists=owner_price_df.groupby('Owners')['Price'].apply(list)\n",
    "AnovaResults = f_oneway(*CategoryGroupLists)\n",
    "print('P-Value for Anova is: ', AnovaResults[1])"
   ]
  },
  {
   "cell_type": "markdown",
   "metadata": {},
   "source": [
    "<h4>Nhận xét:</h4>\n",
    "\n",
    "- Ta thấy giá trị P gần như bằng không, do đó, chúng tôi bác bỏ H0. Điều này có nghĩa là các biến có tương quan với nhau."
   ]
  },
  {
   "cell_type": "markdown",
   "metadata": {},
   "source": [
    "<h3>Kết luận: Số lượng người sở hữu game có phụ thuộc vào giá tiền của game đó</h3>"
   ]
  },
  {
   "cell_type": "markdown",
   "metadata": {},
   "source": []
  }
 ],
 "metadata": {
  "kernelspec": {
   "display_name": "Python 3 (ipykernel)",
   "language": "python",
   "name": "python3"
  },
  "language_info": {
   "codemirror_mode": {
    "name": "ipython",
    "version": 3
   },
   "file_extension": ".py",
   "mimetype": "text/x-python",
   "name": "python",
   "nbconvert_exporter": "python",
   "pygments_lexer": "ipython3",
   "version": "3.8.8"
  },
  "vscode": {
   "interpreter": {
    "hash": "8924efdbfc21def2df13188d4eada491bc755f59837026409ba181ab9c858a32"
   }
  }
 },
 "nbformat": 4,
 "nbformat_minor": 2
}
