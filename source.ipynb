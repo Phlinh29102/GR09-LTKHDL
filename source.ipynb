{
 "cells": [
  {
   "cell_type": "markdown",
   "metadata": {},
   "source": [
    "# Đồ án Thực Hành Lập Trình Khoa Học Dữ Liệu"
   ]
  },
  {
   "cell_type": "code",
<<<<<<< Updated upstream
   "execution_count": 3,
=======
   "execution_count": 1,
   "metadata": {},
   "outputs": [
    {
     "data": {
      "text/plain": [
       "'/home/echkidieu/miniconda3/envs/min_ds-env/bin/python'"
      ]
     },
     "execution_count": 1,
     "metadata": {},
     "output_type": "execute_result"
    }
   ],
   "source": [
    "import sys\n",
    "sys.executable"
   ]
  },
  {
   "cell_type": "markdown",
   "metadata": {},
   "source": [
    "## Import thư viện"
   ]
  },
  {
   "cell_type": "code",
   "execution_count": 2,
   "metadata": {},
   "outputs": [],
   "source": [
    "import pandas as pd\n",
    "import matplotlib.pyplot as plt\n",
    "import numpy as np\n",
    "import datetime as dt\n",
    "import re"
   ]
  },
  {
   "cell_type": "markdown",
   "metadata": {},
   "source": [
    "## Thu thập dữ liệu"
   ]
  },
  {
   "cell_type": "markdown",
   "metadata": {},
   "source": [
    "- Nhóm sử dụng dữ liệu \"steam_games.csv\" được thu thập sẵn ở trên kaggle. Dữ liệu này là về các game hiện có ở trên steam. Nguồn của dữ liệu được lấy tại: https://www.kaggle.com/datasets/tristan581/all-55000-games-on-steam-november-2022\n",
    "- LICENSE của dữ liệu là [CC BY-SA 4.0](https://creativecommons.org/licenses/by-sa/4.0/), người dùng được phép sử dụng với mục đích phi thương mại và phải credit cho chủ sở hữu\n",
    "- Người ta đã thu thập dữ liệu này bằng cách sử dụng API của steam store và API của web thứ ba (steamspy.com)"
   ]
  },
  {
   "cell_type": "markdown",
   "metadata": {},
   "source": [
    "## Khám phá dữ liệu"
   ]
  },
  {
   "cell_type": "markdown",
   "metadata": {},
   "source": [
    "### Đọc dữ liệu vào dataframe"
   ]
  },
  {
   "cell_type": "code",
   "execution_count": 3,
   "metadata": {},
   "outputs": [
    {
     "name": "stderr",
     "output_type": "stream",
     "text": [
      "/home/echkidieu/miniconda3/envs/min_ds-env/lib/python3.8/site-packages/IPython/core/interactiveshell.py:3139: DtypeWarning: Columns (19) have mixed types.Specify dtype option on import or set low_memory=False.\n",
      "  has_raised = await self.run_ast_nodes(code_ast.body, cell_name,\n"
     ]
    },
    {
     "data": {
      "text/html": [
       "<div>\n",
       "<style scoped>\n",
       "    .dataframe tbody tr th:only-of-type {\n",
       "        vertical-align: middle;\n",
       "    }\n",
       "\n",
       "    .dataframe tbody tr th {\n",
       "        vertical-align: top;\n",
       "    }\n",
       "\n",
       "    .dataframe thead th {\n",
       "        text-align: right;\n",
       "    }\n",
       "</style>\n",
       "<table border=\"1\" class=\"dataframe\">\n",
       "  <thead>\n",
       "    <tr style=\"text-align: right;\">\n",
       "      <th></th>\n",
       "      <th>App ID</th>\n",
       "      <th>Name</th>\n",
       "      <th>Short Description</th>\n",
       "      <th>Developer</th>\n",
       "      <th>Publisher</th>\n",
       "      <th>Genre</th>\n",
       "      <th>Tags</th>\n",
       "      <th>Type</th>\n",
       "      <th>Categories</th>\n",
       "      <th>Owners</th>\n",
       "      <th>...</th>\n",
       "      <th>Price</th>\n",
       "      <th>Initial Price</th>\n",
       "      <th>Discount</th>\n",
       "      <th>CCU</th>\n",
       "      <th>Languages</th>\n",
       "      <th>Platforms</th>\n",
       "      <th>Release Date</th>\n",
       "      <th>Required Age</th>\n",
       "      <th>Website</th>\n",
       "      <th>Header Image</th>\n",
       "    </tr>\n",
       "  </thead>\n",
       "  <tbody>\n",
       "    <tr>\n",
       "      <th>0</th>\n",
       "      <td>10</td>\n",
       "      <td>Counter-Strike</td>\n",
       "      <td>Play the world's number 1 online action game. ...</td>\n",
       "      <td>Valve</td>\n",
       "      <td>Valve</td>\n",
       "      <td>Action</td>\n",
       "      <td>Action: 5426, FPS: 4831, Multiplayer: 3392, Sh...</td>\n",
       "      <td>game</td>\n",
       "      <td>Multi-player, Valve Anti-Cheat enabled, Online...</td>\n",
       "      <td>10,000,000 .. 20,000,000</td>\n",
       "      <td>...</td>\n",
       "      <td>999</td>\n",
       "      <td>999</td>\n",
       "      <td>0</td>\n",
       "      <td>13990</td>\n",
       "      <td>English, French, German, Italian, Spanish - Sp...</td>\n",
       "      <td>windows, mac, linux</td>\n",
       "      <td>2000/11/1</td>\n",
       "      <td>0</td>\n",
       "      <td>NaN</td>\n",
       "      <td>https://cdn.akamai.steamstatic.com/steam/apps/...</td>\n",
       "    </tr>\n",
       "    <tr>\n",
       "      <th>1</th>\n",
       "      <td>1000000</td>\n",
       "      <td>ASCENXION</td>\n",
       "      <td>ASCENXION is a 2D shoot 'em up game where you ...</td>\n",
       "      <td>IndigoBlue Game Studio</td>\n",
       "      <td>PsychoFlux Entertainment</td>\n",
       "      <td>Action, Adventure, Indie</td>\n",
       "      <td>\"Shoot Em Up\": 186, Metroidvania: 181, Bullet ...</td>\n",
       "      <td>game</td>\n",
       "      <td>Single-player, Partial Controller Support, Ste...</td>\n",
       "      <td>0 .. 20,000</td>\n",
       "      <td>...</td>\n",
       "      <td>999</td>\n",
       "      <td>999</td>\n",
       "      <td>0</td>\n",
       "      <td>0</td>\n",
       "      <td>English, Korean, Simplified Chinese</td>\n",
       "      <td>windows</td>\n",
       "      <td>2021/05/14</td>\n",
       "      <td>0</td>\n",
       "      <td>NaN</td>\n",
       "      <td>https://cdn.akamai.steamstatic.com/steam/apps/...</td>\n",
       "    </tr>\n",
       "    <tr>\n",
       "      <th>2</th>\n",
       "      <td>1000010</td>\n",
       "      <td>Crown Trick</td>\n",
       "      <td>Enter a labyrinth that moves as you move, wher...</td>\n",
       "      <td>NEXT Studios</td>\n",
       "      <td>Team17, NEXT Studios</td>\n",
       "      <td>Adventure, Indie, RPG, Strategy</td>\n",
       "      <td>Rogue-like: 268, Turn-Based Combat: 254, RPG: ...</td>\n",
       "      <td>game</td>\n",
       "      <td>Single-player, Partial Controller Support, Ste...</td>\n",
       "      <td>200,000 .. 500,000</td>\n",
       "      <td>...</td>\n",
       "      <td>599</td>\n",
       "      <td>1999</td>\n",
       "      <td>70</td>\n",
       "      <td>99</td>\n",
       "      <td>Simplified Chinese, English, Japanese, Traditi...</td>\n",
       "      <td>windows</td>\n",
       "      <td>2020/10/16</td>\n",
       "      <td>0</td>\n",
       "      <td>NaN</td>\n",
       "      <td>https://cdn.akamai.steamstatic.com/steam/apps/...</td>\n",
       "    </tr>\n",
       "    <tr>\n",
       "      <th>3</th>\n",
       "      <td>1000030</td>\n",
       "      <td>Cook, Serve, Delicious! 3?!</td>\n",
       "      <td>Cook, serve and manage your food truck as you ...</td>\n",
       "      <td>Vertigo Gaming Inc.</td>\n",
       "      <td>Vertigo Gaming Inc.</td>\n",
       "      <td>Action, Indie, Simulation, Strategy</td>\n",
       "      <td>Typing: 221, Management: 213, Casual: 209, Dif...</td>\n",
       "      <td>game</td>\n",
       "      <td>Multi-player, Single-player, Co-op, Steam Achi...</td>\n",
       "      <td>100,000 .. 200,000</td>\n",
       "      <td>...</td>\n",
       "      <td>1999</td>\n",
       "      <td>1999</td>\n",
       "      <td>0</td>\n",
       "      <td>76</td>\n",
       "      <td>English</td>\n",
       "      <td>windows, mac</td>\n",
       "      <td>2020/10/14</td>\n",
       "      <td>0</td>\n",
       "      <td>http://www.cookservedelicious.com</td>\n",
       "      <td>https://cdn.akamai.steamstatic.com/steam/apps/...</td>\n",
       "    </tr>\n",
       "    <tr>\n",
       "      <th>4</th>\n",
       "      <td>1000040</td>\n",
       "      <td>细胞战争</td>\n",
       "      <td>这是一款打击感十足的细胞主题游戏！操作简单但活下去却不简单，“你”作为侵入人体的细菌病毒，通...</td>\n",
       "      <td>DoubleC Games</td>\n",
       "      <td>DoubleC Games</td>\n",
       "      <td>Action, Casual, Indie, Simulation</td>\n",
       "      <td>Action: 22, Casual: 22, Indie: 21, Simulation: 20</td>\n",
       "      <td>game</td>\n",
       "      <td>Single-player</td>\n",
       "      <td>0 .. 20,000</td>\n",
       "      <td>...</td>\n",
       "      <td>199</td>\n",
       "      <td>199</td>\n",
       "      <td>0</td>\n",
       "      <td>0</td>\n",
       "      <td>Simplified Chinese</td>\n",
       "      <td>windows</td>\n",
       "      <td>2019/03/30</td>\n",
       "      <td>0</td>\n",
       "      <td>NaN</td>\n",
       "      <td>https://cdn.akamai.steamstatic.com/steam/apps/...</td>\n",
       "    </tr>\n",
       "  </tbody>\n",
       "</table>\n",
       "<p>5 rows × 22 columns</p>\n",
       "</div>"
      ],
      "text/plain": [
       "    App ID                         Name  \\\n",
       "0       10               Counter-Strike   \n",
       "1  1000000                    ASCENXION   \n",
       "2  1000010                  Crown Trick   \n",
       "3  1000030  Cook, Serve, Delicious! 3?!   \n",
       "4  1000040                         细胞战争   \n",
       "\n",
       "                                   Short Description               Developer  \\\n",
       "0  Play the world's number 1 online action game. ...                   Valve   \n",
       "1  ASCENXION is a 2D shoot 'em up game where you ...  IndigoBlue Game Studio   \n",
       "2  Enter a labyrinth that moves as you move, wher...            NEXT Studios   \n",
       "3  Cook, serve and manage your food truck as you ...     Vertigo Gaming Inc.   \n",
       "4  这是一款打击感十足的细胞主题游戏！操作简单但活下去却不简单，“你”作为侵入人体的细菌病毒，通...           DoubleC Games   \n",
       "\n",
       "                  Publisher                                Genre  \\\n",
       "0                     Valve                               Action   \n",
       "1  PsychoFlux Entertainment             Action, Adventure, Indie   \n",
       "2      Team17, NEXT Studios      Adventure, Indie, RPG, Strategy   \n",
       "3       Vertigo Gaming Inc.  Action, Indie, Simulation, Strategy   \n",
       "4             DoubleC Games    Action, Casual, Indie, Simulation   \n",
       "\n",
       "                                                Tags  Type  \\\n",
       "0  Action: 5426, FPS: 4831, Multiplayer: 3392, Sh...  game   \n",
       "1  \"Shoot Em Up\": 186, Metroidvania: 181, Bullet ...  game   \n",
       "2  Rogue-like: 268, Turn-Based Combat: 254, RPG: ...  game   \n",
       "3  Typing: 221, Management: 213, Casual: 209, Dif...  game   \n",
       "4  Action: 22, Casual: 22, Indie: 21, Simulation: 20  game   \n",
       "\n",
       "                                          Categories  \\\n",
       "0  Multi-player, Valve Anti-Cheat enabled, Online...   \n",
       "1  Single-player, Partial Controller Support, Ste...   \n",
       "2  Single-player, Partial Controller Support, Ste...   \n",
       "3  Multi-player, Single-player, Co-op, Steam Achi...   \n",
       "4                                      Single-player   \n",
       "\n",
       "                     Owners  ...  Price  Initial Price  Discount    CCU  \\\n",
       "0  10,000,000 .. 20,000,000  ...    999            999         0  13990   \n",
       "1               0 .. 20,000  ...    999            999         0      0   \n",
       "2        200,000 .. 500,000  ...    599           1999        70     99   \n",
       "3        100,000 .. 200,000  ...   1999           1999         0     76   \n",
       "4               0 .. 20,000  ...    199            199         0      0   \n",
       "\n",
       "                                           Languages            Platforms  \\\n",
       "0  English, French, German, Italian, Spanish - Sp...  windows, mac, linux   \n",
       "1                English, Korean, Simplified Chinese              windows   \n",
       "2  Simplified Chinese, English, Japanese, Traditi...              windows   \n",
       "3                                            English         windows, mac   \n",
       "4                                 Simplified Chinese              windows   \n",
       "\n",
       "  Release Date Required Age                            Website  \\\n",
       "0    2000/11/1            0                                NaN   \n",
       "1   2021/05/14            0                                NaN   \n",
       "2   2020/10/16            0                                NaN   \n",
       "3   2020/10/14            0  http://www.cookservedelicious.com   \n",
       "4   2019/03/30            0                                NaN   \n",
       "\n",
       "                                        Header Image  \n",
       "0  https://cdn.akamai.steamstatic.com/steam/apps/...  \n",
       "1  https://cdn.akamai.steamstatic.com/steam/apps/...  \n",
       "2  https://cdn.akamai.steamstatic.com/steam/apps/...  \n",
       "3  https://cdn.akamai.steamstatic.com/steam/apps/...  \n",
       "4  https://cdn.akamai.steamstatic.com/steam/apps/...  \n",
       "\n",
       "[5 rows x 22 columns]"
      ]
     },
     "execution_count": 3,
     "metadata": {},
     "output_type": "execute_result"
    }
   ],
   "source": [
    "steam_df = pd.read_csv('steam_games.csv', sep = ';')\n",
    "steam_df.head()"
   ]
  },
  {
   "cell_type": "markdown",
   "metadata": {},
   "source": [
    "### Dữ liệu có bao nhiêu dòng, bao nhiêu cột?"
   ]
  },
  {
   "cell_type": "markdown",
   "metadata": {},
   "source": [
    "Tính số dòng và số cột lưu vào hai biến num_rows và num_cols"
   ]
  },
  {
   "cell_type": "code",
   "execution_count": null,
   "metadata": {},
   "outputs": [],
   "source": [
    "num_rows, num_cols = steam_df.shape"
   ]
  },
  {
   "cell_type": "markdown",
   "metadata": {},
   "source": [
    "### Mỗi dòng có ý nghĩa gì? Có vấn đề các dòng có ý nghĩa khác nhau không?"
   ]
  },
  {
   "cell_type": "markdown",
   "metadata": {},
   "source": [
    "Mỗi dòng cho biết thông tin của từng sản phẩm hiện có trong steam, không có dòng nào có ý nghĩa khác với các dòng còn lại."
   ]
  },
  {
   "cell_type": "markdown",
   "metadata": {},
   "source": [
    "### Tiến hành kiểm tra các dòng có bị lặp không"
   ]
  },
  {
   "cell_type": "markdown",
   "metadata": {},
   "source": [
    "Kiểm tra bằng cách lưu kết quả vào biến `have_duplicated_rows`. Biến này có giá trị True nếu dữ liệu có các dòng bị lặp và False nếu ngược lại."
   ]
  },
  {
   "cell_type": "code",
   "execution_count": 4,
   "metadata": {},
   "outputs": [],
   "source": [
    "duplicated_list = steam_df.duplicated()\n",
    "if True in duplicated_list:\n",
    "    have_duplicated_rows = True\n",
    "else:\n",
    "    have_duplicated_rows = False\n",
    "have_duplicated_rows"
   ]
  },
  {
   "cell_type": "markdown",
   "metadata": {},
   "source": [
    "Không có dòng nào bị lặp cả"
   ]
  },
  {
   "cell_type": "markdown",
   "metadata": {},
   "source": [
    "### Mỗi cột có ý nghĩa gì?"
   ]
  },
  {
   "cell_type": "markdown",
   "metadata": {},
   "source": [
    "Theo mô tả trên kaggle, các cột có ý nghĩa như sau:\n",
    "- App ID: ID của sản phẩm\n",
    "- Name: Tên sản phẩm\n",
    "- Short Description: Phần giới thiệu sản phẩm\n",
    "- Developer: Nhà phát triển sản phẩm\n",
    "- Publisher: Nhà phân phối sản phẩm\n",
    "- Genres: Các thể loại của sản phẩm\n",
    "- Tags: Các tag được gán cho sản phẩm (từ người dùng)\n",
    "- Type: Cho biết sản phẩm thuộc loại game hay là phần cứng (các phần mềm không phải game cũng được gán giá trị là game)\n",
    "- Categories: Các hạng mục/đặc trưng của sản phẩm\n",
    "- Owners: Số lượng người sở hữu sản phẩm\n",
    "- Positive Reviews: Số lượt đánh giá tích cực \n",
    "- Negative Reviews: Số lượt đánh giá tiêu cực\n",
    "- Price: Giá bán hiện tại của game (tính theo USD)\n",
    "- Initial Price: Giá bán của game thời điểm mới phát hành (USD)\n",
    "- Discount: Phần trăm giảm giá của game\n",
    "- CCU: Số lượng người chơi đồng thời cao nhất (tính vào ngày 8/11/2021)\n",
    "- Languages: Các ngôn ngữ mà sản phẩm có hỗ trợ\n",
    "- Platforms: Các nền tảng mà sản phẩm hỗ trợ\n",
    "- Release Date: Ngày phát hành sản phẩm\n",
    "- Required Age: Độ tuổi giới hạn\n",
    "- Website: Trang web của nhà phát triển/nhà phân phối\n",
    "- Header Image: Đường link lưu ảnh của sản phẩm"
   ]
  },
  {
   "cell_type": "markdown",
   "metadata": {},
   "source": [
    "### Mỗi cột hiện đang có kiểu dữ liệu gì? Có cột nào có kiểu dữ liệu chưa phù hợp để có thể xử lý tiếp hay không?"
   ]
  },
  {
   "cell_type": "code",
   "execution_count": 6,
   "metadata": {},
   "outputs": [
    {
     "data": {
      "text/plain": [
       "Index(['App ID', 'Name', 'Short Description', 'Developer', 'Publisher',\n",
       "       'Genre', 'Tags', 'Type', 'Categories', 'Owners', 'Positive Reviews',\n",
       "       'Negative Reviews', 'Price', 'Initial Price', 'Discount', 'CCU',\n",
       "       'Languages', 'Platforms', 'Release Date', 'Required Age', 'Website',\n",
       "       'Header Image'],\n",
       "      dtype='object')"
      ]
     },
     "execution_count": 6,
     "metadata": {},
     "output_type": "execute_result"
    }
   ],
   "source": [
    "steam_df.columns"
   ]
  },
  {
   "cell_type": "markdown",
   "metadata": {},
   "source": [
    "- Lúc đọc dữ liệu từ \"steam_games.csv\", ta có thể thấy warning là:\"Columns (19) have mixed types.\", nghĩa là cột 19(Required Age) có dtype không đồng nhất.<br>\n",
    "- Release Date cần đưa về dạng datetime<br>"
   ]
  },
  {
   "cell_type": "code",
   "execution_count": 7,
   "metadata": {},
   "outputs": [
    {
     "data": {
      "text/html": [
       "<div>\n",
       "<style scoped>\n",
       "    .dataframe tbody tr th:only-of-type {\n",
       "        vertical-align: middle;\n",
       "    }\n",
       "\n",
       "    .dataframe tbody tr th {\n",
       "        vertical-align: top;\n",
       "    }\n",
       "\n",
       "    .dataframe thead th {\n",
       "        text-align: right;\n",
       "    }\n",
       "</style>\n",
       "<table border=\"1\" class=\"dataframe\">\n",
       "  <thead>\n",
       "    <tr style=\"text-align: right;\">\n",
       "      <th></th>\n",
       "      <th>App ID</th>\n",
       "      <th>Name</th>\n",
       "      <th>Short Description</th>\n",
       "      <th>Developer</th>\n",
       "      <th>Publisher</th>\n",
       "      <th>Genre</th>\n",
       "      <th>Tags</th>\n",
       "      <th>Type</th>\n",
       "      <th>Categories</th>\n",
       "      <th>Owners</th>\n",
       "      <th>...</th>\n",
       "      <th>Price</th>\n",
       "      <th>Initial Price</th>\n",
       "      <th>Discount</th>\n",
       "      <th>CCU</th>\n",
       "      <th>Languages</th>\n",
       "      <th>Platforms</th>\n",
       "      <th>Release Date</th>\n",
       "      <th>Required Age</th>\n",
       "      <th>Website</th>\n",
       "      <th>Header Image</th>\n",
       "    </tr>\n",
       "  </thead>\n",
       "  <tbody>\n",
       "    <tr>\n",
       "      <th>0</th>\n",
       "      <td>10</td>\n",
       "      <td>Counter-Strike</td>\n",
       "      <td>Play the world's number 1 online action game. ...</td>\n",
       "      <td>Valve</td>\n",
       "      <td>Valve</td>\n",
       "      <td>Action</td>\n",
       "      <td>Action: 5426, FPS: 4831, Multiplayer: 3392, Sh...</td>\n",
       "      <td>game</td>\n",
       "      <td>Multi-player, Valve Anti-Cheat enabled, Online...</td>\n",
       "      <td>10,000,000 .. 20,000,000</td>\n",
       "      <td>...</td>\n",
       "      <td>999</td>\n",
       "      <td>999</td>\n",
       "      <td>0</td>\n",
       "      <td>13990</td>\n",
       "      <td>English, French, German, Italian, Spanish - Sp...</td>\n",
       "      <td>windows, mac, linux</td>\n",
       "      <td>2000/11/1</td>\n",
       "      <td>0</td>\n",
       "      <td>NaN</td>\n",
       "      <td>https://cdn.akamai.steamstatic.com/steam/apps/...</td>\n",
       "    </tr>\n",
       "    <tr>\n",
       "      <th>1</th>\n",
       "      <td>1000000</td>\n",
       "      <td>ASCENXION</td>\n",
       "      <td>ASCENXION is a 2D shoot 'em up game where you ...</td>\n",
       "      <td>IndigoBlue Game Studio</td>\n",
       "      <td>PsychoFlux Entertainment</td>\n",
       "      <td>Action, Adventure, Indie</td>\n",
       "      <td>\"Shoot Em Up\": 186, Metroidvania: 181, Bullet ...</td>\n",
       "      <td>game</td>\n",
       "      <td>Single-player, Partial Controller Support, Ste...</td>\n",
       "      <td>0 .. 20,000</td>\n",
       "      <td>...</td>\n",
       "      <td>999</td>\n",
       "      <td>999</td>\n",
       "      <td>0</td>\n",
       "      <td>0</td>\n",
       "      <td>English, Korean, Simplified Chinese</td>\n",
       "      <td>windows</td>\n",
       "      <td>2021/05/14</td>\n",
       "      <td>0</td>\n",
       "      <td>NaN</td>\n",
       "      <td>https://cdn.akamai.steamstatic.com/steam/apps/...</td>\n",
       "    </tr>\n",
       "    <tr>\n",
       "      <th>2</th>\n",
       "      <td>1000010</td>\n",
       "      <td>Crown Trick</td>\n",
       "      <td>Enter a labyrinth that moves as you move, wher...</td>\n",
       "      <td>NEXT Studios</td>\n",
       "      <td>Team17, NEXT Studios</td>\n",
       "      <td>Adventure, Indie, RPG, Strategy</td>\n",
       "      <td>Rogue-like: 268, Turn-Based Combat: 254, RPG: ...</td>\n",
       "      <td>game</td>\n",
       "      <td>Single-player, Partial Controller Support, Ste...</td>\n",
       "      <td>200,000 .. 500,000</td>\n",
       "      <td>...</td>\n",
       "      <td>599</td>\n",
       "      <td>1999</td>\n",
       "      <td>70</td>\n",
       "      <td>99</td>\n",
       "      <td>Simplified Chinese, English, Japanese, Traditi...</td>\n",
       "      <td>windows</td>\n",
       "      <td>2020/10/16</td>\n",
       "      <td>0</td>\n",
       "      <td>NaN</td>\n",
       "      <td>https://cdn.akamai.steamstatic.com/steam/apps/...</td>\n",
       "    </tr>\n",
       "    <tr>\n",
       "      <th>3</th>\n",
       "      <td>1000030</td>\n",
       "      <td>Cook, Serve, Delicious! 3?!</td>\n",
       "      <td>Cook, serve and manage your food truck as you ...</td>\n",
       "      <td>Vertigo Gaming Inc.</td>\n",
       "      <td>Vertigo Gaming Inc.</td>\n",
       "      <td>Action, Indie, Simulation, Strategy</td>\n",
       "      <td>Typing: 221, Management: 213, Casual: 209, Dif...</td>\n",
       "      <td>game</td>\n",
       "      <td>Multi-player, Single-player, Co-op, Steam Achi...</td>\n",
       "      <td>100,000 .. 200,000</td>\n",
       "      <td>...</td>\n",
       "      <td>1999</td>\n",
       "      <td>1999</td>\n",
       "      <td>0</td>\n",
       "      <td>76</td>\n",
       "      <td>English</td>\n",
       "      <td>windows, mac</td>\n",
       "      <td>2020/10/14</td>\n",
       "      <td>0</td>\n",
       "      <td>http://www.cookservedelicious.com</td>\n",
       "      <td>https://cdn.akamai.steamstatic.com/steam/apps/...</td>\n",
       "    </tr>\n",
       "    <tr>\n",
       "      <th>4</th>\n",
       "      <td>1000040</td>\n",
       "      <td>细胞战争</td>\n",
       "      <td>这是一款打击感十足的细胞主题游戏！操作简单但活下去却不简单，“你”作为侵入人体的细菌病毒，通...</td>\n",
       "      <td>DoubleC Games</td>\n",
       "      <td>DoubleC Games</td>\n",
       "      <td>Action, Casual, Indie, Simulation</td>\n",
       "      <td>Action: 22, Casual: 22, Indie: 21, Simulation: 20</td>\n",
       "      <td>game</td>\n",
       "      <td>Single-player</td>\n",
       "      <td>0 .. 20,000</td>\n",
       "      <td>...</td>\n",
       "      <td>199</td>\n",
       "      <td>199</td>\n",
       "      <td>0</td>\n",
       "      <td>0</td>\n",
       "      <td>Simplified Chinese</td>\n",
       "      <td>windows</td>\n",
       "      <td>2019/03/30</td>\n",
       "      <td>0</td>\n",
       "      <td>NaN</td>\n",
       "      <td>https://cdn.akamai.steamstatic.com/steam/apps/...</td>\n",
       "    </tr>\n",
       "  </tbody>\n",
       "</table>\n",
       "<p>5 rows × 22 columns</p>\n",
       "</div>"
      ],
      "text/plain": [
       "    App ID                         Name  \\\n",
       "0       10               Counter-Strike   \n",
       "1  1000000                    ASCENXION   \n",
       "2  1000010                  Crown Trick   \n",
       "3  1000030  Cook, Serve, Delicious! 3?!   \n",
       "4  1000040                         细胞战争   \n",
       "\n",
       "                                   Short Description               Developer  \\\n",
       "0  Play the world's number 1 online action game. ...                   Valve   \n",
       "1  ASCENXION is a 2D shoot 'em up game where you ...  IndigoBlue Game Studio   \n",
       "2  Enter a labyrinth that moves as you move, wher...            NEXT Studios   \n",
       "3  Cook, serve and manage your food truck as you ...     Vertigo Gaming Inc.   \n",
       "4  这是一款打击感十足的细胞主题游戏！操作简单但活下去却不简单，“你”作为侵入人体的细菌病毒，通...           DoubleC Games   \n",
       "\n",
       "                  Publisher                                Genre  \\\n",
       "0                     Valve                               Action   \n",
       "1  PsychoFlux Entertainment             Action, Adventure, Indie   \n",
       "2      Team17, NEXT Studios      Adventure, Indie, RPG, Strategy   \n",
       "3       Vertigo Gaming Inc.  Action, Indie, Simulation, Strategy   \n",
       "4             DoubleC Games    Action, Casual, Indie, Simulation   \n",
       "\n",
       "                                                Tags  Type  \\\n",
       "0  Action: 5426, FPS: 4831, Multiplayer: 3392, Sh...  game   \n",
       "1  \"Shoot Em Up\": 186, Metroidvania: 181, Bullet ...  game   \n",
       "2  Rogue-like: 268, Turn-Based Combat: 254, RPG: ...  game   \n",
       "3  Typing: 221, Management: 213, Casual: 209, Dif...  game   \n",
       "4  Action: 22, Casual: 22, Indie: 21, Simulation: 20  game   \n",
       "\n",
       "                                          Categories  \\\n",
       "0  Multi-player, Valve Anti-Cheat enabled, Online...   \n",
       "1  Single-player, Partial Controller Support, Ste...   \n",
       "2  Single-player, Partial Controller Support, Ste...   \n",
       "3  Multi-player, Single-player, Co-op, Steam Achi...   \n",
       "4                                      Single-player   \n",
       "\n",
       "                     Owners  ...  Price  Initial Price  Discount    CCU  \\\n",
       "0  10,000,000 .. 20,000,000  ...    999            999         0  13990   \n",
       "1               0 .. 20,000  ...    999            999         0      0   \n",
       "2        200,000 .. 500,000  ...    599           1999        70     99   \n",
       "3        100,000 .. 200,000  ...   1999           1999         0     76   \n",
       "4               0 .. 20,000  ...    199            199         0      0   \n",
       "\n",
       "                                           Languages            Platforms  \\\n",
       "0  English, French, German, Italian, Spanish - Sp...  windows, mac, linux   \n",
       "1                English, Korean, Simplified Chinese              windows   \n",
       "2  Simplified Chinese, English, Japanese, Traditi...              windows   \n",
       "3                                            English         windows, mac   \n",
       "4                                 Simplified Chinese              windows   \n",
       "\n",
       "  Release Date Required Age                            Website  \\\n",
       "0    2000/11/1            0                                NaN   \n",
       "1   2021/05/14            0                                NaN   \n",
       "2   2020/10/16            0                                NaN   \n",
       "3   2020/10/14            0  http://www.cookservedelicious.com   \n",
       "4   2019/03/30            0                                NaN   \n",
       "\n",
       "                                        Header Image  \n",
       "0  https://cdn.akamai.steamstatic.com/steam/apps/...  \n",
       "1  https://cdn.akamai.steamstatic.com/steam/apps/...  \n",
       "2  https://cdn.akamai.steamstatic.com/steam/apps/...  \n",
       "3  https://cdn.akamai.steamstatic.com/steam/apps/...  \n",
       "4  https://cdn.akamai.steamstatic.com/steam/apps/...  \n",
       "\n",
       "[5 rows x 22 columns]"
      ]
     },
     "execution_count": 7,
     "metadata": {},
     "output_type": "execute_result"
    }
   ],
   "source": [
    "steam_df.head()"
   ]
  },
  {
   "cell_type": "code",
   "execution_count": 8,
   "metadata": {},
   "outputs": [
    {
     "data": {
      "text/plain": [
       "App ID                int64\n",
       "Name                 object\n",
       "Short Description    object\n",
       "Developer            object\n",
       "Publisher            object\n",
       "Genre                object\n",
       "Tags                 object\n",
       "Type                 object\n",
       "Categories           object\n",
       "Owners               object\n",
       "Positive Reviews      int64\n",
       "Negative Reviews      int64\n",
       "Price                 int64\n",
       "Initial Price         int64\n",
       "Discount              int64\n",
       "CCU                   int64\n",
       "Languages            object\n",
       "Platforms            object\n",
       "Release Date         object\n",
       "Required Age         object\n",
       "Website              object\n",
       "Header Image         object\n",
       "dtype: object"
      ]
     },
     "execution_count": 8,
     "metadata": {},
     "output_type": "execute_result"
    }
   ],
   "source": [
    "col_dtypes=steam_df.dtypes\n",
    "col_dtypes"
   ]
  },
  {
   "cell_type": "code",
   "execution_count": 9,
   "metadata": {},
   "outputs": [
    {
     "data": {
      "text/plain": [
       "array(['0', '15', '12', '18', '16', '17', '10', '7', '5', '180', '13',\n",
       "       '3', '6', '14', 'MA 15+', '7+', '21+', 0, 18, 12, 17, 16, 13, 15,\n",
       "       8, 14, 10, 3, 7, 6, 20, 9, 180, 35], dtype=object)"
      ]
     },
     "execution_count": 9,
     "metadata": {},
     "output_type": "execute_result"
    }
   ],
   "source": [
    "steam_df['Required Age'].unique()"
   ]
  },
  {
   "cell_type": "code",
   "execution_count": 10,
>>>>>>> Stashed changes
   "metadata": {},
   "outputs": [],
   "source": [
    "import sys\n",
    "sys.executable"
   ]
  },
  {
   "cell_type": "markdown",
   "metadata": {},
   "source": [
    "## Import thư viện"
   ]
  },
  {
   "cell_type": "code",
   "execution_count": 4,
   "metadata": {},
   "outputs": [],
   "source": [
    "import pandas as pd\n",
    "import matplotlib.pyplot as plt\n",
    "import numpy as np"
   ]
  },
  {
   "cell_type": "markdown",
   "metadata": {},
   "source": [
    "## Thu thập dữ liệu"
   ]
  },
  {
   "cell_type": "markdown",
   "metadata": {},
   "source": [
    "- Nhóm sử dụng dữ liệu \"steam_games.csv\" được thu thập sẵn ở trên kaggle. Dữ liệu này là về các game hiện có ở trên steam. Nguồn của dữ liệu được lấy tại: https://www.kaggle.com/datasets/tristan581/all-55000-games-on-steam-november-2022\n",
    "- LICENSE của dữ liệu là [CC BY-SA 4.0](https://creativecommons.org/licenses/by-sa/4.0/), người dùng được phép sử dụng với mục đích phi thương mại và phải credit cho chủ sở hữu\n",
    "- Người ta đã thu thập dữ liệu này bằng cách sử dụng API của steam store và API của web thứ ba (steamspy.com)"
   ]
  },
  {
   "cell_type": "markdown",
   "metadata": {},
   "source": [
    "## Khám phá dữ liệu"
   ]
  },
  {
   "cell_type": "markdown",
   "metadata": {},
   "source": [
    "### Đọc dữ liệu vào dataframe"
   ]
  },
  {
   "cell_type": "code",
   "execution_count": 5,
   "metadata": {},
   "outputs": [
    {
     "name": "stderr",
     "output_type": "stream",
     "text": [
      "/tmp/ipykernel_86/3187035008.py:1: DtypeWarning: Columns (19) have mixed types. Specify dtype option on import or set low_memory=False.\n",
      "  steam_df = pd.read_csv('steam_games.csv', sep = ';')\n"
     ]
    },
    {
     "data": {
      "text/html": [
       "<div>\n",
       "<style scoped>\n",
       "    .dataframe tbody tr th:only-of-type {\n",
       "        vertical-align: middle;\n",
       "    }\n",
       "\n",
       "    .dataframe tbody tr th {\n",
       "        vertical-align: top;\n",
       "    }\n",
       "\n",
       "    .dataframe thead th {\n",
       "        text-align: right;\n",
       "    }\n",
       "</style>\n",
       "<table border=\"1\" class=\"dataframe\">\n",
       "  <thead>\n",
       "    <tr style=\"text-align: right;\">\n",
       "      <th></th>\n",
       "      <th>App ID</th>\n",
       "      <th>Name</th>\n",
       "      <th>Short Description</th>\n",
       "      <th>Developer</th>\n",
       "      <th>Publisher</th>\n",
       "      <th>Genre</th>\n",
       "      <th>Tags</th>\n",
       "      <th>Type</th>\n",
       "      <th>Categories</th>\n",
       "      <th>Owners</th>\n",
       "      <th>...</th>\n",
       "      <th>Price</th>\n",
       "      <th>Initial Price</th>\n",
       "      <th>Discount</th>\n",
       "      <th>CCU</th>\n",
       "      <th>Languages</th>\n",
       "      <th>Platforms</th>\n",
       "      <th>Release Date</th>\n",
       "      <th>Required Age</th>\n",
       "      <th>Website</th>\n",
       "      <th>Header Image</th>\n",
       "    </tr>\n",
       "  </thead>\n",
       "  <tbody>\n",
       "    <tr>\n",
       "      <th>0</th>\n",
       "      <td>10</td>\n",
       "      <td>Counter-Strike</td>\n",
       "      <td>Play the world's number 1 online action game. ...</td>\n",
       "      <td>Valve</td>\n",
       "      <td>Valve</td>\n",
       "      <td>Action</td>\n",
       "      <td>Action: 5426, FPS: 4831, Multiplayer: 3392, Sh...</td>\n",
       "      <td>game</td>\n",
       "      <td>Multi-player, Valve Anti-Cheat enabled, Online...</td>\n",
       "      <td>10,000,000 .. 20,000,000</td>\n",
       "      <td>...</td>\n",
       "      <td>999</td>\n",
       "      <td>999</td>\n",
       "      <td>0</td>\n",
       "      <td>13990</td>\n",
       "      <td>English, French, German, Italian, Spanish - Sp...</td>\n",
       "      <td>windows, mac, linux</td>\n",
       "      <td>2000/11/1</td>\n",
       "      <td>0</td>\n",
       "      <td>NaN</td>\n",
       "      <td>https://cdn.akamai.steamstatic.com/steam/apps/...</td>\n",
       "    </tr>\n",
       "    <tr>\n",
       "      <th>1</th>\n",
       "      <td>1000000</td>\n",
       "      <td>ASCENXION</td>\n",
       "      <td>ASCENXION is a 2D shoot 'em up game where you ...</td>\n",
       "      <td>IndigoBlue Game Studio</td>\n",
       "      <td>PsychoFlux Entertainment</td>\n",
       "      <td>Action, Adventure, Indie</td>\n",
       "      <td>\"Shoot Em Up\": 186, Metroidvania: 181, Bullet ...</td>\n",
       "      <td>game</td>\n",
       "      <td>Single-player, Partial Controller Support, Ste...</td>\n",
       "      <td>0 .. 20,000</td>\n",
       "      <td>...</td>\n",
       "      <td>999</td>\n",
       "      <td>999</td>\n",
       "      <td>0</td>\n",
       "      <td>0</td>\n",
       "      <td>English, Korean, Simplified Chinese</td>\n",
       "      <td>windows</td>\n",
       "      <td>2021/05/14</td>\n",
       "      <td>0</td>\n",
       "      <td>NaN</td>\n",
       "      <td>https://cdn.akamai.steamstatic.com/steam/apps/...</td>\n",
       "    </tr>\n",
       "    <tr>\n",
       "      <th>2</th>\n",
       "      <td>1000010</td>\n",
       "      <td>Crown Trick</td>\n",
       "      <td>Enter a labyrinth that moves as you move, wher...</td>\n",
       "      <td>NEXT Studios</td>\n",
       "      <td>Team17, NEXT Studios</td>\n",
       "      <td>Adventure, Indie, RPG, Strategy</td>\n",
       "      <td>Rogue-like: 268, Turn-Based Combat: 254, RPG: ...</td>\n",
       "      <td>game</td>\n",
       "      <td>Single-player, Partial Controller Support, Ste...</td>\n",
       "      <td>200,000 .. 500,000</td>\n",
       "      <td>...</td>\n",
       "      <td>599</td>\n",
       "      <td>1999</td>\n",
       "      <td>70</td>\n",
       "      <td>99</td>\n",
       "      <td>Simplified Chinese, English, Japanese, Traditi...</td>\n",
       "      <td>windows</td>\n",
       "      <td>2020/10/16</td>\n",
       "      <td>0</td>\n",
       "      <td>NaN</td>\n",
       "      <td>https://cdn.akamai.steamstatic.com/steam/apps/...</td>\n",
       "    </tr>\n",
       "    <tr>\n",
       "      <th>3</th>\n",
       "      <td>1000030</td>\n",
       "      <td>Cook, Serve, Delicious! 3?!</td>\n",
       "      <td>Cook, serve and manage your food truck as you ...</td>\n",
       "      <td>Vertigo Gaming Inc.</td>\n",
       "      <td>Vertigo Gaming Inc.</td>\n",
       "      <td>Action, Indie, Simulation, Strategy</td>\n",
       "      <td>Typing: 221, Management: 213, Casual: 209, Dif...</td>\n",
       "      <td>game</td>\n",
       "      <td>Multi-player, Single-player, Co-op, Steam Achi...</td>\n",
       "      <td>100,000 .. 200,000</td>\n",
       "      <td>...</td>\n",
       "      <td>1999</td>\n",
       "      <td>1999</td>\n",
       "      <td>0</td>\n",
       "      <td>76</td>\n",
       "      <td>English</td>\n",
       "      <td>windows, mac</td>\n",
       "      <td>2020/10/14</td>\n",
       "      <td>0</td>\n",
       "      <td>http://www.cookservedelicious.com</td>\n",
       "      <td>https://cdn.akamai.steamstatic.com/steam/apps/...</td>\n",
       "    </tr>\n",
       "    <tr>\n",
       "      <th>4</th>\n",
       "      <td>1000040</td>\n",
       "      <td>细胞战争</td>\n",
       "      <td>这是一款打击感十足的细胞主题游戏！操作简单但活下去却不简单，“你”作为侵入人体的细菌病毒，通...</td>\n",
       "      <td>DoubleC Games</td>\n",
       "      <td>DoubleC Games</td>\n",
       "      <td>Action, Casual, Indie, Simulation</td>\n",
       "      <td>Action: 22, Casual: 22, Indie: 21, Simulation: 20</td>\n",
       "      <td>game</td>\n",
       "      <td>Single-player</td>\n",
       "      <td>0 .. 20,000</td>\n",
       "      <td>...</td>\n",
       "      <td>199</td>\n",
       "      <td>199</td>\n",
       "      <td>0</td>\n",
       "      <td>0</td>\n",
       "      <td>Simplified Chinese</td>\n",
       "      <td>windows</td>\n",
       "      <td>2019/03/30</td>\n",
       "      <td>0</td>\n",
       "      <td>NaN</td>\n",
       "      <td>https://cdn.akamai.steamstatic.com/steam/apps/...</td>\n",
       "    </tr>\n",
       "  </tbody>\n",
       "</table>\n",
       "<p>5 rows × 22 columns</p>\n",
       "</div>"
      ],
      "text/plain": [
       "    App ID                         Name  \\\n",
       "0       10               Counter-Strike   \n",
       "1  1000000                    ASCENXION   \n",
       "2  1000010                  Crown Trick   \n",
       "3  1000030  Cook, Serve, Delicious! 3?!   \n",
       "4  1000040                         细胞战争   \n",
       "\n",
       "                                   Short Description               Developer  \\\n",
       "0  Play the world's number 1 online action game. ...                   Valve   \n",
       "1  ASCENXION is a 2D shoot 'em up game where you ...  IndigoBlue Game Studio   \n",
       "2  Enter a labyrinth that moves as you move, wher...            NEXT Studios   \n",
       "3  Cook, serve and manage your food truck as you ...     Vertigo Gaming Inc.   \n",
       "4  这是一款打击感十足的细胞主题游戏！操作简单但活下去却不简单，“你”作为侵入人体的细菌病毒，通...           DoubleC Games   \n",
       "\n",
       "                  Publisher                                Genre  \\\n",
       "0                     Valve                               Action   \n",
       "1  PsychoFlux Entertainment             Action, Adventure, Indie   \n",
       "2      Team17, NEXT Studios      Adventure, Indie, RPG, Strategy   \n",
       "3       Vertigo Gaming Inc.  Action, Indie, Simulation, Strategy   \n",
       "4             DoubleC Games    Action, Casual, Indie, Simulation   \n",
       "\n",
       "                                                Tags  Type  \\\n",
       "0  Action: 5426, FPS: 4831, Multiplayer: 3392, Sh...  game   \n",
       "1  \"Shoot Em Up\": 186, Metroidvania: 181, Bullet ...  game   \n",
       "2  Rogue-like: 268, Turn-Based Combat: 254, RPG: ...  game   \n",
       "3  Typing: 221, Management: 213, Casual: 209, Dif...  game   \n",
       "4  Action: 22, Casual: 22, Indie: 21, Simulation: 20  game   \n",
       "\n",
       "                                          Categories  \\\n",
       "0  Multi-player, Valve Anti-Cheat enabled, Online...   \n",
       "1  Single-player, Partial Controller Support, Ste...   \n",
       "2  Single-player, Partial Controller Support, Ste...   \n",
       "3  Multi-player, Single-player, Co-op, Steam Achi...   \n",
       "4                                      Single-player   \n",
       "\n",
       "                     Owners  ...  Price  Initial Price  Discount    CCU  \\\n",
       "0  10,000,000 .. 20,000,000  ...    999            999         0  13990   \n",
       "1               0 .. 20,000  ...    999            999         0      0   \n",
       "2        200,000 .. 500,000  ...    599           1999        70     99   \n",
       "3        100,000 .. 200,000  ...   1999           1999         0     76   \n",
       "4               0 .. 20,000  ...    199            199         0      0   \n",
       "\n",
       "                                           Languages            Platforms  \\\n",
       "0  English, French, German, Italian, Spanish - Sp...  windows, mac, linux   \n",
       "1                English, Korean, Simplified Chinese              windows   \n",
       "2  Simplified Chinese, English, Japanese, Traditi...              windows   \n",
       "3                                            English         windows, mac   \n",
       "4                                 Simplified Chinese              windows   \n",
       "\n",
       "  Release Date Required Age                            Website  \\\n",
       "0    2000/11/1            0                                NaN   \n",
       "1   2021/05/14            0                                NaN   \n",
       "2   2020/10/16            0                                NaN   \n",
       "3   2020/10/14            0  http://www.cookservedelicious.com   \n",
       "4   2019/03/30            0                                NaN   \n",
       "\n",
       "                                        Header Image  \n",
       "0  https://cdn.akamai.steamstatic.com/steam/apps/...  \n",
       "1  https://cdn.akamai.steamstatic.com/steam/apps/...  \n",
       "2  https://cdn.akamai.steamstatic.com/steam/apps/...  \n",
       "3  https://cdn.akamai.steamstatic.com/steam/apps/...  \n",
       "4  https://cdn.akamai.steamstatic.com/steam/apps/...  \n",
       "\n",
       "[5 rows x 22 columns]"
      ]
     },
     "execution_count": 5,
     "metadata": {},
     "output_type": "execute_result"
    }
   ],
   "source": [
    "steam_df = pd.read_csv('steam_games.csv', sep = ';')\n",
    "steam_df.head()"
   ]
  },
  {
   "cell_type": "markdown",
   "metadata": {},
   "source": [
    "### Dữ liệu có bao nhiêu dòng, bao nhiêu cột?"
   ]
  },
  {
   "cell_type": "markdown",
   "metadata": {},
   "source": [
    "Tính số dòng và số cột lưu vào hai biến num_rows và num_cols"
   ]
  },
  {
   "cell_type": "code",
   "execution_count": 6,
   "metadata": {},
   "outputs": [],
   "source": [
    "num_rows, num_cols = steam_df.shape"
   ]
  },
  {
   "cell_type": "markdown",
   "metadata": {},
   "source": [
    "### Mỗi dòng có ý nghĩa gì? Có vấn đề các dòng có ý nghĩa khác nhau không?"
   ]
  },
  {
   "cell_type": "markdown",
   "metadata": {},
   "source": [
    "Mỗi dòng cho biết thông tin của từng sản phẩm hiện có trong steam, không có dòng nào có ý nghĩa khác với các dòng còn lại."
   ]
  },
  {
   "cell_type": "markdown",
   "metadata": {},
   "source": [
    "### Tiến hành kiểm tra các dòng có bị lặp không"
   ]
  },
  {
   "cell_type": "markdown",
   "metadata": {},
   "source": [
    "Kiểm tra bằng cách lưu kết quả vào biến `have_duplicated_rows`. Biến này có giá trị True nếu dữ liệu có các dòng bị lặp và False nếu ngược lại."
   ]
  },
  {
   "cell_type": "code",
   "execution_count": 9,
   "metadata": {},
   "outputs": [
    {
     "data": {
      "text/plain": [
       "False"
      ]
     },
     "execution_count": 9,
     "metadata": {},
     "output_type": "execute_result"
    }
   ],
   "source": [
    "duplicated_list = steam_df.duplicated()\n",
    "if True in duplicated_list:\n",
    "    have_duplicated_rows = True\n",
    "else:\n",
    "    have_duplicated_rows = False\n",
    "have_duplicated_rows"
   ]
  },
  {
   "cell_type": "markdown",
   "metadata": {},
   "source": [
    "Không có dòng nào bị lặp cả"
   ]
  },
  {
   "cell_type": "markdown",
   "metadata": {},
   "source": [
    "### Mỗi cột có ý nghĩa gì?"
   ]
  },
  {
   "cell_type": "markdown",
   "metadata": {},
   "source": [
    "Theo mô tả trên kaggle, các cột có ý nghĩa như sau:\n",
    "- App ID: ID của sản phẩm\n",
    "- Name: Tên sản phẩm\n",
    "- Short Description: Phần giới thiệu sản phẩm\n",
    "- Developer: Nhà phát triển sản phẩm\n",
    "- Publisher: Nhà phân phối sản phẩm\n",
    "- Genres: Các thể loại của sản phẩm\n",
    "- Tags: Các tag được gán cho sản phẩm (từ người dùng)\n",
    "- Type: Cho biết sản phẩm thuộc loại game hay là phần cứng (các phần mềm không phải game cũng được gán giá trị là game)\n",
    "- Categories: Các hạng mục/đặc trưng của sản phẩm\n",
    "- Owners: Số lượng người sở hữu sản phẩm\n",
    "- Positive Reviews: Số lượt đánh giá tích cực \n",
    "- Negative Reviews: Số lượt đánh giá tiêu cực\n",
    "- Price: Giá bán hiện tại của game (tính theo USD)\n",
    "- Initial Price: Giá bán của game thời điểm mới phát hành (USD)\n",
    "- Discount: Phần trăm giảm giá của game\n",
    "- CCU: Số lượng người chơi đồng thời cao nhất (tính vào ngày 8/11/2021)\n",
    "- Languages: Các ngôn ngữ mà sản phẩm có hỗ trợ\n",
    "- Platforms: Các nền tảng mà sản phẩm hỗ trợ\n",
    "- Release Date: Ngày phát hành sản phẩm\n",
    "- Required Age: Độ tuổi giới hạn\n",
    "- Website: Trang web của nhà phát triển/nhà phân phối\n",
    "- Header Image: Đường link lưu ảnh của sản phẩm"
   ]
  },
  {
   "cell_type": "markdown",
   "metadata": {},
   "source": [
    "### Mỗi cột hiện đang có kiểu dữ liệu gì? Có cột nào có kiểu dữ liệu chưa phù hợp để có thể xử lý tiếp hay không?"
   ]
  },
  {
   "cell_type": "code",
   "execution_count": 19,
   "metadata": {},
   "outputs": [],
   "source": [
    "#YOUR CODE HERE"
   ]
  },
  {
   "cell_type": "markdown",
   "metadata": {},
   "source": [
    "### Với mỗi cột, các giá trị được phân bố như thế nào?"
   ]
  },
  {
   "cell_type": "code",
   "execution_count": 20,
   "metadata": {},
   "outputs": [],
   "source": [
    "#YOUR CODE HERE"
   ]
  },
  {
   "cell_type": "markdown",
   "metadata": {},
   "source": [
    "## Đưa ra các câu hỏi"
   ]
  },
  {
   "cell_type": "markdown",
   "metadata": {},
   "source": [
    "YOUR TEXT HERE"
   ]
  },
  {
   "cell_type": "markdown",
   "metadata": {},
   "source": [
    "## Tiền xử lý và phân tích dữ liệu để trả lời cho từng câu hỏi"
   ]
  }
 ],
 "metadata": {
  "kernelspec": {
   "display_name": "Python 3 (ipykernel)",
   "language": "python",
   "name": "python3"
  },
  "language_info": {
   "codemirror_mode": {
    "name": "ipython",
    "version": 3
   },
   "file_extension": ".py",
   "mimetype": "text/x-python",
   "name": "python",
   "nbconvert_exporter": "python",
   "pygments_lexer": "ipython3",
   "version": "3.9.12"
  },
  "vscode": {
   "interpreter": {
    "hash": "31671a60cee805c34c73116577b485118ff3a75c458d3004d49632c19702ac60"
   }
  }
 },
 "nbformat": 4,
 "nbformat_minor": 2
}
