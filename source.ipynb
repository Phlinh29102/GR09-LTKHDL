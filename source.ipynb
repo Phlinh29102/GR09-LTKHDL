{
 "cells": [
  {
   "cell_type": "markdown",
   "metadata": {},
   "source": [
    "# Đồ án Thực Hành Lập Trình Khoa Học Dữ Liệu"
   ]
  },
  {
   "cell_type": "code",
   "execution_count": null,
   "metadata": {},
   "outputs": [],
   "source": [
    "import sys\n",
    "sys.executable"
   ]
  },
  {
   "cell_type": "markdown",
   "metadata": {},
   "source": [
    "## Import thư viện"
   ]
  },
  {
   "cell_type": "code",
   "execution_count": null,
   "metadata": {},
   "outputs": [],
   "source": [
    "import pandas as pd\n",
    "import matplotlib.pyplot as plt\n",
    "import numpy as np\n",
    "import datetime as dt\n",
    "import re\n",
    "from collections import Counter"
   ]
  },
  {
   "cell_type": "markdown",
   "metadata": {},
   "source": [
    "## Thu thập dữ liệu"
   ]
  },
  {
   "cell_type": "markdown",
   "metadata": {},
   "source": [
    "- Nhóm sử dụng dữ liệu \"steam_games.csv\" được thu thập sẵn ở trên kaggle. Dữ liệu này là về các game hiện có ở trên steam. Nguồn của dữ liệu được lấy tại: https://www.kaggle.com/datasets/tristan581/all-55000-games-on-steam-november-2022\n",
    "- LICENSE của dữ liệu là [CC BY-SA 4.0](https://creativecommons.org/licenses/by-sa/4.0/), người dùng được phép sử dụng với mục đích phi thương mại và phải credit cho chủ sở hữu\n",
    "- Người ta đã thu thập dữ liệu này bằng cách sử dụng API của steam store và API của web thứ ba (steamspy.com)"
   ]
  },
  {
   "cell_type": "markdown",
   "metadata": {},
   "source": [
    "## Khám phá dữ liệu"
   ]
  },
  {
   "cell_type": "markdown",
   "metadata": {},
   "source": [
    "### Đọc dữ liệu vào dataframe"
   ]
  },
  {
   "cell_type": "code",
   "execution_count": null,
   "metadata": {},
   "outputs": [],
   "source": [
    "steam_df = pd.read_csv('steam_games.csv', sep = ';')\n",
    "steam_df.head()"
   ]
  },
  {
   "cell_type": "markdown",
   "metadata": {},
   "source": [
    "### Dữ liệu có bao nhiêu dòng, bao nhiêu cột?"
   ]
  },
  {
   "cell_type": "markdown",
   "metadata": {},
   "source": [
    "Tính số dòng và số cột lưu vào hai biến num_rows và num_cols"
   ]
  },
  {
   "cell_type": "code",
   "execution_count": null,
   "metadata": {},
   "outputs": [],
   "source": [
    "num_rows, num_cols = steam_df.shape\n",
    "num_rows, num_cols"
   ]
  },
  {
   "cell_type": "markdown",
   "metadata": {},
   "source": [
    "### Mỗi dòng có ý nghĩa gì? Có vấn đề các dòng có ý nghĩa khác nhau không?"
   ]
  },
  {
   "cell_type": "markdown",
   "metadata": {},
   "source": [
    "Mỗi dòng cho biết thông tin của từng sản phẩm hiện có trong steam, không có dòng nào có ý nghĩa khác với các dòng còn lại."
   ]
  },
  {
   "cell_type": "markdown",
   "metadata": {},
   "source": [
    "### Tiến hành kiểm tra các dòng có bị lặp không"
   ]
  },
  {
   "cell_type": "markdown",
   "metadata": {},
   "source": [
    "Kiểm tra bằng cách lưu kết quả vào biến `have_duplicated_rows`. Biến này có giá trị True nếu dữ liệu có các dòng bị lặp và False nếu ngược lại."
   ]
  },
  {
   "cell_type": "code",
   "execution_count": null,
   "metadata": {},
   "outputs": [],
   "source": [
    "have_duplicated_rows = steam_df.duplicated().any()\n",
    "have_duplicated_rows"
   ]
  },
  {
   "cell_type": "markdown",
   "metadata": {},
   "source": [
    "Không có dòng nào bị lặp cả"
   ]
  },
  {
   "cell_type": "markdown",
   "metadata": {},
   "source": [
    "### Mỗi cột có ý nghĩa gì?"
   ]
  },
  {
   "cell_type": "markdown",
   "metadata": {},
   "source": [
    "Theo mô tả trên kaggle, các cột có ý nghĩa như sau:\n",
    "- App ID: ID của sản phẩm\n",
    "- Name: Tên sản phẩm\n",
    "- Short Description: Phần giới thiệu sản phẩm\n",
    "- Developer: Nhà phát triển sản phẩm\n",
    "- Publisher: Nhà phân phối sản phẩm\n",
    "- Genre: Các thể loại của sản phẩm\n",
    "- Tags: Các tag được gán cho sản phẩm (từ người dùng)\n",
    "- Type: Cho biết sản phẩm thuộc loại game hay là phần cứng (các phần mềm không phải game cũng được gán giá trị là game)\n",
    "- Categories: Các hạng mục/đặc trưng của sản phẩm\n",
    "- Owners: Số lượng người sở hữu sản phẩm\n",
    "- Positive Reviews: Số lượt đánh giá tích cực \n",
    "- Negative Reviews: Số lượt đánh giá tiêu cực\n",
    "- Price: Giá bán hiện tại của game (tính theo USD)\n",
    "- Initial Price: Giá bán của game thời điểm mới phát hành (USD)\n",
    "- Discount: Phần trăm giảm giá của game\n",
    "- CCU: Số lượng người chơi đồng thời cao nhất (tính vào ngày 8/11/2021)\n",
    "- Languages: Các ngôn ngữ mà sản phẩm có hỗ trợ\n",
    "- Platforms: Các nền tảng mà sản phẩm hỗ trợ\n",
    "- Release Date: Ngày phát hành sản phẩm\n",
    "- Required Age: Độ tuổi giới hạn\n",
    "- Website: Trang web của nhà phát triển/nhà phân phối\n",
    "- Header Image: Đường link lưu ảnh của sản phẩm"
   ]
  },
  {
   "cell_type": "markdown",
   "metadata": {},
   "source": [
    "### Mỗi cột hiện đang có kiểu dữ liệu gì? Có cột nào có kiểu dữ liệu chưa phù hợp để có thể xử lý tiếp hay không?"
   ]
  },
  {
   "cell_type": "code",
   "execution_count": null,
   "metadata": {},
   "outputs": [],
   "source": [
    "steam_df.columns"
   ]
  },
  {
   "cell_type": "markdown",
   "metadata": {},
   "source": [
    "- Lúc đọc dữ liệu từ \"steam_games.csv\", ta có thể thấy warning là:\"Columns (19) have mixed types.\", nghĩa là cột 19(Required Age) có dtype không đồng nhất.<br>\n",
    "- Release Date cần đưa về dạng datetime<br>"
   ]
  },
  {
   "cell_type": "code",
   "execution_count": null,
   "metadata": {},
   "outputs": [],
   "source": [
    "steam_df.head()"
   ]
  },
  {
   "cell_type": "code",
   "execution_count": null,
   "metadata": {},
   "outputs": [],
   "source": [
    "col_dtypes=steam_df.dtypes\n",
    "col_dtypes"
   ]
  },
  {
   "cell_type": "code",
   "execution_count": null,
   "metadata": {},
   "outputs": [],
   "source": [
    "steam_df['Required Age'].unique()"
   ]
  },
  {
   "cell_type": "code",
   "execution_count": null,
   "metadata": {},
   "outputs": [],
   "source": [
    "def open_object_dtype(s):\n",
    "    dtypes = set(s.apply(type))\n",
    "    return dtypes\n",
    "open_object_dtype(steam_df['Required Age'])\n",
    "# USK 0 =PEGI 3: phù hợp"
   ]
  },
  {
   "cell_type": "markdown",
   "metadata": {},
   "source": [
    "- Steam(*https://store.steampowered.com/*) là một nền tảng phân phối trực tuyến, quản lý bản quyền kỹ thuật số, trò chơi điện tử nhiều người chơi, và dịch vụ giao tiếp xã hội trên nền internet phát triển bởi Valve Corporation. Nên các trò chơi điện tử của các quốc gia khác nhau có giới hạn độ tuổi(**Required Age**) khác nhau, sau đây để dễ so sánh và tổng hợp, nhóm mình(em) xin được quy những giới hạn độ tuổi về thang PEGI(*https://pegi.info/what-do-the-labels-mean*).<br>\n",
    "- Ở cột **Requied Age** ta xử lý chuyển đổi thông tin thành dạng sau đây:<br>\n",
    "\t- 3(PEGI 3) – suitable for all ages, \n",
    "\t- 7(PEGI 7) – suitable for young children (age>=7)\n",
    "\t- 12(PEGI 12) – suitable for children 12 and over (age>=12)\n",
    "\t- 16(PEGI 16) – suitable for children 16 and over (age>=16)\n",
    "\t- 18(PEGI 18) – Only suitable for adults (age>=18)"
   ]
  },
  {
   "cell_type": "code",
   "execution_count": null,
   "metadata": {},
   "outputs": [],
   "source": [
    "def trans_age(type_age):\n",
    "    l_age=re.findall(r'\\d{1,2}',str(type_age))\n",
    "    age=int(l_age[0])\n",
    "    if age>=18:\n",
    "        return 18\n",
    "    elif age>=16:\n",
    "        return 16\n",
    "    elif age>=12:\n",
    "        return 12\n",
    "    elif age>=7:\n",
    "        return 7\n",
    "    return 3\n",
    "steam_df['Required Age']=steam_df['Required Age'].apply(trans_age)"
   ]
  },
  {
   "cell_type": "code",
   "execution_count": null,
   "metadata": {},
   "outputs": [],
   "source": [
    "# steam_df['Release Date']=pd.to_datetime(steam_df['Release Date'],format='%Y/%m/%d')\n",
    "steam_df['Release Date']=steam_df['Release Date'].astype('datetime64[s]')"
   ]
  },
  {
   "cell_type": "markdown",
   "metadata": {},
   "source": [
    "### Với mỗi cột, các giá trị được phân bố như thế nào?"
   ]
  },
  {
   "cell_type": "code",
   "execution_count": null,
   "metadata": {},
   "outputs": [],
   "source": [
    "#YOUR CODE HERE\n",
    "\n",
    "numeric_cols=steam_df[steam_df.select_dtypes(include=[int,'datetime64[ns]']).columns]\n",
    "\n",
    "def missing_ratio(col):\n",
    "    return np.round(col.isnull().sum()/len(col)*100,4)\n",
    "def min(col):\n",
    "    return col.min()\n",
    "def max(col):\n",
    "    return col.max()\n",
    "\n",
    "num_col_profiles_df=numeric_cols.agg([missing_ratio,min,max])\n",
    "num_col_profiles_df\n",
    "\n"
   ]
  },
  {
   "cell_type": "markdown",
   "metadata": {},
   "source": [
    "- Ta thực hiện kiểm tra giá trị phân bố của các biến object:\n",
    "\t- Với các cột **Name, Short Description,Website, Header Image** là những cột chứa thông tin đặc trưng của từng game, nên giá trị phân bố là trải rộng đều với nhau\n",
    "\t- Với cột **Tags** chứa thông tin của từng Genre của game nên ở đây ta cũng không xét phân bố như thế nào"
   ]
  },
  {
   "cell_type": "code",
   "execution_count": null,
   "metadata": {},
   "outputs": [],
   "source": [
    "steam_df.head()"
   ]
  },
  {
   "cell_type": "code",
   "execution_count": null,
   "metadata": {},
   "outputs": [],
   "source": [
    "# object_cols=steam_df[]\n",
    "# display(object_cols)\n",
    "object_cols=['Developer', 'Publisher', 'Genre', 'Type', 'Categories', 'Owners', 'Languages', 'Platforms']\n",
    "# steam_df.select_dtypes(include=[object]).columns\n",
    "print(object_cols)\n",
    "# def str_to_list(col):\n",
    "#     for i in col.index:\n",
    "#         if type(col.at[i])==str:\n",
    "#             col.at[i]=col.at[i].split(',')\n",
    "#     return col\n",
    "def split_str(st):\n",
    "    if not (st is np.nan):\n",
    "        return st.split(',')\n",
    "    return []"
   ]
  },
  {
   "cell_type": "markdown",
   "metadata": {},
   "source": [
    "<h3 style=\"color: orange\">Developer</h3>"
   ]
  },
  {
   "cell_type": "code",
   "execution_count": null,
   "metadata": {},
   "outputs": [],
   "source": [
    "pd.set_option(\"display.max_rows\",None)\n",
    "def lower_str(st):\n",
    "    if not (st is np.nan):\n",
    "        return st.lower()\n",
    "    return \"\"\n",
    "def convert_co_inc(st):\n",
    "    if not (st is np.nan):\n",
    "        st = re.sub(\" *ltd.?[ .]*\",\"ltd.,\", st)\n",
    "        st= re.sub(\" *inc.?[ .]*\",\"inc.,\", st)\n",
    "        st= re.sub(\" *llc.?[ .]*\",\"llc.,\", st)\n",
    "        return re.sub(r\" *, *(?!inc|ltd|llc)\",\";\", st)\n",
    "    return \"\"\n",
    "def split_dev(st):\n",
    "    if not (st is np.nan):\n",
    "        return st.split(';')\n",
    "    return []\n",
    "\n",
    "steam_df.Developer.apply(lower_str).apply(convert_co_inc).apply(split_dev).explode().replace(\"\",np.nan).value_counts()"
   ]
  },
  {
   "cell_type": "markdown",
   "metadata": {},
   "source": [
    "<h3 style=\"color: orange\">Publisher</h3>"
   ]
  },
  {
   "cell_type": "code",
   "execution_count": null,
   "metadata": {},
   "outputs": [],
   "source": [
    "steam_df.Publisher.apply(lower_str).apply(convert_co_inc).apply(split_dev).explode().replace(\"\",np.nan).value_counts()"
   ]
  },
  {
   "cell_type": "markdown",
   "metadata": {},
   "source": [
    "<h3 style=\"color: orange\">Genre</h3>"
   ]
  },
  {
   "cell_type": "code",
   "execution_count": null,
   "metadata": {},
   "outputs": [],
   "source": [
    "col=steam_df.Genre\n",
    "col=col.apply(split_str)\n",
    "col=col.explode()\n",
    "col=col.str.strip()\n",
    "ratio_value=col.value_counts(normalize=True).multiply(100)\n",
    "num_value=len(ratio_value)\n",
    "print(num_value)\n",
    "print(ratio_value)"
   ]
  },
  {
   "cell_type": "markdown",
   "metadata": {},
   "source": [
    "<h3 style=\"color: orange\">Type</h3>"
   ]
  },
  {
   "cell_type": "code",
   "execution_count": null,
   "metadata": {},
   "outputs": [],
   "source": [
    "ratio_value=steam_df.Type.value_counts(normalize=True).multiply(100)\n",
    "num_value=len(ratio_value)\n",
    "print(num_value)\n",
    "print(ratio_value)"
   ]
  },
  {
   "cell_type": "markdown",
   "metadata": {},
   "source": [
    "<h3 style=\"color: orange\">Categories</h3>"
   ]
  },
  {
   "cell_type": "code",
   "execution_count": null,
   "metadata": {},
   "outputs": [],
   "source": [
    "col=steam_df.Categories\n",
    "col=col.apply(split_str)\n",
    "col=col.explode()\n",
    "col=col.str.strip()\n",
    "ratio_value=col.value_counts(normalize=True).multiply(100)\n",
    "num_value=len(ratio_value)\n",
    "print(num_value)\n",
    "print(ratio_value)"
   ]
  },
  {
   "cell_type": "markdown",
   "metadata": {},
   "source": [
    "<h3 style=\"color: orange\">Owners</h3>"
   ]
  },
  {
   "cell_type": "code",
   "execution_count": null,
   "metadata": {},
   "outputs": [],
   "source": [
    "def split_owner(st):\n",
    "    if not(st is np.nan):\n",
    "        st=st.replace(',','')\n",
    "        value=st.split('..')\n",
    "        return (int(value[0]),int(value[1]))\n",
    "    return np.nan\n",
    "ratio_value=steam_df.Owners.apply(split_owner).value_counts(normalize=True).multiply(100)\n",
    "num_value=len(ratio_value)\n",
    "print(num_value)\n",
    "print(ratio_value)"
   ]
  },
  {
   "cell_type": "markdown",
   "metadata": {},
   "source": [
    "<h3 style=\"color: orange\">Languages</h3>"
   ]
  },
  {
   "cell_type": "code",
   "execution_count": null,
   "metadata": {},
   "outputs": [],
   "source": [
    "def clean_lang(lang_str):\n",
    "    if not (lang_str is np.nan):\n",
    "        return lang_str.replace('\\r\\n',',').replace('[b]*[/b]','').replace(';','').replace('#lang_slovakian', 'Slovak')\n",
    "    return \"\"\n",
    "\n",
    "col=steam_df.Languages\n",
    "# Xử lý dữ liệu\n",
    "col=col.apply(clean_lang).apply(split_str)\n",
    "col=col.explode()\n",
    "col=col.str.strip()\n",
    "col=col.apply(lambda st: st.split('-')[0].strip())\n",
    "col=col.replace('',np.nan)\n",
    "\n",
    "# Xem các giá trị trong cột được phân bố như thế nào\n",
    "ratio_value=col.value_counts(normalize=True).multiply(100)\n",
    "num_value=len(ratio_value)\n",
    "print(num_value)\n",
    "print(ratio_value)"
   ]
  },
  {
   "cell_type": "markdown",
   "metadata": {},
   "source": [
    "<h3 style=\"color: orange\">Platforms</h3>"
   ]
  },
  {
   "cell_type": "code",
   "execution_count": null,
   "metadata": {},
   "outputs": [],
   "source": [
    "col = steam_df['Platforms']\n",
    "col=col.apply(split_str)\n",
    "col=col.explode()\n",
    "col=col.str.strip()\n",
    "ratio_value=col.value_counts(normalize=True).multiply(100)\n",
    "num_value=len(ratio_value)\n",
    "print(num_value)\n",
    "print(ratio_value)"
   ]
  },
  {
   "cell_type": "markdown",
   "metadata": {},
   "source": [
    "## Đưa ra các câu hỏi"
   ]
  },
  {
   "cell_type": "markdown",
   "metadata": {},
   "source": [
    "### Câu 1: Các thể loại có lượt người tag nhiều nhất. Tương quan giữa lượt tag thể loại của game đó với thể loại chính thức của game?"
   ]
  },
  {
   "cell_type": "markdown",
   "metadata": {},
   "source": [
    "**Ý nghĩa khi trả lời câu hỏi:** \n",
    "* Có được cái nhìn tổng quan về từng thể loại, thể loại được người chơi công nhận nhiều nhất (thể loại mỗi game do chính người chơi tự nhìn nhận và định nghĩa)\n",
    "* Biết được liệu rằng thể loại chính thức của game có giống với những gì mà người dùng trải nghiệm hay không?\n",
    "\n",
    "**Các bước cần làm để để trả lời câu hỏi:**\n",
    "\n",
    "* Đầu tiên ta cần đưa thông tin về lượt tag trong từng game về dưới dạng dictionary với key là thể loại và value là số lượng người dùng tag game với thể loại đó\n",
    "* Tiếp đến để xét tổng quan lượt tag của từng thể loại, ta cần cộng các giá trị lượt tag của từng thể loại xuyên suốt tất cả các game với nhau và lưu vào một Series với index là tên thể loại và value là tổng số lượt tag của thể loại đó\n",
    "* Với ý thứ hai, ta sẽ xét các thể loại (genres) chính thức của game bằng cách chấm điểm dựa vào số lượt tag của từng thể loại, cụ thể như sau:\n",
    "    * Đối với các thể loại chính thức có ở trong phần tag, ta tính điểm bằng tỉ lệ giữa lượt tag của thể loại đó với tổng lượt tag\n",
    "    * Đối với các thể loại chính thức nhưng không có trong phần tag thì ta cho điểm bằng 0\n",
    "    * Từ điểm của từng thể loại, ta tính trung bình điểm bằng cách lấy tổng điểm của các thể loại chính thức đã tính ở trên chia cho tổng số thể loại."
   ]
  },
  {
   "cell_type": "markdown",
   "metadata": {},
   "source": [
    "## Tiền xử lý và phân tích dữ liệu để trả lời cho từng câu hỏi"
   ]
  },
  {
   "cell_type": "markdown",
   "metadata": {},
   "source": [
    "### Tiền xử lý và phân tích cho câu 1:"
   ]
  },
  {
   "cell_type": "markdown",
   "metadata": {},
   "source": [
    "**Bước 1:** Ta tạo một dataframe mới có 2 cột là `Genre` và `Tags` lấy từ dataframe gốc, với cột `Tags`, ta tiến hành chuyển đổi nó về dạng dictionary với key là thể loại và values là số lượng người dùng tag game với thể loại đó."
   ]
  },
  {
   "cell_type": "code",
   "execution_count": null,
   "metadata": {},
   "outputs": [],
   "source": [
    "def split_genre(x):\n",
    "    if x is np.nan:\n",
    "        return np.nan\n",
    "    return [i.strip() for i in x.split(',')]\n",
    "def split_tags(x):\n",
    "    if x is np.nan:\n",
    "        return []\n",
    "    return [i.strip() for i in x.split(',')]\n",
    "genres_tag_df = steam_df[[\"Genre\", \"Tags\"]].copy()\n",
    "genres_tag_df[\"Genre\"] = genres_tag_df[\"Genre\"].apply(split_genre)\n",
    "genres_tag_df[\"Tags\"] = genres_tag_df[\"Tags\"].apply(split_tags)\n",
    "def convert_to_dict(x: list):\n",
    "    res = {}\n",
    "    if len(x) == 0:\n",
    "        return np.nan\n",
    "    for string in x:\n",
    "        key, val = string.split(': ')\n",
    "        res[key] = int(val)\n",
    "    return res\n",
    "genres_tag_df[\"Tags\"] = genres_tag_df[\"Tags\"].apply(convert_to_dict)\n",
    "genres_tag_df"
   ]
  },
  {
   "cell_type": "markdown",
   "metadata": {},
   "source": [
    "Để tiện cho việc xử lý các bước sau, ta tiến hành bỏ đi các dòng có giá trị NaN."
   ]
  },
  {
   "cell_type": "code",
   "execution_count": null,
   "metadata": {},
   "outputs": [],
   "source": [
    "print('Before:', genres_tag_df.shape[0])\n",
    "genres_tag_df = genres_tag_df.dropna()\n",
    "print('After:', genres_tag_df.shape[0])"
   ]
  },
  {
   "cell_type": "markdown",
   "metadata": {},
   "source": [
    "Có thể thấy số lượng các dòng bị bỏ đi là không đáng kể nên nhìn chung việc này sẽ không ảnh hưởng mấy đến kết quả cuối cùng."
   ]
  },
  {
   "cell_type": "markdown",
   "metadata": {},
   "source": [
    "**Bước 2:** Sau khi đã chuyển dữ liệu của cột Tags thành dictionary rồi thì ta tiến hành tính tổng số lượt tag của từng thể loại, lưu kết quả vào Series `tolal_num_tags` với mỗi dòng biểu thị số lượng tổng mỗi tag."
   ]
  },
  {
   "cell_type": "code",
   "execution_count": null,
   "metadata": {},
   "outputs": [],
   "source": [
    "c = Counter()\n",
    "def sum_tags(row):\n",
    "    c.update(row)\n",
    "    return row\n",
    "genres_tag_df[\"Tags\"].apply(sum_tags)\n",
    "total_num_tags = pd.Series(c, index = c.keys())\n",
    "total_num_tags = total_num_tags.sort_values(ascending = False)\n",
    "print(total_num_tags)\n",
    "print(len(total_num_tags))"
   ]
  },
  {
   "cell_type": "markdown",
   "metadata": {},
   "source": [
    "Ta có thể thấy được top 5 thể loại đang được người chơi để ý và công nhận nhất là `Action`, `Adventure`, `Indie`, `Singleplayer`, `Casual`"
   ]
  },
  {
   "cell_type": "markdown",
   "metadata": {},
   "source": [
    "**Bước 3:** Chấm điểm cho các game dựa vào độ tương đồng giữa thể loại chính thức và thể loại do người chơi tag. Đầu tiên ta tiến hành tính điểm như đã mô tả ở trên và lưu dữ liệu vào một Series có tên `score`."
   ]
  },
  {
   "cell_type": "code",
   "execution_count": null,
   "metadata": {},
   "outputs": [],
   "source": [
    "def scoring(row):\n",
    "    res = 0\n",
    "    genres = row[\"Genre\"]\n",
    "    tags = row[\"Tags\"]\n",
    "    for genre in genres:\n",
    "        if genre in tags.keys():\n",
    "            score = tags[genre] / sum(tags.values())\n",
    "        else:\n",
    "            score = 0\n",
    "        res += score\n",
    "    return res/len(genres)\n",
    "score = genres_tag_df.apply(scoring, axis = 1)\n",
    "print(score)\n",
    "print('Mean:', score.mean())"
   ]
  },
  {
   "cell_type": "markdown",
   "metadata": {},
   "source": [
    "Theo như ta thấy, điểm trung bình độ tương đồng có vẻ thấp. Một cách để giải thích cho việc này chính là các thể loại do chính người dùng tự định nghĩa và tag là rất đa dạng, ta có thể nhìn thấy, số lượng thể loại được tag lên đến hơn 400 thể loại khác nhau trong khi số lượng thể loại chính thức do chính nhà phát hành đưa ra chỉ đâu đó tầm 30 thể loại. \n",
    "Bây giờ ta cùng thử lọc ra các game có độ tương đồng lớn hơn 0.5 xem sao."
   ]
  },
  {
   "cell_type": "code",
   "execution_count": null,
   "metadata": {},
   "outputs": [],
   "source": [
    "gt05 = pd.Series(score.loc[score>=0.5])\n",
    "print(gt05)\n",
    "print(len(gt05)/len(score))"
   ]
  },
  {
   "cell_type": "markdown",
   "metadata": {},
   "source": [
    "Bây giờ ta cùng thử xem liệu các game có số lượng trên 0.5 có liên quan gì tới số lượng người sở hữu không"
   ]
  },
  {
   "cell_type": "markdown",
   "metadata": {},
   "source": [
    "Ta tạo một dataframe có hai cột là `Score` và `Owners` lần lượt là số điểm tương đồng và số lượng người sở hữu của game đó."
   ]
  },
  {
   "cell_type": "code",
   "execution_count": null,
   "metadata": {},
   "outputs": [],
   "source": [
    "owners = steam_df[\"Owners\"].apply(split_owner)\n",
    "score_owner_df = gt05.to_frame(name = \"Score\").join(owners)\n",
    "score_owner_df"
   ]
  },
  {
   "cell_type": "markdown",
   "metadata": {},
   "source": [
    "Tiếp đến, ta sẽ đếm số lượng đạt game 0.5 theo từng khoảng lượng người dùng."
   ]
  },
  {
   "cell_type": "code",
   "execution_count": null,
   "metadata": {},
   "outputs": [],
   "source": [
    "count_score_owner = score_owner_df.groupby([\"Owners\"])[\"Owners\"].count()\n",
    "count_score_owner"
   ]
  },
  {
   "cell_type": "markdown",
   "metadata": {},
   "source": [
    "Thử trực quan hóa kết quả bằng biểu đồ bar"
   ]
  },
  {
   "cell_type": "code",
   "execution_count": null,
   "metadata": {},
   "outputs": [],
   "source": [
    "ax = count_score_owner.plot.barh()\n",
    "ax.set_xlabel(\"Nums of games with high score\")\n",
    "ax.set_title(\"Nums of high score games according to owners range\")"
   ]
  },
  {
   "cell_type": "markdown",
   "metadata": {},
   "source": [
    "Qua đây có thể thấy được là game càng có nhiều người chơi thì điểm tương đồng càng ít, điều này là vì càng nhiều người chơi thì sẽ có càng nhiều tag và độ đa dạng của tag sẽ càng nhiều, từ đó khiến tới việc điểm tương đồng bị giảm"
   ]
  },
  {
   "cell_type": "markdown",
   "metadata": {},
   "source": [
    "### Câu 2: Phân tích các game được nhiều người sở hữu dựa trên dòng game, phân lớp của game và yếu tố giới thiệu game."
   ]
  },
  {
   "cell_type": "markdown",
   "metadata": {},
   "source": [
    "Nếu bản thân là một người muốn gia nhập ngành game và muốn khảo sát thị hiếu của người tiêu dùng của game hoặc muốn quảng bá cho game thì nên phát triển dòng game nào để khởi đầu an toàn, hoặc nên dùng những keyword nào để quảng bá cho game"
   ]
  },
  {
   "cell_type": "markdown",
   "metadata": {},
   "source": [
    "Bước 1: Chọn ra những đặc trưng cần thiết cần thiết.  \n",
    "Ở đây, em chọn ra genre, categories và short description của game"
   ]
  },
  {
   "cell_type": "code",
   "execution_count": null,
   "metadata": {},
   "outputs": [],
   "source": [
    "col = ['Genre', 'Categories', 'Short Description']\n",
    "option = ['200,000,000 .. 500,000,000', '50,000,000 .. 100,000,000', '20,000,000 .. 50,000,000', '10,000,000 .. 20,000,000', '5,000,000 .. 10,000,000', '2,000,000 .. 5,000,000']\n",
    "df = steam_df[col][steam_df.Owners.isin(option)].copy()"
   ]
  },
  {
   "cell_type": "markdown",
   "metadata": {},
   "source": [
    "Bước 2: Tiền xử lý song song với phân tích. Việc đơn giản là thống kê ra 5 dòng game và thể loại game được ưa chuộng nhất hiện nay."
   ]
  },
  {
   "cell_type": "code",
   "execution_count": null,
   "metadata": {},
   "outputs": [],
   "source": [
    "def split(x):\n",
    "    if x is np.nan:\n",
    "        return np.nan\n",
    "    return [i.strip() for i in x.split(',')]\n",
    "\n",
    "def convert_to_dict(x: list):\n",
    "    res = {}\n",
    "    if len(x) == 0:\n",
    "        return np.nan\n",
    "    for string in x:\n",
    "        key, val = string.split(': ')\n",
    "        res[key] = int(val)\n",
    "    return res\n",
    "\n",
    "genres = df.Genre.apply(split_genre).explode(ignore_index=True)\n",
    "genres_count = genres.value_counts()\n",
    "genres_count[:5]"
   ]
  },
  {
   "cell_type": "code",
   "execution_count": null,
   "metadata": {},
   "outputs": [],
   "source": [
    "categories = df.Categories.apply(split).explode(ignore_index=True)\n",
    "categories_count = categories.value_counts()\n",
    "categories_count"
   ]
  },
  {
   "cell_type": "markdown",
   "metadata": {},
   "source": [
    "Dễ thấy, các tựa game hành động, RPG hay chơi miễn phí chiếm số lượng lớn trong việc quyết định mua game của khách hàng.  \n",
    "Trong khi đó, phân loại game được ưa chuộng là đơn người chơi, đa người chơi và các hợp tác với nền tảng phát hành là Steam, nên từ đây nếu muốn phát hành game trên Steam thì nhà phát hành có thể cân nhắc đến việc hợp tác với Steam, đưa ra những sự kiện hấp dẫn người mua."
   ]
  },
  {
   "cell_type": "markdown",
   "metadata": {},
   "source": [
    "Bước 3: Phân tích những keyword nào trong lời mô tả của các game chiếm nhiều nhất."
   ]
  },
  {
   "cell_type": "markdown",
   "metadata": {},
   "source": [
    "Ở đây em sử dụng thống kê số học (TF-IDF) để thống kê các từ vựng có trong câu và tần suất các từ đó."
   ]
  },
  {
   "cell_type": "code",
   "execution_count": null,
   "metadata": {},
   "outputs": [],
   "source": [
    "from sklearn.feature_extraction.text import TfidfVectorizer\n",
    "vectorizer = TfidfVectorizer(stop_words='english', ngram_range=(1,2))\n",
    "\n",
    "X = vectorizer.fit_transform(df['Short Description'])\n",
    "k = pd.DataFrame(X.toarray(), columns=vectorizer.get_feature_names())"
   ]
  },
  {
   "cell_type": "markdown",
   "metadata": {},
   "source": [
    "Tiếp theo em dùng KMeans để tiến hành chia cụm cho những keyword vừa tìm được và tìm số cụm phù hợp bằng đánh giá Tổng bình phương kết hợp với phương pháp Elbow\n"
   ]
  },
  {
   "cell_type": "code",
   "execution_count": null,
   "metadata": {},
   "outputs": [],
   "source": [
    "from sklearn.cluster import KMeans\n",
    "sum_of_squared_distances = []\n",
    "# Kmeans clustering\n",
    "K = range(2,10)\n",
    "for k in K:\n",
    "    km = KMeans(n_clusters=k, max_iter=600, n_init=10)\n",
    "    km.fit(X)\n",
    "    sum_of_squared_distances.append(km.inertia_)"
   ]
  },
  {
   "cell_type": "code",
   "execution_count": null,
   "metadata": {},
   "outputs": [],
   "source": [
    "plt.plot(K, sum_of_squared_distances, 'bx-')\n",
    "plt.xlabel('Number of clusters')\n",
    "plt.ylabel('Sum of squared distances')\n",
    "plt.title('Elbow Method For Optimal k')\n",
    "plt.show()"
   ]
  },
  {
   "cell_type": "markdown",
   "metadata": {},
   "source": [
    "Ở đây, số cụm hầu như là tuyến tính nên bản thân em chọn 3 cụm để đưa ra nhiều góc nhìn về các keywords."
   ]
  },
  {
   "cell_type": "code",
   "execution_count": null,
   "metadata": {},
   "outputs": [],
   "source": [
    "# Get clusters\n",
    "true_k = 3\n",
    "model = KMeans(n_clusters=true_k, init='k-means++', max_iter=600, n_init=10)\n",
    "model.fit(X)\n",
    "\n",
    "# Get prediction/ labels\n",
    "labels = model.labels_\n",
    "game_cluster = pd.DataFrame(list(zip(df['Short Description'],labels)),columns=['title','cluster'])"
   ]
  },
  {
   "cell_type": "code",
   "execution_count": null,
   "metadata": {},
   "outputs": [],
   "source": [
    "from wordcloud import WordCloud\n",
    "\n",
    "for k in range(true_k):\n",
    "    text = game_cluster[game_cluster.cluster == k]['title'].str.cat(sep=' ')\n",
    "    wordcloud = WordCloud(max_font_size=50, background_color=\"white\").generate(text)\n",
    "\n",
    "   # Create subplot\n",
    "    plt.subplot(2, 3, k+1).set_title(\"Cluster \" + str(k)) \n",
    "    plt.plot()\n",
    "    plt.imshow(wordcloud, interpolation=\"bilinear\")\n",
    "    plt.axis(\"off\")\n",
    "plt.show()"
   ]
  },
  {
   "cell_type": "markdown",
   "metadata": {},
   "source": [
    "Các từ khóa trong wordcloud sẽ được quan tâm và đưa vào phần giới thiệu của game. Việc phân tích này còn giúp ích cho việc game dễ tìm kiếm hơn so với việc không thêm những keyword phổ biến."
   ]
  }
 ],
 "metadata": {
  "kernelspec": {
   "display_name": "Python 3 (ipykernel)",
   "language": "python",
   "name": "python3"
  },
  "language_info": {
   "codemirror_mode": {
    "name": "ipython",
    "version": 3
   },
   "file_extension": ".py",
   "mimetype": "text/x-python",
   "name": "python",
   "nbconvert_exporter": "python",
   "pygments_lexer": "ipython3",
   "version": "3.9.12"
  },
  "vscode": {
   "interpreter": {
    "hash": "8924efdbfc21def2df13188d4eada491bc755f59837026409ba181ab9c858a32"
   }
  }
 },
 "nbformat": 4,
 "nbformat_minor": 4
}
