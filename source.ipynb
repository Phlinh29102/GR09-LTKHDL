{
 "cells": [
  {
   "cell_type": "markdown",
   "metadata": {},
   "source": [
    "# Đồ án Thực Hành Lập Trình Khoa Học Dữ Liệu"
   ]
  },
  {
   "cell_type": "code",
   "execution_count": null,
   "metadata": {},
   "outputs": [],
   "source": [
    "import sys\n",
    "sys.executable"
   ]
  },
  {
   "cell_type": "markdown",
   "metadata": {},
   "source": [
    "## Import thư viện"
   ]
  },
  {
   "cell_type": "code",
   "execution_count": null,
   "metadata": {},
   "outputs": [],
   "source": [
    "import pandas as pd\n",
    "import matplotlib.pyplot as plt\n",
    "import numpy as np\n",
    "import datetime as dt\n",
    "import re"
   ]
  },
  {
   "cell_type": "markdown",
   "metadata": {},
   "source": [
    "## Thu thập dữ liệu"
   ]
  },
  {
   "cell_type": "markdown",
   "metadata": {},
   "source": [
    "- Nhóm sử dụng dữ liệu \"steam_games.csv\" được thu thập sẵn ở trên kaggle. Dữ liệu này là về các game hiện có ở trên steam. Nguồn của dữ liệu được lấy tại: https://www.kaggle.com/datasets/tristan581/all-55000-games-on-steam-november-2022\n",
    "- LICENSE của dữ liệu là [CC BY-SA 4.0](https://creativecommons.org/licenses/by-sa/4.0/), người dùng được phép sử dụng với mục đích phi thương mại và phải credit cho chủ sở hữu\n",
    "- Người ta đã thu thập dữ liệu này bằng cách sử dụng API của steam store và API của web thứ ba (steamspy.com)"
   ]
  },
  {
   "cell_type": "markdown",
   "metadata": {},
   "source": [
    "## Khám phá dữ liệu"
   ]
  },
  {
   "cell_type": "markdown",
   "metadata": {},
   "source": [
    "### Đọc dữ liệu vào dataframe"
   ]
  },
  {
   "cell_type": "code",
   "execution_count": null,
   "metadata": {},
   "outputs": [],
   "source": [
    "steam_df = pd.read_csv('steam_games.csv', sep = ';')\n",
    "steam_df.head()"
   ]
  },
  {
   "cell_type": "markdown",
   "metadata": {},
   "source": [
    "### Dữ liệu có bao nhiêu dòng, bao nhiêu cột?"
   ]
  },
  {
   "cell_type": "markdown",
   "metadata": {},
   "source": [
    "Tính số dòng và số cột lưu vào hai biến num_rows và num_cols"
   ]
  },
  {
   "cell_type": "code",
   "execution_count": null,
   "metadata": {},
   "outputs": [],
   "source": [
    "num_rows, num_cols = steam_df.shape\n",
    "num_rows, num_cols"
   ]
  },
  {
   "cell_type": "markdown",
   "metadata": {},
   "source": [
    "### Mỗi dòng có ý nghĩa gì? Có vấn đề các dòng có ý nghĩa khác nhau không?"
   ]
  },
  {
   "cell_type": "markdown",
   "metadata": {},
   "source": [
    "Mỗi dòng cho biết thông tin của từng sản phẩm hiện có trong steam, không có dòng nào có ý nghĩa khác với các dòng còn lại."
   ]
  },
  {
   "cell_type": "markdown",
   "metadata": {},
   "source": [
    "### Tiến hành kiểm tra các dòng có bị lặp không"
   ]
  },
  {
   "cell_type": "markdown",
   "metadata": {},
   "source": [
    "Kiểm tra bằng cách lưu kết quả vào biến `have_duplicated_rows`. Biến này có giá trị True nếu dữ liệu có các dòng bị lặp và False nếu ngược lại."
   ]
  },
  {
   "cell_type": "code",
   "execution_count": null,
   "metadata": {},
   "outputs": [],
   "source": [
    "duplicated_list = steam_df.duplicated()\n",
    "if True in duplicated_list:\n",
    "    have_duplicated_rows = True\n",
    "else:\n",
    "    have_duplicated_rows = False\n",
    "have_duplicated_rows"
   ]
  },
  {
   "cell_type": "markdown",
   "metadata": {},
   "source": [
    "Không có dòng nào bị lặp cả"
   ]
  },
  {
   "cell_type": "markdown",
   "metadata": {},
   "source": [
    "### Mỗi cột có ý nghĩa gì?"
   ]
  },
  {
   "cell_type": "markdown",
   "metadata": {},
   "source": [
    "Theo mô tả trên kaggle, các cột có ý nghĩa như sau:\n",
    "- App ID: ID của sản phẩm\n",
    "- Name: Tên sản phẩm\n",
    "- Short Description: Phần giới thiệu sản phẩm\n",
    "- Developer: Nhà phát triển sản phẩm\n",
    "- Publisher: Nhà phân phối sản phẩm\n",
    "- Genres: Các thể loại của sản phẩm\n",
    "- Tags: Các tag được gán cho sản phẩm (từ người dùng)\n",
    "- Type: Cho biết sản phẩm thuộc loại game hay là phần cứng (các phần mềm không phải game cũng được gán giá trị là game)\n",
    "- Categories: Các hạng mục/đặc trưng của sản phẩm\n",
    "- Owners: Số lượng người sở hữu sản phẩm\n",
    "- Positive Reviews: Số lượt đánh giá tích cực \n",
    "- Negative Reviews: Số lượt đánh giá tiêu cực\n",
    "- Price: Giá bán hiện tại của game (tính theo USD)\n",
    "- Initial Price: Giá bán của game thời điểm mới phát hành (USD)\n",
    "- Discount: Phần trăm giảm giá của game\n",
    "- CCU: Số lượng người chơi đồng thời cao nhất (tính vào ngày 8/11/2021)\n",
    "- Languages: Các ngôn ngữ mà sản phẩm có hỗ trợ\n",
    "- Platforms: Các nền tảng mà sản phẩm hỗ trợ\n",
    "- Release Date: Ngày phát hành sản phẩm\n",
    "- Required Age: Độ tuổi giới hạn\n",
    "- Website: Trang web của nhà phát triển/nhà phân phối\n",
    "- Header Image: Đường link lưu ảnh của sản phẩm"
   ]
  },
  {
   "cell_type": "markdown",
   "metadata": {},
   "source": [
    "### Mỗi cột hiện đang có kiểu dữ liệu gì? Có cột nào có kiểu dữ liệu chưa phù hợp để có thể xử lý tiếp hay không?"
   ]
  },
  {
   "cell_type": "code",
   "execution_count": null,
   "metadata": {},
   "outputs": [],
   "source": [
    "steam_df.columns"
   ]
  },
  {
   "cell_type": "markdown",
   "metadata": {},
   "source": [
    "- Lúc đọc dữ liệu từ \"steam_games.csv\", ta có thể thấy warning là:\"Columns (19) have mixed types.\", nghĩa là cột 19(Required Age) có dtype không đồng nhất.<br>\n",
    "- Release Date cần đưa về dạng datetime<br>"
   ]
  },
  {
   "cell_type": "code",
   "execution_count": null,
   "metadata": {},
   "outputs": [],
   "source": [
    "steam_df.head()"
   ]
  },
  {
   "cell_type": "code",
   "execution_count": null,
   "metadata": {},
   "outputs": [],
   "source": [
    "col_dtypes=steam_df.dtypes\n",
    "col_dtypes"
   ]
  },
  {
   "cell_type": "code",
   "execution_count": null,
   "metadata": {},
   "outputs": [],
   "source": [
    "steam_df['Required Age'].unique()"
   ]
  },
  {
   "cell_type": "code",
   "execution_count": null,
   "metadata": {},
   "outputs": [],
   "source": [
    "def open_object_dtype(s):\n",
    "    dtypes = set(s.apply(type))\n",
    "    return dtypes\n",
    "open_object_dtype(steam_df['Required Age'])\n",
    "# USK 0 =PEGI 3: phuf hopwj"
   ]
  },
  {
   "cell_type": "markdown",
   "metadata": {},
   "source": [
    "- Steam(*https://store.steampowered.com/*) là một nền tảng phân phối trực tuyến, quản lý bản quyền kỹ thuật số, trò chơi điện tử nhiều người chơi, và dịch vụ giao tiếp xã hội trên nền internet phát triển bởi Valve Corporation. Nên các trò chơi điện tử của các quốc gia khác nhau có giới hạn độ tuổi(**Required Age**) khác nhau, sau đây để dễ so sánh và tổng hợp, nhóm mình(em) xin được quy những giới hạn độ tuổi về thang PEGI(*https://pegi.info/what-do-the-labels-mean*).<br>\n",
    "- Ở cột **Requied Age** ta xử lý chuyển đổi thông tin thành dạng sau đây:<br>\n",
    "\t- 3(PEGI 3) – suitable for all ages, \n",
    "\t- 7(PEGI 7) – suitable for young children (age>=7)\n",
    "\t- 12(PEGI 12) – suitable for children 12 and over (age>=12)\n",
    "\t- 16(PEGI 16) – suitable for children 16 and over (age>=16)\n",
    "\t- 18(PEGI 18) – Only suitable for adults (age>=18)"
   ]
  },
  {
   "cell_type": "code",
   "execution_count": null,
   "metadata": {},
   "outputs": [],
   "source": [
    "def trans_age(type_age):\n",
    "    l_age=re.findall(r'\\d{1,2}',str(type_age))\n",
    "    age=int(l_age[0])\n",
    "    if age>=18:\n",
    "        return 18\n",
    "    elif age>=16:\n",
    "        return 16\n",
    "    elif age>=12:\n",
    "        return 12\n",
    "    elif age>=7:\n",
    "        return 7\n",
    "    return 3\n",
    "steam_df['Required Age']=steam_df['Required Age'].apply(trans_age)"
   ]
  },
  {
   "cell_type": "code",
   "execution_count": null,
   "metadata": {},
   "outputs": [],
   "source": [
    "# steam_df['Release Date']=pd.to_datetime(steam_df['Release Date'],format='%Y/%m/%d')\n",
    "steam_df['Release Date']=steam_df['Release Date'].astype('datetime64[s]')"
   ]
  },
  {
   "cell_type": "markdown",
   "metadata": {},
   "source": [
    "### Với mỗi cột, các giá trị được phân bố như thế nào?"
   ]
  },
  {
   "cell_type": "code",
   "execution_count": null,
   "metadata": {},
   "outputs": [],
   "source": [
    "#YOUR CODE HERE\n",
    "\n",
    "numeric_cols=steam_df[steam_df.select_dtypes(include=[int,'datetime64[ns]']).columns]\n",
    "\n",
    "def missing_ratio(col):\n",
    "    return np.round(col.isnull().sum()/len(col)*100,4)\n",
    "def min(col):\n",
    "    return col.min()\n",
    "def max(col):\n",
    "    return col.max()\n",
    "\n",
    "num_col_profiles_df=numeric_cols.agg([missing_ratio,min,max])\n",
    "num_col_profiles_df\n",
    "\n"
   ]
  },
  {
   "cell_type": "markdown",
   "metadata": {},
   "source": [
    "- Ta thực hiện kiểm tra giá trị phân bố của các biến object:\n",
    "\t- Với các cột **Name, Short Description,Website, Header Image** là những cột chứa thông tin đặc trưng của từng game, nên giá trị phân bố là trải rộng đều với nhau\n",
    "\t- Với cột **Tags** chứa thông tin của từng Genre của game nên ở đây ta cũng không xét phân bố như thế nào"
   ]
  },
  {
   "cell_type": "code",
   "execution_count": null,
   "metadata": {},
   "outputs": [],
   "source": [
    "steam_df.head()"
   ]
  },
  {
   "cell_type": "code",
   "execution_count": null,
   "metadata": {},
   "outputs": [],
   "source": [
    "# object_cols=steam_df[]\n",
    "# display(object_cols)\n",
    "object_cols=['Developer', 'Publisher', 'Genre', 'Type', 'Categories', 'Owners', 'Languages', 'Platforms']\n",
    "# steam_df.select_dtypes(include=[object]).columns\n",
    "print(object_cols)\n",
    "# def str_to_list(col):\n",
    "#     for i in col.index:\n",
    "#         if type(col.at[i])==str:\n",
    "#             col.at[i]=col.at[i].split(',')\n",
    "#     return col\n",
    "def split_str(st):\n",
    "    if not (st is np.nan):\n",
    "        return st.split(',')\n",
    "    return []"
   ]
  },
  {
   "cell_type": "markdown",
   "metadata": {},
   "source": [
    "<h3 style=\"color: orange\">Developer</h3>"
   ]
  },
  {
   "cell_type": "code",
   "execution_count": null,
   "metadata": {},
   "outputs": [],
   "source": [
    "pd.set_option(\"display.max_rows\",None)\n",
    "def lower_str(st):\n",
    "    if not (st is np.nan):\n",
    "        return st.lower()\n",
    "    return \"\"\n",
    "def convert_co_inc(st):\n",
    "    if not (st is np.nan):\n",
    "        st = re.sub(\" *ltd.?[ .]*\",\"ltd.,\", st)\n",
    "        st= re.sub(\" *inc.?[ .]*\",\"inc.,\", st)\n",
    "        st= re.sub(\" *llc.?[ .]*\",\"llc.,\", st)\n",
    "        return re.sub(r\" *, *(?!inc|ltd|llc)\",\";\", st)\n",
    "    return \"\"\n",
    "def split_dev(st):\n",
    "    if not (st is np.nan):\n",
    "        return st.split(';')\n",
    "    return []\n",
    "\n",
    "steam_df.Developer.apply(lower_str).apply(convert_co_inc).apply(split_dev).explode().replace(\"\",np.nan).value_counts()"
   ]
  },
  {
   "cell_type": "markdown",
   "metadata": {},
   "source": [
    "<h3 style=\"color: orange\">Publisher</h3>"
   ]
  },
  {
   "cell_type": "code",
   "execution_count": null,
   "metadata": {},
   "outputs": [],
   "source": [
    "steam_df.Publisher.apply(lower_str).apply(convert_co_inc).apply(split_dev).explode().replace(\"\",np.nan).value_counts()"
   ]
  },
  {
   "cell_type": "markdown",
   "metadata": {},
   "source": [
    "<h3 style=\"color: orange\">Genre</h3>"
   ]
  },
  {
   "cell_type": "code",
   "execution_count": null,
   "metadata": {},
   "outputs": [],
   "source": [
    "col=steam_df.Genre\n",
    "col=col.apply(split_str)\n",
    "col=col.explode()\n",
    "col=col.str.strip()\n",
    "ratio_value=col.value_counts(normalize=True).multiply(100)\n",
    "num_value=len(ratio_value)\n",
    "print(num_value)\n",
    "print(ratio_value)"
   ]
  },
  {
   "cell_type": "markdown",
   "metadata": {},
   "source": [
    "<h3 style=\"color: orange\">Type</h3>"
   ]
  },
  {
   "cell_type": "code",
   "execution_count": null,
   "metadata": {},
   "outputs": [],
   "source": [
    "ratio_value=steam_df.Type.value_counts(normalize=True).multiply(100)\n",
    "num_value=len(ratio_value)\n",
    "print(num_value)\n",
    "print(ratio_value)"
   ]
  },
  {
   "cell_type": "markdown",
   "metadata": {},
   "source": [
    "<h3 style=\"color: orange\">Categories</h3>"
   ]
  },
  {
   "cell_type": "code",
   "execution_count": null,
   "metadata": {},
   "outputs": [],
   "source": [
    "col=steam_df.Categories\n",
    "col=col.apply(split_str)\n",
    "col=col.explode()\n",
    "col=col.str.strip()\n",
    "ratio_value=col.value_counts(normalize=True).multiply(100)\n",
    "num_value=len(ratio_value)\n",
    "print(num_value)\n",
    "print(ratio_value)"
   ]
  },
  {
   "cell_type": "markdown",
   "metadata": {},
   "source": [
    "<h3 style=\"color: orange\">Owners</h3>"
   ]
  },
  {
   "cell_type": "code",
   "execution_count": null,
   "metadata": {},
   "outputs": [],
   "source": [
    "def split_owner(st):\n",
    "    if not(st is np.nan):\n",
    "        st=st.replace(',','')\n",
    "        value=st.split('..')\n",
    "        return [int(value[0]),int(value[1])]\n",
    "    return np.nan\n",
    "ratio_value=steam_df.Owners.apply(split_owner).value_counts(normalize=True).multiply(100)\n",
    "num_value=len(ratio_value)\n",
    "print(num_value)\n",
    "print(ratio_value)"
   ]
  },
  {
   "cell_type": "markdown",
   "metadata": {},
   "source": [
    "<h3 style=\"color: orange\">Languages</h3>"
   ]
  },
  {
   "cell_type": "code",
   "execution_count": null,
   "metadata": {},
   "outputs": [],
   "source": [
    "def clean_lang(lang_str):\n",
    "    if not (lang_str is np.nan):\n",
    "        return lang_str.replace('\\r\\n',',').replace('[b]*[/b]','').replace(';','').replace('#lang_slovakian', 'Slovak')\n",
    "    return \"\"\n",
    "\n",
    "col=steam_df.Languages\n",
    "# Xử lý dữ liệu\n",
    "col=col.apply(clean_lang).apply(split_str)\n",
    "col=col.explode()\n",
    "col=col.str.strip()\n",
    "col=col.apply(lambda st: st.split('-')[0].strip())\n",
    "col=col.replace('',np.nan)\n",
    "\n",
    "# Xem các giá trị trong cột được phân bố như thế nào\n",
    "ratio_value=col.value_counts(normalize=True).multiply(100)\n",
    "num_value=len(ratio_value)\n",
    "print(num_value)\n",
    "print(ratio_value)"
   ]
  },
  {
   "cell_type": "markdown",
   "metadata": {},
   "source": [
    "<h3 style=\"color: orange\">Platforms</h3>"
   ]
  },
  {
   "cell_type": "code",
   "execution_count": null,
   "metadata": {},
   "outputs": [],
   "source": [
    "col = steam_df['Platforms']\n",
    "col=col.apply(split_str)\n",
    "col=col.explode()\n",
    "col=col.str.strip()\n",
    "ratio_value=col.value_counts(normalize=True).multiply(100)\n",
    "num_value=len(ratio_value)\n",
    "print(num_value)\n",
    "print(ratio_value)"
   ]
  },
  {
   "cell_type": "markdown",
   "metadata": {},
   "source": [
    "## Đưa ra các câu hỏi"
   ]
  },
  {
   "cell_type": "markdown",
   "metadata": {},
   "source": [
    "YOUR TEXT HERE"
   ]
  },
  {
   "cell_type": "markdown",
   "metadata": {},
   "source": [
    "## Tiền xử lý và phân tích dữ liệu để trả lời cho từng câu hỏi"
   ]
  },
  {
   "cell_type": "markdown",
   "metadata": {},
   "source": []
  }
 ],
 "metadata": {
  "kernelspec": {
   "display_name": "Python 3 (ipykernel)",
   "language": "python",
   "name": "python3"
  },
  "language_info": {
   "codemirror_mode": {
    "name": "ipython",
    "version": 3
   },
   "file_extension": ".py",
   "mimetype": "text/x-python",
   "name": "python",
   "nbconvert_exporter": "python",
   "pygments_lexer": "ipython3",
   "version": "3.8.8"
  },
  "vscode": {
   "interpreter": {
    "hash": "8924efdbfc21def2df13188d4eada491bc755f59837026409ba181ab9c858a32"
   }
  }
 },
 "nbformat": 4,
 "nbformat_minor": 2
}
